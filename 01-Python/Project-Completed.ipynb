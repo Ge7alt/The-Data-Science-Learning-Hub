{
 "cells": [
  {
   "cell_type": "markdown",
   "id": "a9dedf00",
   "metadata": {},
   "source": [
    "# Problem Statement\n",
    "\n",
    "We want to build an online shopping cart system that allows users to add products to their cart, calculate the total cost, apply discounts, and generate an invoice. The system should include the following functionalities:\n",
    "\n",
    "- Adding products to the cart\n",
    "- Removing products from the cart\n",
    "- Calculating the total cost\n",
    "- Applying discounts based on user type\n",
    "- Generating an invoice\n",
    "\n",
    "### 1. Create the Product class\n",
    "\n",
    "We create a basic `Product` class with attributes for the product name and price."
   ]
  },
  {
   "cell_type": "code",
   "execution_count": 1,
   "id": "01fbde25",
   "metadata": {},
   "outputs": [],
   "source": [
    "class Product:\n",
    "    def __init__(self, name, price):\n",
    "        self.name = name\n",
    "        self.price = price"
   ]
  },
  {
   "cell_type": "markdown",
   "id": "348ef725",
   "metadata": {},
   "source": [
    "### 2.  Implement the User class\n",
    "\n",
    "In this step, we create a `User` class with attributes for the user's name and whether they are a premium member. We then modify the `calculate_total_cost` method in the `ShoppingCart` class to apply a `10%` discount for premium users."
   ]
  },
  {
   "cell_type": "code",
   "execution_count": 2,
   "id": "bf02da16",
   "metadata": {},
   "outputs": [],
   "source": [
    "class User:\n",
    "    users = []  # Class variable to store all created users\n",
    "\n",
    "    def __init__(self, name):\n",
    "        self.name = self.validate_name(name)\n",
    "        self.__is_premium = False\n",
    "        self.__is_admin = False\n",
    "        self.cart = ShoppingCart()\n",
    "        User.users.append(self)  # Add the user to the list of users\n",
    "        if self.name == 'admin':\n",
    "            self.__is_premium = True\n",
    "            self.__is_admin = True\n",
    "\n",
    "    @staticmethod\n",
    "    def validate_name(name):\n",
    "        if any(user.name == name for user in User.users):\n",
    "            print(f\"User with the name '{name}' already exists. Please choose a different name.\")\n",
    "            unique_name = input(\"Please enter a unique name: \")\n",
    "            return User.validate_name(unique_name)  # Recursively validate the unique name\n",
    "        return name\n",
    "    \n",
    "    @property\n",
    "    def is_admin(self):\n",
    "        return self.__is_admin\n",
    "    \n",
    "    @property\n",
    "    def is_premium(self):\n",
    "        return self.__is_premium\n",
    "\n",
    "    def make_admin(self, admin_user):\n",
    "        if admin_user.is_admin:\n",
    "            self.__is_admin = True\n",
    "            \n",
    "    def make_premium(self, admin_user):\n",
    "        if admin_user.is_admin:\n",
    "            self.__is_premium = True"
   ]
  },
  {
   "cell_type": "markdown",
   "id": "d15c569c",
   "metadata": {},
   "source": [
    "### 3. Create the ShoppingCart class\n",
    "\n",
    "In this step, we create a `ShoppingCart` class with methods for adding and removing products from the cart, as well as calculating the total cost of the items in the cart."
   ]
  },
  {
   "cell_type": "code",
   "execution_count": 3,
   "id": "d205eeec",
   "metadata": {},
   "outputs": [],
   "source": [
    "def discount_10_percent(func):\n",
    "    def wrapper(self):\n",
    "        total_cost = func(self)\n",
    "        discounted_cost = total_cost * 0.9\n",
    "        return discounted_cost\n",
    "    return wrapper"
   ]
  },
  {
   "cell_type": "markdown",
   "id": "f9794847",
   "metadata": {},
   "source": [
    "Here, we defined a decorator `discount_10_percent` that applies a `10%` discount to the total cost. We then apply this decorator to the `calculate_total_cost` method in the `ShoppingCart` class."
   ]
  },
  {
   "cell_type": "code",
   "execution_count": 4,
   "id": "7b52e829",
   "metadata": {},
   "outputs": [],
   "source": [
    "class ShoppingCart:\n",
    "    def __init__(self):\n",
    "        self.products = []\n",
    "\n",
    "    def add_product(self, product):\n",
    "        self.products.append(product)\n",
    "\n",
    "    def remove_product(self, product):\n",
    "        self.products.remove(product)\n",
    "\n",
    "    def calculate_total_cost(self):\n",
    "        total_cost = sum(product.price for product in self.products)\n",
    "        return total_cost\n",
    "    \n",
    "    @discount_10_percent\n",
    "    def calculate_discounted_cost(self):\n",
    "        total_cost = sum(product.price for product in self.products)\n",
    "        return total_cost\n",
    "    \n",
    "    def generate_invoice(self, user):\n",
    "        invoice = f\"Invoice for {user.name}:\\n\"\n",
    "        invoice += \"=======================\\n\"\n",
    "        for product in self.products:\n",
    "            invoice += f\"{product.name}: ${product.price}\\n\"\n",
    "        total_cost = self.calculate_total_cost()\n",
    "        if user.is_premium:\n",
    "            invoice += \"-----------------------\\n\"\n",
    "            invoice += f\"Sub-Total: ${total_cost}\\n\"\n",
    "            final_cost = self.calculate_discounted_cost()\n",
    "            invoice += f\"Discount (10%): ${total_cost - final_cost}\\n\"\n",
    "            total_cost = final_cost\n",
    "        invoice += \"-----------------------\\n\"\n",
    "        invoice += f\"Total: ${total_cost}\"\n",
    "        return invoice\n",
    "\n",
    "    def get_products(self):\n",
    "        yield from self.products"
   ]
  },
  {
   "cell_type": "markdown",
   "id": "6928bc94",
   "metadata": {},
   "source": [
    "### 4. Testing the functionality\n",
    "\n",
    "Now that we have implemented the necessary classes and methods, let's test our online shopping cart system:"
   ]
  },
  {
   "cell_type": "code",
   "execution_count": 5,
   "id": "cad892b9",
   "metadata": {},
   "outputs": [
    {
     "name": "stdout",
     "output_type": "stream",
     "text": [
      "Product: Shirt, Price: 20\n",
      "Product: Pants, Price: 30\n"
     ]
    }
   ],
   "source": [
    "# Create some products\n",
    "product1 = Product(\"Shirt\", 20)\n",
    "product2 = Product(\"Pants\", 30)\n",
    "product3 = Product(\"Shoes\", 50)\n",
    "\n",
    "# Create a shopping cart\n",
    "cart = ShoppingCart()\n",
    "\n",
    "# Add products to the cart\n",
    "cart.add_product(product1)\n",
    "cart.add_product(product2)\n",
    "\n",
    "# Use the generator to iterate over the products\n",
    "for product in cart.get_products():\n",
    "    print(f\"Product: {product.name}, Price: {product.price}\")"
   ]
  },
  {
   "cell_type": "markdown",
   "id": "cedd0634",
   "metadata": {},
   "source": [
    "### 5. Create an admin user"
   ]
  },
  {
   "cell_type": "code",
   "execution_count": 6,
   "id": "494a5238",
   "metadata": {},
   "outputs": [],
   "source": [
    "admin = User('admin')"
   ]
  },
  {
   "cell_type": "code",
   "execution_count": 7,
   "id": "7d60c6eb",
   "metadata": {},
   "outputs": [
    {
     "name": "stdout",
     "output_type": "stream",
     "text": [
      "True\n",
      "True\n"
     ]
    }
   ],
   "source": [
    "print(admin.is_admin)\n",
    "print(admin.is_premium)"
   ]
  },
  {
   "cell_type": "markdown",
   "id": "2feefd95",
   "metadata": {},
   "source": [
    "### 6. Generating Invoice for a regular user"
   ]
  },
  {
   "cell_type": "code",
   "execution_count": 8,
   "id": "de69e82e",
   "metadata": {},
   "outputs": [
    {
     "name": "stdout",
     "output_type": "stream",
     "text": [
      "Invoice for rita:\n",
      "=======================\n",
      "Shirt: $20\n",
      "Pants: $30\n",
      "-----------------------\n",
      "Total: $50\n"
     ]
    }
   ],
   "source": [
    "# Create a user\n",
    "user = User(\"rita\")\n",
    "\n",
    "# Add product to cart\n",
    "user.cart.add_product(product1)\n",
    "user.cart.add_product(product2)\n",
    "\n",
    "# Generate and print the invoice\n",
    "invoice = user.cart.generate_invoice(user)\n",
    "print(invoice)"
   ]
  },
  {
   "cell_type": "markdown",
   "id": "173e27d3",
   "metadata": {},
   "source": [
    "### 7. Generating Invoice for a premium user"
   ]
  },
  {
   "cell_type": "code",
   "execution_count": 9,
   "id": "10cfeef0",
   "metadata": {},
   "outputs": [
    {
     "name": "stdout",
     "output_type": "stream",
     "text": [
      "Invoice for john:\n",
      "=======================\n",
      "Shirt: $20\n",
      "Pants: $30\n",
      "Shoes: $50\n",
      "-----------------------\n",
      "Sub-Total: $100\n",
      "Discount (10%): $10.0\n",
      "-----------------------\n",
      "Total: $90.0\n"
     ]
    }
   ],
   "source": [
    "# Create a user\n",
    "user = User(\"john\")\n",
    "\n",
    "# Make this user a premium user\n",
    "user.make_premium(admin)\n",
    "\n",
    "# Add product to cart\n",
    "user.cart.add_product(product1)\n",
    "user.cart.add_product(product2)\n",
    "user.cart.add_product(product3)\n",
    "\n",
    "# Generate and print the invoice\n",
    "invoice = user.cart.generate_invoice(user)\n",
    "print(invoice)"
   ]
  }
 ],
 "metadata": {
  "kernelspec": {
   "display_name": "Python 3 (ipykernel)",
   "language": "python",
   "name": "python3"
  },
  "language_info": {
   "codemirror_mode": {
    "name": "ipython",
    "version": 3
   },
   "file_extension": ".py",
   "mimetype": "text/x-python",
   "name": "python",
   "nbconvert_exporter": "python",
   "pygments_lexer": "ipython3",
   "version": "3.10.6"
  }
 },
 "nbformat": 4,
 "nbformat_minor": 5
}
