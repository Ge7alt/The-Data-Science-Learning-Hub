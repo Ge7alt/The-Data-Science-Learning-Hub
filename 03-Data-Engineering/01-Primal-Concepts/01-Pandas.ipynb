{
 "cells": [
  {
   "cell_type": "markdown",
   "metadata": {},
   "source": [
    "# Pandas\n",
    "\n",
    "Pandas is an open-source data analysis and manipulation library for Python. It provides easy-to-use data structures and data analysis tools to work with structured data seamlessly. The two primary data structures provided by Pandas are:\n",
    "\n",
    "- `Series`: A one-dimensional array-like object that can hold any data type such as integers, strings, floating-point numbers, and Python objects.\n",
    "- `DataFrame`: A two-dimensional table-like data structure that consists of rows and columns. It can be thought of as a spreadsheet or SQL table.\n",
    "\n",
    "In addition to these data structures, Pandas also provides various tools for data manipulation, such as merging, grouping, and reshaping data.\n",
    "\n",
    "## Installing Pandas\n",
    "\n",
    "Before we get started, let's first make sure that Pandas is installed. You can install Pandas using `pip` by running the command `pip3 install pandas` in your terminal. You can also install it directly here using:"
   ]
  },
  {
   "cell_type": "code",
   "execution_count": 1,
   "metadata": {},
   "outputs": [],
   "source": [
    "# !pip3 install pandas"
   ]
  },
  {
   "cell_type": "markdown",
   "metadata": {},
   "source": [
    "## Creating DataFrame\n",
    "\n",
    "To create a DataFrame, you can use the `pd.DataFrame()` function and pass in your data as a Python dictionary or a list of lists."
   ]
  },
  {
   "cell_type": "code",
   "execution_count": 2,
   "metadata": {},
   "outputs": [
    {
     "name": "stdout",
     "output_type": "stream",
     "text": [
      "<class 'pandas.core.frame.DataFrame'>\n",
      "<class 'pandas.core.frame.DataFrame'>\n"
     ]
    }
   ],
   "source": [
    "import pandas as pd\n",
    "\n",
    "# create a DataFrame from a dictionary\n",
    "data = {'name': ['Alice', 'Bob', 'Charlie'], 'age': [25, 30, 35]}\n",
    "df = pd.DataFrame(data)\n",
    "print(type(df))\n",
    "\n",
    "# create a DataFrame from a list of lists\n",
    "data = [['Alice', 25], ['Bob', 30], ['Charlie', 35]]\n",
    "df = pd.DataFrame(data, columns=['name', 'age'])\n",
    "print(type(df))"
   ]
  },
  {
   "cell_type": "markdown",
   "metadata": {},
   "source": [
    "## Accessing Data\n",
    "\n",
    "You can access data in a DataFrame using various methods. Here are some common ones:\n",
    "\n",
    "### Indexing\n",
    "\n",
    "- `df[col_name]`: Access a single column by column name. Return-Type: Series.\n",
    "- `df[[col1, col2, ...]]`: Access multiple columns by column name. Return-Type: DataFrame."
   ]
  },
  {
   "cell_type": "code",
   "execution_count": 3,
   "metadata": {
    "scrolled": true
   },
   "outputs": [
    {
     "name": "stdout",
     "output_type": "stream",
     "text": [
      "Accessing a single column:\n",
      " 0      Alice\n",
      "1        Bob\n",
      "2    Charlie\n",
      "Name: name, dtype: object \n",
      "\n",
      "Accessing a multiple columns:\n",
      "       name  age\n",
      "0    Alice   25\n",
      "1      Bob   30\n",
      "2  Charlie   35 \n",
      "\n"
     ]
    }
   ],
   "source": [
    "print(f\"Accessing a single column:\\n {df['name']} \\n\")\n",
    "print(f\"Accessing a multiple columns:\\n {df[['name', 'age']]} \\n\")"
   ]
  },
  {
   "cell_type": "markdown",
   "metadata": {},
   "source": [
    "### Condition based Filtering\n",
    "\n",
    "- `df[condition]`: Filter data based on the given condition"
   ]
  },
  {
   "cell_type": "code",
   "execution_count": 4,
   "metadata": {},
   "outputs": [
    {
     "name": "stdout",
     "output_type": "stream",
     "text": [
      "Age greater than 30:\n",
      "       name  age\n",
      "2  Charlie   35 \n",
      "\n",
      "Name included within the given list:\n",
      "   name  age\n",
      "1  Bob   30 \n",
      "\n",
      "Name starting with A and age above 25:\n",
      " Empty DataFrame\n",
      "Columns: [name, age]\n",
      "Index: []\n"
     ]
    }
   ],
   "source": [
    "print(\"Age greater than 30:\\n\", df[df['age'] > 30], \"\\n\")\n",
    "print(\"Name included within the given list:\\n\", df[df['name'].isin(['Bob', 'Marlie'])], \"\\n\")\n",
    "print(\"Name starting with A and age above 25:\\n\", df[df['name'].str.startswith('A') & (df['age'] > 25)])"
   ]
  },
  {
   "cell_type": "markdown",
   "metadata": {},
   "source": [
    "### Methods\n",
    " In Pandas, there are three main indexing methods to access data in a DataFrame: `loc`, `iloc`, and `at`.\n",
    " \n",
    "- `df.loc[]`: Access data in a DataFrame using labels. It takes two parameters, the row label(s) and column label(s), and returns a subset of the original DataFrame. \n",
    "- `df.iloc[]`: Access data in a DataFrame using integer-based indexing. It takes two parameters, the row index(es) and column index(es), and returns a subset of the original DataFrame.\n",
    "- `df.at[]`: Access a single cell in a DataFrame using labels. It is similar to `df.loc`, but is optimized for accessing a single cell."
   ]
  },
  {
   "cell_type": "code",
   "execution_count": 5,
   "metadata": {},
   "outputs": [
    {
     "name": "stdout",
     "output_type": "stream",
     "text": [
      "Accessing a single cell by label: Alice\n",
      "Accessing multiple rows and columns by label:\n",
      "       name  age\n",
      "1      Bob   30\n",
      "2  Charlie   35 \n",
      "\n",
      "Accessing a single cell by index: Alice\n",
      "Accessing multiple rows and columns by index:\n",
      "       name  age\n",
      "1      Bob   30\n",
      "2  Charlie   35 \n",
      "\n",
      "Accessing a single cell by label: Alice\n"
     ]
    }
   ],
   "source": [
    "print(f\"Accessing a single cell by label: {df.loc[0, 'name']}\")\n",
    "print(f\"Accessing multiple rows and columns by label:\\n {df.loc[1:3, ['name', 'age']]} \\n\")\n",
    "\n",
    "print(f\"Accessing a single cell by index: {df.iloc[0, 0]}\")\n",
    "print(f\"Accessing multiple rows and columns by index:\\n {df.iloc[1:3, [0, 1]]} \\n\")\n",
    "\n",
    "print(f\"Accessing a single cell by label: {df.at[0, 'name']}\")"
   ]
  },
  {
   "cell_type": "markdown",
   "metadata": {},
   "source": [
    "## Reading Data\n",
    "\n",
    "Pandas can read data from a variety of sources, including CSV files, Excel spreadsheets, SQL databases, and more. Here are some common ways to read data using Pandas:\n",
    "\n",
    "- `pd.read_csv(file_path, delimiter=',')`: Reads CSV (Comma Separated Value) file and returns a Pandas DataFrame\n",
    "    - *file_path*: Path to csv file\n",
    "    - *delimiter*: Symbol separating different columns (default=',')\n",
    "- `pd.read_excel(file_path, sheet_name=0)`: Reads excel file and returns a Pandas DataFrame\n",
    "    - *file_path*: Path to excel file\n",
    "    - *sheet_name*: Name or Index of List of excel sheet(s) to use (default=0)\n",
    "- `pd.read_sql(query, conn)`: Read data from SQL databases. To do this, you first need to establish a connection to the database using a database driver such as `sqlite3` or `pymysql`.\n",
    "    - *query*: SQL query\n",
    "    - *conn*: Connection to SQL database\n",
    "    \n",
    "```python\n",
    "import sqlite3\n",
    "\n",
    "conn = sqlite3.connect('database.db')\n",
    "query = 'SELECT * FROM my_table'\n",
    "df = pd.read_sql(query, conn)\n",
    "```"
   ]
  },
  {
   "cell_type": "code",
   "execution_count": 6,
   "metadata": {},
   "outputs": [],
   "source": [
    "import pandas as pd\n",
    "\n",
    "data_path = './../data/HR-Analytics.csv'\n",
    "data = pd.read_csv(data_path)"
   ]
  },
  {
   "cell_type": "markdown",
   "metadata": {},
   "source": [
    "## Writing Data\n",
    "\n",
    "Similar to reading data from files, pandas provides several methods to write data to various file formats such as CSV, Excel, JSON, SQL, and more.\n",
    "\n",
    "- `pd.to_csv(file_path, index)`: Writes Pandas DataFrame to csv file\n",
    "    - *file_path*: Expected path to write csv file\n",
    "    - *index*: If you want to add an extra column with row-wise indexing? (default=True)\n",
    "- `pd.to_excel(file_path, index)`: Writes Pandas DataFrame to excel file\n",
    "- `df.to_sql(table_name, conn, if_exists, index)`:\n",
    "    - *table_name*: Database table name to write data into\n",
    "    - *conn*: Connection to SQL database\n",
    "    - *if_exists*: What if the table already exists? Options: {'fail', 'replace', 'append'} (default='fail')\n",
    "\n",
    "\n",
    "```python\n",
    "import sqlite3\n",
    "\n",
    "conn = sqlite3.connect('my_database.db')\n",
    "df.to_sql('my_table', conn, if_exists='replace', index=False)\n",
    "conn.close()\n",
    "```"
   ]
  },
  {
   "cell_type": "code",
   "execution_count": 7,
   "metadata": {},
   "outputs": [],
   "source": [
    "import pandas as pd\n",
    "\n",
    "data = pd.DataFrame({'name': ['Alice', 'Bob'], 'age': [25, 30]})\n",
    "data.to_csv('./../data/data.csv', index=False) # index=False to not write index"
   ]
  },
  {
   "cell_type": "markdown",
   "metadata": {},
   "source": [
    "## Exploring Data\n",
    "\n",
    "- `df.head()`: Returns the first few rows (default=5) of the DataFrame\n",
    "- `df.tail()`: Returns the last few rows (default=5) of the DataFrame\n",
    "- `df.info()`: Returns information about the DataFrame\n",
    "- `df.describe()`: Returns descriptive statistics for the numerical columns in the DataFrame\n",
    "- `df.shape`: Returns shape of the DataFrame\n",
    "- `df.isnull()`: Check for missing values"
   ]
  },
  {
   "cell_type": "code",
   "execution_count": 8,
   "metadata": {},
   "outputs": [
    {
     "name": "stdout",
     "output_type": "stream",
     "text": [
      "    name  age\n",
      "0  Alice   25\n",
      "1    Bob   30\n"
     ]
    }
   ],
   "source": [
    "print(df.head(2))"
   ]
  },
  {
   "cell_type": "code",
   "execution_count": 9,
   "metadata": {},
   "outputs": [
    {
     "name": "stdout",
     "output_type": "stream",
     "text": [
      "      name  age\n",
      "1      Bob   30\n",
      "2  Charlie   35\n"
     ]
    }
   ],
   "source": [
    "print(df.tail(2))"
   ]
  },
  {
   "cell_type": "code",
   "execution_count": 10,
   "metadata": {},
   "outputs": [
    {
     "name": "stdout",
     "output_type": "stream",
     "text": [
      "<class 'pandas.core.frame.DataFrame'>\n",
      "RangeIndex: 3 entries, 0 to 2\n",
      "Data columns (total 2 columns):\n",
      " #   Column  Non-Null Count  Dtype \n",
      "---  ------  --------------  ----- \n",
      " 0   name    3 non-null      object\n",
      " 1   age     3 non-null      int64 \n",
      "dtypes: int64(1), object(1)\n",
      "memory usage: 176.0+ bytes\n",
      "None\n"
     ]
    }
   ],
   "source": [
    "print(df.info())"
   ]
  },
  {
   "cell_type": "code",
   "execution_count": 11,
   "metadata": {},
   "outputs": [
    {
     "name": "stdout",
     "output_type": "stream",
     "text": [
      "        age\n",
      "count   3.0\n",
      "mean   30.0\n",
      "std     5.0\n",
      "min    25.0\n",
      "25%    27.5\n",
      "50%    30.0\n",
      "75%    32.5\n",
      "max    35.0\n"
     ]
    }
   ],
   "source": [
    "print(df.describe())"
   ]
  },
  {
   "cell_type": "code",
   "execution_count": 12,
   "metadata": {},
   "outputs": [
    {
     "name": "stdout",
     "output_type": "stream",
     "text": [
      "    name    age\n",
      "0  False  False\n",
      "1  False  False\n",
      "2  False  False\n"
     ]
    }
   ],
   "source": [
    "print(df.isnull())"
   ]
  },
  {
   "cell_type": "code",
   "execution_count": 13,
   "metadata": {},
   "outputs": [
    {
     "name": "stdout",
     "output_type": "stream",
     "text": [
      "(3, 2)\n"
     ]
    }
   ],
   "source": [
    "print(df.shape)"
   ]
  },
  {
   "cell_type": "code",
   "execution_count": 14,
   "metadata": {},
   "outputs": [
    {
     "name": "stdout",
     "output_type": "stream",
     "text": [
      "Mean Age: 30.0\n",
      "Median Age: 30.0\n",
      "Standard Deviation of Age: 5.0\n"
     ]
    }
   ],
   "source": [
    "print(\"Mean Age:\", df[\"age\"].mean())\n",
    "print(\"Median Age:\", df[\"age\"].median())\n",
    "print(\"Standard Deviation of Age:\", df[\"age\"].std())"
   ]
  },
  {
   "cell_type": "markdown",
   "metadata": {},
   "source": [
    "## Data Manipulation\n",
    "\n",
    "Data manipulation is an important aspect of data analysis, and Pandas provides a powerful set of tools for this purpose. In this tutorial, we will cover some advanced techniques for data manipulation using Pandas.\n",
    "\n",
    "### Indexing\n",
    "\n",
    "- `df.at[row_idx, col_name] = value`: Assign a new value to a single cell\n",
    "- `df[col_name] = list or single value`: Assign a new value to a column. If a single value is provided, same value is assigned to all the rows of the given column\n",
    "\n",
    "You can make similar use of `loc` and `iloc` as shown above to assign new values to the DataFrame."
   ]
  },
  {
   "cell_type": "code",
   "execution_count": 15,
   "metadata": {},
   "outputs": [
    {
     "data": {
      "text/html": [
       "<div>\n",
       "<style scoped>\n",
       "    .dataframe tbody tr th:only-of-type {\n",
       "        vertical-align: middle;\n",
       "    }\n",
       "\n",
       "    .dataframe tbody tr th {\n",
       "        vertical-align: top;\n",
       "    }\n",
       "\n",
       "    .dataframe thead th {\n",
       "        text-align: right;\n",
       "    }\n",
       "</style>\n",
       "<table border=\"1\" class=\"dataframe\">\n",
       "  <thead>\n",
       "    <tr style=\"text-align: right;\">\n",
       "      <th></th>\n",
       "      <th>name</th>\n",
       "      <th>age</th>\n",
       "    </tr>\n",
       "  </thead>\n",
       "  <tbody>\n",
       "    <tr>\n",
       "      <th>0</th>\n",
       "      <td>Alice</td>\n",
       "      <td>26</td>\n",
       "    </tr>\n",
       "    <tr>\n",
       "      <th>1</th>\n",
       "      <td>Bob</td>\n",
       "      <td>30</td>\n",
       "    </tr>\n",
       "    <tr>\n",
       "      <th>2</th>\n",
       "      <td>Charlie</td>\n",
       "      <td>35</td>\n",
       "    </tr>\n",
       "  </tbody>\n",
       "</table>\n",
       "</div>"
      ],
      "text/plain": [
       "      name  age\n",
       "0    Alice   26\n",
       "1      Bob   30\n",
       "2  Charlie   35"
      ]
     },
     "execution_count": 15,
     "metadata": {},
     "output_type": "execute_result"
    }
   ],
   "source": [
    "df.at[0, 'age'] = 26\n",
    "df.head()"
   ]
  },
  {
   "cell_type": "code",
   "execution_count": 16,
   "metadata": {},
   "outputs": [
    {
     "data": {
      "text/html": [
       "<div>\n",
       "<style scoped>\n",
       "    .dataframe tbody tr th:only-of-type {\n",
       "        vertical-align: middle;\n",
       "    }\n",
       "\n",
       "    .dataframe tbody tr th {\n",
       "        vertical-align: top;\n",
       "    }\n",
       "\n",
       "    .dataframe thead th {\n",
       "        text-align: right;\n",
       "    }\n",
       "</style>\n",
       "<table border=\"1\" class=\"dataframe\">\n",
       "  <thead>\n",
       "    <tr style=\"text-align: right;\">\n",
       "      <th></th>\n",
       "      <th>name</th>\n",
       "      <th>age</th>\n",
       "      <th>height</th>\n",
       "    </tr>\n",
       "  </thead>\n",
       "  <tbody>\n",
       "    <tr>\n",
       "      <th>0</th>\n",
       "      <td>Alice</td>\n",
       "      <td>26</td>\n",
       "      <td>165</td>\n",
       "    </tr>\n",
       "    <tr>\n",
       "      <th>1</th>\n",
       "      <td>Bob</td>\n",
       "      <td>30</td>\n",
       "      <td>180</td>\n",
       "    </tr>\n",
       "    <tr>\n",
       "      <th>2</th>\n",
       "      <td>Charlie</td>\n",
       "      <td>35</td>\n",
       "      <td>175</td>\n",
       "    </tr>\n",
       "  </tbody>\n",
       "</table>\n",
       "</div>"
      ],
      "text/plain": [
       "      name  age  height\n",
       "0    Alice   26     165\n",
       "1      Bob   30     180\n",
       "2  Charlie   35     175"
      ]
     },
     "execution_count": 16,
     "metadata": {},
     "output_type": "execute_result"
    }
   ],
   "source": [
    "df['height'] = [165, 180, 175]\n",
    "df.head()"
   ]
  },
  {
   "cell_type": "code",
   "execution_count": 17,
   "metadata": {},
   "outputs": [
    {
     "data": {
      "text/html": [
       "<div>\n",
       "<style scoped>\n",
       "    .dataframe tbody tr th:only-of-type {\n",
       "        vertical-align: middle;\n",
       "    }\n",
       "\n",
       "    .dataframe tbody tr th {\n",
       "        vertical-align: top;\n",
       "    }\n",
       "\n",
       "    .dataframe thead th {\n",
       "        text-align: right;\n",
       "    }\n",
       "</style>\n",
       "<table border=\"1\" class=\"dataframe\">\n",
       "  <thead>\n",
       "    <tr style=\"text-align: right;\">\n",
       "      <th></th>\n",
       "      <th>name</th>\n",
       "      <th>age</th>\n",
       "      <th>height</th>\n",
       "      <th>gender</th>\n",
       "    </tr>\n",
       "  </thead>\n",
       "  <tbody>\n",
       "    <tr>\n",
       "      <th>0</th>\n",
       "      <td>Alice</td>\n",
       "      <td>26</td>\n",
       "      <td>165</td>\n",
       "      <td>Male</td>\n",
       "    </tr>\n",
       "    <tr>\n",
       "      <th>1</th>\n",
       "      <td>Bob</td>\n",
       "      <td>30</td>\n",
       "      <td>180</td>\n",
       "      <td>Male</td>\n",
       "    </tr>\n",
       "    <tr>\n",
       "      <th>2</th>\n",
       "      <td>Charlie</td>\n",
       "      <td>35</td>\n",
       "      <td>175</td>\n",
       "      <td>Male</td>\n",
       "    </tr>\n",
       "  </tbody>\n",
       "</table>\n",
       "</div>"
      ],
      "text/plain": [
       "      name  age  height gender\n",
       "0    Alice   26     165   Male\n",
       "1      Bob   30     180   Male\n",
       "2  Charlie   35     175   Male"
      ]
     },
     "execution_count": 17,
     "metadata": {},
     "output_type": "execute_result"
    }
   ],
   "source": [
    "df['gender'] = 'Male'\n",
    "df.head()"
   ]
  },
  {
   "cell_type": "code",
   "execution_count": 18,
   "metadata": {},
   "outputs": [
    {
     "data": {
      "text/html": [
       "<div>\n",
       "<style scoped>\n",
       "    .dataframe tbody tr th:only-of-type {\n",
       "        vertical-align: middle;\n",
       "    }\n",
       "\n",
       "    .dataframe tbody tr th {\n",
       "        vertical-align: top;\n",
       "    }\n",
       "\n",
       "    .dataframe thead th {\n",
       "        text-align: right;\n",
       "    }\n",
       "</style>\n",
       "<table border=\"1\" class=\"dataframe\">\n",
       "  <thead>\n",
       "    <tr style=\"text-align: right;\">\n",
       "      <th></th>\n",
       "      <th>name</th>\n",
       "      <th>age</th>\n",
       "      <th>height</th>\n",
       "      <th>gender</th>\n",
       "    </tr>\n",
       "  </thead>\n",
       "  <tbody>\n",
       "    <tr>\n",
       "      <th>0</th>\n",
       "      <td>Alice</td>\n",
       "      <td>26</td>\n",
       "      <td>165.0</td>\n",
       "      <td>Male</td>\n",
       "    </tr>\n",
       "    <tr>\n",
       "      <th>1</th>\n",
       "      <td>Bob</td>\n",
       "      <td>30</td>\n",
       "      <td>180.0</td>\n",
       "      <td>Male</td>\n",
       "    </tr>\n",
       "    <tr>\n",
       "      <th>2</th>\n",
       "      <td>Charlie</td>\n",
       "      <td>35</td>\n",
       "      <td>175.0</td>\n",
       "      <td>Male</td>\n",
       "    </tr>\n",
       "    <tr>\n",
       "      <th>3</th>\n",
       "      <td>Eve</td>\n",
       "      <td>29</td>\n",
       "      <td>170.0</td>\n",
       "      <td>Female</td>\n",
       "    </tr>\n",
       "    <tr>\n",
       "      <th>4</th>\n",
       "      <td>Rob</td>\n",
       "      <td>50</td>\n",
       "      <td>NaN</td>\n",
       "      <td>Male</td>\n",
       "    </tr>\n",
       "  </tbody>\n",
       "</table>\n",
       "</div>"
      ],
      "text/plain": [
       "      name  age  height  gender\n",
       "0    Alice   26   165.0    Male\n",
       "1      Bob   30   180.0    Male\n",
       "2  Charlie   35   175.0    Male\n",
       "3      Eve   29   170.0  Female\n",
       "4      Rob   50     NaN    Male"
      ]
     },
     "execution_count": 18,
     "metadata": {},
     "output_type": "execute_result"
    }
   ],
   "source": [
    "import numpy as np\n",
    "\n",
    "df.loc[3] = ['Eve', 29, 170, 'Female']\n",
    "df.loc[4] = ['Rob', 50, np.nan, 'Male']\n",
    "df.head()"
   ]
  },
  {
   "cell_type": "markdown",
   "metadata": {},
   "source": [
    "### Methods\n",
    "\n",
    "- `df.fillna(value)`: Fill missing values with the given *value*\n",
    "- `df.dropna()`: Remove rows with missing values\n",
    "- `df.drop(labels, axis)`: Drop specified rows or columns\n",
    "    - *labels*: Single label or list of labels. Can be either index of a row or a column name\n",
    "    - *axis*: Whether to drop row or column? row-wise (axis=1) or column-wise(axis=0)? (default=0)\n",
    "- `df.rename(columns=mapper)`: Change the name of columns in the DataFrame\n",
    "    - *mapper*: Dictionary whose keys represent old column names and values represent corresponding new column names\n",
    "- `df.groupby(by, axis)`: Group DataFrame by one or more columns\n",
    "    - *by*: Create groups based on by. It can be a mapping, function, label or list of labels\n",
    "    - *axis*: How to group the DataFrame? row-wise (axis=1) or column-wise(axis=0)? (default=0)\n",
    "- `df.apply(func, axis)`: Apply a function along an axis of the DataFrame\n",
    "    - *func*: Function to apply along each column or row\n",
    "    - *axis*: How to apply the function? row-wise (axis=1) or column-wise(axis=0)? (default=0)"
   ]
  },
  {
   "cell_type": "code",
   "execution_count": 19,
   "metadata": {},
   "outputs": [
    {
     "name": "stdout",
     "output_type": "stream",
     "text": [
      "Fill Missing values with 'Missing':\n",
      "       name  age   height  gender\n",
      "0    Alice   26    165.0    Male\n",
      "1      Bob   30    180.0    Male\n",
      "2  Charlie   35    175.0    Male\n",
      "3      Eve   29    170.0  Female\n",
      "4      Rob   50  Missing    Male \n",
      "\n",
      "Drop Rows with missing values:\n",
      "       name  age  height  gender\n",
      "0    Alice   26   165.0    Male\n",
      "1      Bob   30   180.0    Male\n",
      "2  Charlie   35   175.0    Male\n",
      "3      Eve   29   170.0  Female \n",
      "\n",
      "Drop row with index 2:\n",
      "     name  age  height  gender\n",
      "0  Alice   26   165.0    Male\n",
      "1    Bob   30   180.0    Male\n",
      "3    Eve   29   170.0  Female \n",
      "\n",
      "Drop column:\n",
      "    age  height  gender\n",
      "0   26   165.0    Male\n",
      "1   30   180.0    Male\n",
      "3   29   170.0  Female \n",
      "\n",
      "Rename Column Names:\n",
      "    Age  Height     Sex\n",
      "0   26   165.0    Male\n",
      "1   30   180.0    Male\n",
      "3   29   170.0  Female \n",
      "\n"
     ]
    }
   ],
   "source": [
    "print(\"Fill Missing values with 'Missing':\\n\", df.fillna('Missing'), \"\\n\")\n",
    "df = df.dropna()\n",
    "print(\"Drop Rows with missing values:\\n\", df, \"\\n\")\n",
    "df.drop(2, axis=0, inplace=True)\n",
    "print(\"Drop row with index 2:\\n\", df, \"\\n\")\n",
    "df.drop('name', axis=1, inplace=True)\n",
    "print(\"Drop column:\\n\", df, \"\\n\")\n",
    "df.rename(columns={'age': 'Age', 'height': 'Height', 'gender': 'Sex'}, inplace=True)\n",
    "print(\"Rename Column Names:\\n\", df, \"\\n\")"
   ]
  },
  {
   "cell_type": "code",
   "execution_count": 20,
   "metadata": {},
   "outputs": [
    {
     "name": "stdout",
     "output_type": "stream",
     "text": [
      "Aggregation application to grouped data:\n",
      "          Age  Height\n",
      "Sex                 \n",
      "Female  29.0   170.0\n",
      "Male    28.0   172.5\n"
     ]
    }
   ],
   "source": [
    "grouped = df.groupby(\"Sex\")\n",
    "print(\"Aggregation application to grouped data:\\n\", grouped.agg({\"Age\": \"mean\", \"Height\": \"mean\"}))"
   ]
  },
  {
   "cell_type": "code",
   "execution_count": 21,
   "metadata": {},
   "outputs": [
    {
     "name": "stdout",
     "output_type": "stream",
     "text": [
      "Apply a general function to a column:\n",
      " 0    52\n",
      "1    60\n",
      "3    58\n",
      "Name: Age, dtype: int64 \n",
      "\n",
      "Apply a lambda function to a column:\n",
      " 0    52\n",
      "1    60\n",
      "3    58\n",
      "Name: Age, dtype: int64\n"
     ]
    }
   ],
   "source": [
    "def double(x):\n",
    "    return x * 2\n",
    "\n",
    "print(\"Apply a general function to a column:\\n\", df[\"Age\"].apply(double), \"\\n\")\n",
    "print(\"Apply a lambda function to a column:\\n\", df[\"Age\"].apply(lambda x: 2*x))"
   ]
  },
  {
   "cell_type": "markdown",
   "metadata": {},
   "source": [
    "### References\n",
    "\n",
    "- [Pandas Official Getting Started Tutorials](https://pandas.pydata.org/docs/getting_started/install.html)\n",
    "- [Tirendaz Academy - Pandas Tutorial](https://github.com/TirendazAcademy/PANDAS-TUTORIAL)\n",
    "- [Pandas API Reference Documentation](https://pandas.pydata.org/pandas-docs/stable/reference/)"
   ]
  }
 ],
 "metadata": {
  "kernelspec": {
   "display_name": "Python 3 (ipykernel)",
   "language": "python",
   "name": "python3"
  },
  "language_info": {
   "codemirror_mode": {
    "name": "ipython",
    "version": 3
   },
   "file_extension": ".py",
   "mimetype": "text/x-python",
   "name": "python",
   "nbconvert_exporter": "python",
   "pygments_lexer": "ipython3",
   "version": "3.8.10"
  }
 },
 "nbformat": 4,
 "nbformat_minor": 2
}
