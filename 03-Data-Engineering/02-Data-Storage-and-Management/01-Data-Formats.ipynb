{
 "cells": [
  {
   "cell_type": "markdown",
   "metadata": {},
   "source": [
    "# Data Formats\n",
    "\n",
    "Data formats play a crucial role in data engineering, as they determine how data is stored, processed, and analyzed. Here are some common data formats used in data engineering:\n",
    "\n",
    "## CSV (Comma-Separated Values):\n",
    "\n",
    "CSV is a common format used for storing and exchanging tabular data. In Python, you can use the `csv` module to read and write CSV files. Here's an example of how to read a CSV file and print its contents:"
   ]
  },
  {
   "cell_type": "code",
   "execution_count": null,
   "metadata": {},
   "outputs": [],
   "source": [
    "import csv\n",
    "\n",
    "with open('data.csv', 'r') as file:\n",
    "    reader = csv.reader(file)\n",
    "    for row in reader:\n",
    "        print(row)"
   ]
  },
  {
   "cell_type": "markdown",
   "metadata": {},
   "source": [
    "## JSON (JavaScript Object Notation):\n",
    "JSON is a lightweight data interchange format. In Python, you can use the `json` module to encode and decode JSON data. Here's an example of how to encode a Python dictionary as JSON and write it to a file:"
   ]
  },
  {
   "cell_type": "code",
   "execution_count": null,
   "metadata": {},
   "outputs": [],
   "source": [
    "import json\n",
    "\n",
    "data = {\n",
    "    \"name\": \"John Smith\",\n",
    "    \"age\": 30,\n",
    "    \"is_valid\": True\n",
    "}\n",
    "\n",
    "with open('data.json', 'w') as file:\n",
    "    json.dump(data, file)"
   ]
  },
  {
   "cell_type": "markdown",
   "metadata": {},
   "source": [
    "## Parquet:\n",
    "\n",
    "Parquet is a columnar storage format that is designed to be efficient for big data processing. In Python, you can use the `pyarrow` module to read and write Parquet files. Here's an example of how to read a Parquet file and print its contents:"
   ]
  },
  {
   "cell_type": "code",
   "execution_count": null,
   "metadata": {},
   "outputs": [],
   "source": [
    "import pyarrow.parquet as pq\n",
    "\n",
    "table = pq.read_table('data.parquet')\n",
    "df = table.to_pandas()\n",
    "print(df)"
   ]
  },
  {
   "cell_type": "markdown",
   "metadata": {},
   "source": [
    "## Avro:\n",
    "\n",
    "Avro is a binary serialization format that is used for big data processing. In Python, you can use the `fastavro` module to read and write Avro files. Here's an example of how to write a Python dictionary to an Avro file:"
   ]
  },
  {
   "cell_type": "code",
   "execution_count": null,
   "metadata": {},
   "outputs": [],
   "source": [
    "import fastavro\n",
    "\n",
    "schema = {\n",
    "    \"type\": \"record\",\n",
    "    \"name\": \"Person\",\n",
    "    \"fields\": [\n",
    "        {\"name\": \"name\", \"type\": \"string\"},\n",
    "        {\"name\": \"age\", \"type\": \"int\"},\n",
    "        {\"name\": \"is_valid\", \"type\": \"boolean\"}\n",
    "    ]\n",
    "}\n",
    "\n",
    "data = {\n",
    "    \"name\": \"John Smith\",\n",
    "    \"age\": 30,\n",
    "    \"is_valid\": True\n",
    "}\n",
    "\n",
    "with open('data.avro', 'wb') as file:\n",
    "    fastavro.writer(file, schema, [data])"
   ]
  }
 ],
 "metadata": {
  "kernelspec": {
   "display_name": "Python 3 (ipykernel)",
   "language": "python",
   "name": "python3"
  },
  "language_info": {
   "codemirror_mode": {
    "name": "ipython",
    "version": 3
   },
   "file_extension": ".py",
   "mimetype": "text/x-python",
   "name": "python",
   "nbconvert_exporter": "python",
   "pygments_lexer": "ipython3",
   "version": "3.8.10"
  }
 },
 "nbformat": 4,
 "nbformat_minor": 2
}
