{
 "cells": [
  {
   "attachments": {},
   "cell_type": "markdown",
   "metadata": {},
   "source": [
    "# Data Formats\n",
    "\n",
    "## CSV (Comma-Separated Values):\n",
    "\n",
    "CSV is a common format used for storing and exchanging tabular data. In Python, you can use the `csv` module to read and write CSV files. Here's an example of how to read a CSV file and print its contents:"
   ]
  },
  {
   "attachments": {},
   "cell_type": "markdown",
   "metadata": {},
   "source": [
    "```python\n",
    "import csv\n",
    "\n",
    "with open('data.csv', 'r') as file:\n",
    "    reader = csv.reader(file)\n",
    "    for row in reader:\n",
    "        print(row)\n",
    "```"
   ]
  },
  {
   "attachments": {},
   "cell_type": "markdown",
   "metadata": {},
   "source": [
    "## JSON (JavaScript Object Notation):\n",
    "JSON is a lightweight data interchange format. In Python, you can use the `json` module to encode and decode JSON data. Here's an example of how to encode a Python dictionary as JSON and write it to a file:"
   ]
  },
  {
   "attachments": {},
   "cell_type": "markdown",
   "metadata": {},
   "source": [
    "```python\n",
    "import json\n",
    "\n",
    "data = {\n",
    "    \"name\": \"John Smith\",\n",
    "    \"age\": 30,\n",
    "    \"is_valid\": True\n",
    "}\n",
    "\n",
    "with open('data.json', 'w') as file:\n",
    "    json.dump(data, file)\n",
    "```"
   ]
  },
  {
   "attachments": {},
   "cell_type": "markdown",
   "metadata": {},
   "source": [
    "## Parquet:\n",
    "\n",
    "Parquet is a columnar storage format that is designed to be efficient for big data processing. In Python, you can use the `pyarrow` module to read and write Parquet files. Here's an example of how to read a Parquet file and print its contents:"
   ]
  },
  {
   "attachments": {},
   "cell_type": "markdown",
   "metadata": {},
   "source": [
    "```python\n",
    "import pyarrow.parquet as pq\n",
    "\n",
    "table = pq.read_table('data.parquet')\n",
    "df = table.to_pandas()\n",
    "print(df)\n",
    "```"
   ]
  },
  {
   "attachments": {},
   "cell_type": "markdown",
   "metadata": {},
   "source": [
    "## Avro:\n",
    "\n",
    "Avro is a binary serialization format that is used for big data processing. In Python, you can use the `fastavro` module to read and write Avro files. Here's an example of how to write a Python dictionary to an Avro file:"
   ]
  },
  {
   "attachments": {},
   "cell_type": "markdown",
   "metadata": {},
   "source": [
    "```python\n",
    "import fastavro\n",
    "\n",
    "schema = {\n",
    "    \"type\": \"record\",\n",
    "    \"name\": \"Person\",\n",
    "    \"fields\": [\n",
    "        {\"name\": \"name\", \"type\": \"string\"},\n",
    "        {\"name\": \"age\", \"type\": \"int\"},\n",
    "        {\"name\": \"is_valid\", \"type\": \"boolean\"}\n",
    "    ]\n",
    "}\n",
    "\n",
    "data = {\n",
    "    \"name\": \"John Smith\",\n",
    "    \"age\": 30,\n",
    "    \"is_valid\": True\n",
    "}\n",
    "\n",
    "with open('data.avro', 'wb') as file:\n",
    "    fastavro.writer(file, schema, [data])\n",
    "```"
   ]
  }
 ],
 "metadata": {
  "language_info": {
   "name": "python"
  },
  "orig_nbformat": 4
 },
 "nbformat": 4,
 "nbformat_minor": 2
}
