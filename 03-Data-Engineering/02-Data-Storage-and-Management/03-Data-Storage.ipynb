{
 "cells": [
  {
   "cell_type": "markdown",
   "id": "913ea981",
   "metadata": {},
   "source": [
    "# Data Storage Technologies\n",
    "\n",
    "## Relational Databases\n",
    "\n",
    "Relational databases are a type of database that organize data into tables with rows and columns. In Python, you can use the sqlite3 module to work with a SQLite database. Here's an example of how to create a SQLite database and insert data into it:"
   ]
  },
  {
   "cell_type": "code",
   "execution_count": null,
   "id": "a71290fb",
   "metadata": {},
   "outputs": [],
   "source": [
    "import sqlite3\n",
    "\n",
    "# Create database\n",
    "conn = sqlite3.connect('data.db')\n",
    "\n",
    "# Create table\n",
    "conn.execute('''\n",
    "CREATE TABLE employees (\n",
    "    id INTEGER PRIMARY KEY,\n",
    "    name TEXT NOT NULL,\n",
    "    age INTEGER,\n",
    "    gender TEXT,\n",
    "    salary REAL\n",
    ");\n",
    "''')\n",
    "\n",
    "# Insert data\n",
    "conn.execute('''\n",
    "INSERT INTO employees (name, age, gender, salary)\n",
    "VALUES ('John Doe', 30, 'Male', 50000.00);\n",
    "''')\n",
    "\n",
    "# Save changes and close connection\n",
    "conn.commit()\n",
    "conn.close()\n"
   ]
  },
  {
   "cell_type": "markdown",
   "id": "ef29bea6",
   "metadata": {},
   "source": [
    "## NoSQL Databases\n",
    "\n",
    "NoSQL databases are a type of database that use non-tabular data models, such as document-based, key-value, or graph-based models. In Python, you can use the pymongo module to work with a MongoDB database. Here's an example of how to create a MongoDB database and insert data into it:"
   ]
  },
  {
   "cell_type": "code",
   "execution_count": null,
   "id": "7b74ab11",
   "metadata": {},
   "outputs": [],
   "source": [
    "# !pip3 install pymongo"
   ]
  },
  {
   "cell_type": "code",
   "execution_count": null,
   "id": "0d7a27f2",
   "metadata": {},
   "outputs": [],
   "source": [
    "from pymongo import MongoClient\n",
    "\n",
    "# Create client\n",
    "client = MongoClient()\n",
    "\n",
    "# Create database and collection\n",
    "db = client['mydatabase']\n",
    "collection = db['mycollection']\n",
    "\n",
    "# Insert data\n",
    "data = {\n",
    "    'name': 'John Doe',\n",
    "    'age': 30,\n",
    "    'gender': 'Male',\n",
    "    'salary': 50000.00\n",
    "}\n",
    "collection.insert_one(data)"
   ]
  },
  {
   "cell_type": "markdown",
   "id": "5d89bf93",
   "metadata": {},
   "source": [
    "## Data Warehousing\n",
    "\n",
    "Data warehousing is a process for collecting, storing, and managing large volumes of data from various sources. In Python, you can use the pandas module to work with a data warehouse. Here's an example of how to read data from a CSV file into a DataFrame and store it in a SQLite database:"
   ]
  },
  {
   "cell_type": "code",
   "execution_count": null,
   "id": "1bf17b43",
   "metadata": {},
   "outputs": [],
   "source": [
    "import pandas as pd\n",
    "import sqlite3\n",
    "\n",
    "# Read data from CSV file into DataFrame\n",
    "data = pd.read_csv('data.csv')\n",
    "\n",
    "# Create database connection\n",
    "conn = sqlite3.connect('data.db')\n",
    "\n",
    "# Store DataFrame in SQLite database\n",
    "data.to_sql('employees', conn, if_exists='replace', index=False)"
   ]
  },
  {
   "cell_type": "markdown",
   "id": "d792ed53",
   "metadata": {},
   "source": [
    "## Cloud Storage\n",
    "\n",
    "Cloud storage is a type of data storage that uses remote servers to store and manage data. In Python, you can use the boto3 module to work with cloud storage services such as Amazon S3. Here's an example of how to upload a file to Amazon S3:"
   ]
  },
  {
   "cell_type": "code",
   "execution_count": null,
   "id": "9135dd68",
   "metadata": {},
   "outputs": [],
   "source": [
    "import boto3\n",
    "\n",
    "# Create client\n",
    "s3 = boto3.client('s3')\n",
    "\n",
    "# Upload file\n",
    "with open('data.csv', 'rb') as f:\n",
    "    s3.upload_fileobj(f, 'mybucket', 'data.csv')"
   ]
  }
 ],
 "metadata": {
  "kernelspec": {
   "display_name": "Python 3 (ipykernel)",
   "language": "python",
   "name": "python3"
  },
  "language_info": {
   "codemirror_mode": {
    "name": "ipython",
    "version": 3
   },
   "file_extension": ".py",
   "mimetype": "text/x-python",
   "name": "python",
   "nbconvert_exporter": "python",
   "pygments_lexer": "ipython3",
   "version": "3.8.10"
  }
 },
 "nbformat": 4,
 "nbformat_minor": 5
}
