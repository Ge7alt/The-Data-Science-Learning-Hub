{
 "cells": [
  {
   "cell_type": "markdown",
   "id": "070349d6",
   "metadata": {},
   "source": [
    "# Data Collection\n",
    "\n",
    "Data collection involves gathering data from various sources, transforming it into a useful format, and storing it for further processing and analysis.\n",
    "\n",
    "## Web Scraping\n",
    "\n",
    "Web scraping is the process of extracting data from websites. In Python, you can use the `beautifulsoup4` and `requests` modules to scrape data from HTML pages. Here's an example of how to scrape a list of articles from a news website:"
   ]
  },
  {
   "cell_type": "code",
   "execution_count": 1,
   "id": "6f8833e8",
   "metadata": {},
   "outputs": [],
   "source": [
    "# !pip3 install requests\n",
    "# !pip3 install beautifulsoup4"
   ]
  },
  {
   "cell_type": "code",
   "execution_count": 2,
   "id": "2e2c0815",
   "metadata": {},
   "outputs": [
    {
     "name": "stdout",
     "output_type": "stream",
     "text": [
      "[]\n"
     ]
    }
   ],
   "source": [
    "import requests\n",
    "from bs4 import BeautifulSoup\n",
    "\n",
    "url = 'https://www.example.com/news'\n",
    "response = requests.get(url)\n",
    "soup = BeautifulSoup(response.text, 'html.parser')\n",
    "\n",
    "articles = []\n",
    "for article in soup.find_all('article'):\n",
    "    title = article.find('h2').text\n",
    "    link = article.find('a')['href']\n",
    "    summary = article.find('p').text\n",
    "    articles.append({'title': title, 'link': link, 'summary': summary})\n",
    "\n",
    "print(articles)"
   ]
  },
  {
   "cell_type": "markdown",
   "id": "8118b902",
   "metadata": {},
   "source": [
    "## APIs\n",
    "\n",
    "APIs are interfaces that allow you to access data from other applications or websites. In Python, you can use the requests module to make API requests and retrieve data in JSON format. Here's an example of how to retrieve data from the OpenWeatherMap API:"
   ]
  },
  {
   "cell_type": "code",
   "execution_count": 3,
   "id": "a1283ff9",
   "metadata": {},
   "outputs": [
    {
     "name": "stdout",
     "output_type": "stream",
     "text": [
      "{'cod': 401, 'message': 'Invalid API key. Please see https://openweathermap.org/faq#error401 for more info.'}\n"
     ]
    }
   ],
   "source": [
    "import requests\n",
    "\n",
    "url = 'https://api.openweathermap.org/data/2.5/weather?q=London,uk&appid=your_api_key'\n",
    "response = requests.get(url)\n",
    "\n",
    "data = response.json()\n",
    "print(data)"
   ]
  }
 ],
 "metadata": {
  "kernelspec": {
   "display_name": "Python 3 (ipykernel)",
   "language": "python",
   "name": "python3"
  },
  "language_info": {
   "codemirror_mode": {
    "name": "ipython",
    "version": 3
   },
   "file_extension": ".py",
   "mimetype": "text/x-python",
   "name": "python",
   "nbconvert_exporter": "python",
   "pygments_lexer": "ipython3",
   "version": "3.8.10"
  }
 },
 "nbformat": 4,
 "nbformat_minor": 5
}
