{
 "cells": [
  {
   "cell_type": "markdown",
   "id": "e463ea9c",
   "metadata": {},
   "source": [
    "# Data Sampling\n",
    "\n",
    "Data sampling is the process of selecting a subset of data from a larger dataset. It is often used to reduce the computation time and storage space required to work with large datasets. There are various types of data sampling methods such as random sampling, stratified sampling, cluster sampling, and systematic sampling.\n",
    "\n",
    "## Random Sampling\n",
    "\n",
    "Random Sampling is a type of probability sampling where each item of the population has an equal chance of being selected in the sample. This means that every individual item in the population has an equal probability of being chosen. Random sampling is useful when you want to get an unbiased sample from the population.\n",
    "\n",
    "Example:\n",
    "Let's say you have a dataset with 100 rows and you want to take a random sample of 10 rows. You can use the `sample` method from pandas to randomly select 10 rows from the dataset."
   ]
  },
  {
   "cell_type": "code",
   "execution_count": 1,
   "id": "71f972fa",
   "metadata": {},
   "outputs": [
    {
     "name": "stdout",
     "output_type": "stream",
     "text": [
      "[79, 86, 21, 92, 95, 5, 7, 60, 64, 55]\n"
     ]
    }
   ],
   "source": [
    "import random\n",
    "\n",
    "# create a dummy dataset with 100 observations\n",
    "data = [i for i in range(1, 101)]\n",
    "\n",
    "# Take a random sample of 10 rows\n",
    "sample_size = 10\n",
    "random_sample = random.sample(data, sample_size)\n",
    "\n",
    "print(random_sample)"
   ]
  },
  {
   "cell_type": "markdown",
   "id": "7b561ec5",
   "metadata": {},
   "source": [
    "Let's see how we can handle it with Python's `pandas` library."
   ]
  },
  {
   "cell_type": "code",
   "execution_count": 2,
   "id": "9ab90c85",
   "metadata": {},
   "outputs": [
    {
     "name": "stdout",
     "output_type": "stream",
     "text": [
      "   A    B\n",
      "8  9  100\n",
      "1  2   30\n",
      "5  6   70\n"
     ]
    }
   ],
   "source": [
    "import pandas as pd\n",
    "import numpy as np\n",
    "\n",
    "# create a custom DataFrame\n",
    "df = pd.DataFrame({\n",
    "    'A': [1, 2, 3, 4, 5, 6, 7, 8, 9, 10],\n",
    "    'B': [20, 30, 40, 50, 60, 70, 80, 90, 100, 110]\n",
    "})\n",
    "\n",
    "# take a random sample of 3 rows from the DataFrame\n",
    "random_sample = df.sample(n=3, random_state=42)\n",
    "\n",
    "# display the random sample\n",
    "print(random_sample)"
   ]
  },
  {
   "cell_type": "markdown",
   "id": "49151370",
   "metadata": {},
   "source": [
    "## Stratified Sampling\n",
    "\n",
    "Stratified Sampling is a type of probability sampling where the population is divided into subgroups based on some characteristic or feature. The subgroups are then sampled proportionally to their size in the population. Stratified sampling is useful when you have a population with significant differences in the characteristics and you want to ensure that each subgroup is represented in the sample.\n",
    "\n",
    "Example:\n",
    "Let's say you have a dataset of students' grades with a column for the class they belong to. You want to take a sample of 5 students, but you want to ensure that each class is represented in the sample. You can use the `groupby` method from `pandas` to group the dataset by the class column and then use the `apply` method to take a random sample of students from each class."
   ]
  },
  {
   "cell_type": "code",
   "execution_count": 3,
   "id": "49b885b6",
   "metadata": {},
   "outputs": [
    {
     "name": "stdout",
     "output_type": "stream",
     "text": [
      "    student_id class  grade\n",
      "0           68     A     77\n",
      "1           22     A     23\n",
      "2            7     A     61\n",
      "3            8     A     99\n",
      "4           36     A      7\n",
      "5           72     B     89\n",
      "6           76     B     78\n",
      "7           71     B      4\n",
      "8           21     B     52\n",
      "9           94     B     12\n",
      "10          40     C     80\n",
      "11          20     C     81\n",
      "12          14     C     77\n",
      "13          48     C      6\n",
      "14           9     C     13\n",
      "15          82     D     62\n",
      "16          24     D     88\n",
      "17          91     D     42\n",
      "18          46     D     40\n",
      "19          45     D      4\n"
     ]
    }
   ],
   "source": [
    "import pandas as pd\n",
    "import numpy as np\n",
    "\n",
    "# Generate random data\n",
    "np.random.seed(42)\n",
    "data = {'student_id': np.arange(1, 101),\n",
    "        'class': np.random.choice(['A', 'B', 'C', 'D'], size=100),\n",
    "        'grade': np.random.randint(0, 101, size=100)\n",
    "}\n",
    "\n",
    "# Convert data to pandas DataFrame\n",
    "df = pd.DataFrame(data)\n",
    "\n",
    "# Define the number of samples to take from each class\n",
    "n_samples = 5\n",
    "\n",
    "# Define a lambda function to take a random sample of n_samples from each group\n",
    "sample_func = lambda x: x.sample(n=n_samples)\n",
    "\n",
    "# Apply the sample_func to each group\n",
    "sampled_data = df.groupby('class').apply(sample_func)\n",
    "\n",
    "# Reset the index of the sampled data\n",
    "sampled_data = sampled_data.reset_index(drop=True)\n",
    "\n",
    "print(sampled_data)"
   ]
  },
  {
   "cell_type": "markdown",
   "id": "bb0df15f",
   "metadata": {},
   "source": [
    "## Cluster Sampling\n",
    "\n",
    "Cluster Sampling is a type of probability sampling where the population is divided into clusters or groups, and then a sample of clusters is selected. All the items within the selected clusters are then sampled. Cluster sampling is useful when the population is widely dispersed and difficult to sample directly.\n",
    "\n",
    "Example:\n",
    "Let's say you have a dataset of houses in a city, with a column for the neighborhood they are located in. You want to take a sample of 10 houses, but you want to ensure that you sample from different neighborhoods. You can use the `groupby` method from pandas to group the dataset by the neighborhood column and then randomly select 5 neighborhoods. Then, you can use the loc method to select all the houses in the selected neighborhoods."
   ]
  },
  {
   "cell_type": "code",
   "execution_count": 4,
   "id": "b9d5b658",
   "metadata": {},
   "outputs": [
    {
     "name": "stdout",
     "output_type": "stream",
     "text": [
      "    HouseID Neighborhood\n",
      "5         6            C\n",
      "0         1            A\n",
      "13       14            F\n",
      "14       15            F\n",
      "2         3            B\n",
      "1         2            B\n",
      "12       13            F\n",
      "4         5            C\n",
      "11       12            E\n",
      "3         4            C\n"
     ]
    }
   ],
   "source": [
    "import pandas as pd\n",
    "\n",
    "# Create sample dataset\n",
    "df = pd.DataFrame({\n",
    "    'HouseID': [1, 2, 3, 4, 5, 6, 7, 8, 9, 10, 11, 12, 13, 14, 15, 16, 17, 18, 19, 20],\n",
    "    'Neighborhood': ['A', 'B', 'B', 'C', 'C', 'C', 'D', 'D', 'D', 'D', 'E', 'E', 'F', 'F', 'F', 'G', 'G', 'G', 'G', 'G']\n",
    "})\n",
    "\n",
    "# Take a cluster sample of 10 houses, from 5 randomly selected neighborhoods\n",
    "neighborhoods = df['Neighborhood'].unique()\n",
    "selected_neighborhoods = pd.Series(neighborhoods).sample(n=5, random_state=42)\n",
    "cluster_sample = df.loc[df['Neighborhood'].isin(selected_neighborhoods)].sample(n=10, random_state=42)\n",
    "\n",
    "print(cluster_sample)"
   ]
  },
  {
   "cell_type": "markdown",
   "id": "7337b878",
   "metadata": {},
   "source": [
    "## Systematic Sampling\n",
    "\n",
    "Systematic Sampling is a type of probability sampling where items are selected at regular intervals from an ordered list. Systematic sampling is useful when the population is large and ordered, and a random sample cannot be easily obtained.\n",
    "\n",
    "Example:\n",
    "Let's say you have a dataset of employees in a company, with a column for the employee ID. You want to take a sample of 50 employees, but you want to ensure that you select them in a systematic way."
   ]
  },
  {
   "cell_type": "code",
   "execution_count": 5,
   "id": "296da9e9",
   "metadata": {},
   "outputs": [
    {
     "name": "stdout",
     "output_type": "stream",
     "text": [
      "     A  B       C\n",
      "2    3  8  Female\n",
      "12  13  3  Female\n",
      "22  23  7    Male\n",
      "32  33  1    Male\n",
      "42  43  9    Male\n",
      "52  53  1  Female\n",
      "62  63  1    Male\n",
      "72  73  2  Female\n",
      "82  83  5  Female\n",
      "92  93  4    Male\n"
     ]
    }
   ],
   "source": [
    "import pandas as pd\n",
    "import numpy as np\n",
    "\n",
    "# create a dummy dataset\n",
    "df = pd.DataFrame({\n",
    "    'A': range(1, 101),\n",
    "    'B': np.random.randint(1, 11, size=100),\n",
    "    'C': np.random.choice(['Male', 'Female'], size=100)\n",
    "})\n",
    "\n",
    "# set the seed for reproducibility\n",
    "np.random.seed(123)\n",
    "\n",
    "# define the sample size\n",
    "sample_size = 10\n",
    "\n",
    "# calculate the sampling interval\n",
    "n = len(df)\n",
    "k = int(n / sample_size)\n",
    "\n",
    "# randomly choose the starting point\n",
    "start = np.random.randint(0, k)\n",
    "\n",
    "# select the indices for the sample\n",
    "indices = range(start, n, k)\n",
    "\n",
    "# create the systematic sample\n",
    "systematic_sample = df.loc[indices]\n",
    "\n",
    "print(systematic_sample)"
   ]
  },
  {
   "cell_type": "markdown",
   "id": "57a6d654",
   "metadata": {},
   "source": [
    "This code creates a dummy dataset with 100 rows and 3 columns. It then sets the seed for reproducibility and defines the sample size as 10. The sampling interval is calculated as `k = n / sample_size`, where `n` is the number of rows in the dataset. The starting point is then randomly chosen using `np.random.randint(0, k)`, and the indices for the sample are selected using `range(start, n, k)`. Finally, the systematic sample is created by selecting the rows with those indices using `df.loc[indices]`. The resulting systematic sample is then printed."
   ]
  }
 ],
 "metadata": {
  "kernelspec": {
   "display_name": "Python 3 (ipykernel)",
   "language": "python",
   "name": "python3"
  },
  "language_info": {
   "codemirror_mode": {
    "name": "ipython",
    "version": 3
   },
   "file_extension": ".py",
   "mimetype": "text/x-python",
   "name": "python",
   "nbconvert_exporter": "python",
   "pygments_lexer": "ipython3",
   "version": "3.8.10"
  }
 },
 "nbformat": 4,
 "nbformat_minor": 5
}
