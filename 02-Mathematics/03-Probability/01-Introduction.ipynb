{
 "cells": [
  {
   "cell_type": "markdown",
   "id": "62c492fe",
   "metadata": {},
   "source": [
    "# Intorduction to Probability\n",
    "\n",
    "Probability is a branch of mathematics that deals with the study of random events and their likelihoods of occurrence. It is used to quantify uncertainty and measure the likelihood of different outcomes.\n",
    "\n",
    "## Random Experiment\n",
    "\n",
    "A random experiment is an experiment in which the outcome is uncertain, and it cannot be predicted with certainty. Examples of random experiments include tossing a coin, rolling a die, drawing a card from a deck, and so on.\n",
    "\n",
    "## Sample Space\n",
    "The sample space of a random experiment is the set of all possible outcomes of the experiment. For example, the sample space for tossing a coin is `{heads, tails}`, and the sample space for rolling a die is `{1, 2, 3, 4, 5, 6}`.\n",
    "\n",
    "## Events and their Probabilities\n",
    "\n",
    "An event is a subset of the sample space, which represents a specific outcome or a combination of outcomes. For example, getting heads when tossing a coin is an event, and getting an even number when rolling a die is also an event.\n",
    "\n",
    "The probability of an event is a number between `0` and `1`, which represents the likelihood of the event occurring. A probability of `0` means that the event is impossible, and a probability of `1` means that the event is certain.\n",
    "\n",
    "## Theoretical Probability\n",
    "\n",
    "Theoretical probability is the probability of an event based on mathematical calculations and assumptions. For example, the theoretical probability of getting heads when tossing a fair coin is `1/2`.\n",
    "\n",
    "## Experimental Probability\n",
    "\n",
    "Experimental probability is the probability of an event based on actual experiments or observations. For example, if you toss a coin `100` times and get `55` heads and `45` tails, the experimental probability of getting heads is `55/100 = 0.55`."
   ]
  }
 ],
 "metadata": {
  "kernelspec": {
   "display_name": "Python 3 (ipykernel)",
   "language": "python",
   "name": "python3"
  },
  "language_info": {
   "codemirror_mode": {
    "name": "ipython",
    "version": 3
   },
   "file_extension": ".py",
   "mimetype": "text/x-python",
   "name": "python",
   "nbconvert_exporter": "python",
   "pygments_lexer": "ipython3",
   "version": "3.10.6"
  }
 },
 "nbformat": 4,
 "nbformat_minor": 5
}
