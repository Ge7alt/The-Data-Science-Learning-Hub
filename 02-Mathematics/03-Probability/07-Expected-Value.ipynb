{
 "cells": [
  {
   "cell_type": "markdown",
   "metadata": {},
   "source": [
    "# Expected Value\n",
    "\n",
    "Expected value is a measure of central tendency in probability theory. It represents the long-run average of a random variable, i.e., the average value that we can expect to see in many repeated trials of a random experiment.\n",
    "\n",
    "The expected value of a discrete random variable `X` is defined as:\n",
    "\n",
    "\\begin{equation}\n",
    "E(X) = ∑ x * P(X = x)\n",
    "\\end{equation}\n",
    "\n",
    "where `x` is the possible value of `X` and `P(X = x)` is the probability that `X` takes the value `x`.\n",
    "\n",
    "The expected value of a continuous random variable `X` is defined as:\n",
    "\n",
    "\\begin{equation}\n",
    "E(X) = ∫ x * f(x) dx\n",
    "\\end{equation}\n",
    "\n",
    "where `f(x)` is the probability density function of `X`.\n",
    "\n",
    "Applications of expected value include decision making under uncertainty, where it can be used to estimate the average payoff of a decision, and in the analysis of games of chance, where it is used to determine the expected winnings or losses.\n",
    "\n",
    "`For example`, in a game where a player flips a coin and wins `$1` if it lands heads up and loses `$1` if it lands tails up, the expected value of the game is:\n",
    "\n",
    "\\begin{equation}\n",
    "E(X) = (1/2) * 1 + (1/2) * (-1) = 0\n",
    "\\end{equation}\n",
    "\n",
    "This means that over many plays of the game, the average payoff will be `$0`, indicating that the game is fair.\n",
    "\n",
    "The concept of expected value is also used in insurance and finance, where it is used to calculate the expected returns and risks of investments and insurance policies."
   ]
  },
  {
   "cell_type": "code",
   "execution_count": 1,
   "metadata": {},
   "outputs": [
    {
     "name": "stdout",
     "output_type": "stream",
     "text": [
      "Expected value of the game: 0.0\n"
     ]
    }
   ],
   "source": [
    "# Probability of getting heads or tails is 1/2 each\n",
    "p_heads = 1/2\n",
    "p_tails = 1/2\n",
    "\n",
    "# Payoff for getting heads or tails\n",
    "payoff_heads = 1\n",
    "payoff_tails = -1\n",
    "\n",
    "# Calculate the expected value of the game\n",
    "expected_value = p_heads*payoff_heads + p_tails*payoff_tails\n",
    "\n",
    "print(\"Expected value of the game:\", expected_value)"
   ]
  },
  {
   "cell_type": "markdown",
   "metadata": {},
   "source": [
    "## Linearity of Expectation\n",
    "\n",
    "The linearity of expectation is a property of expected value that states that the expected value of the sum of two or more random variables is equal to the sum of their individual expected values. This property holds true regardless of whether the random variables are independent or dependent.\n",
    "\n",
    "Mathematically, if X and Y are two random variables, then the linearity of expectation can be expressed as:\n",
    "\n",
    "\\begin{equation}\n",
    "E(X + Y) = E(X) + E(Y)\n",
    "\\end{equation}\n",
    "\n",
    "This can be extended to any finite number of random variables as:\n",
    "\n",
    "\\begin{equation}\n",
    "E(X1 + X2 + ... + Xn) = E(X1) + E(X2) + ... + E(Xn)\n",
    "\\end{equation}\n",
    "\n",
    "This property is useful in many applications, including in finance, statistics, and engineering.\n",
    "\n",
    "`For example`, if `X` is the return on investment for a particular stock, and `Y` is the return on investment for another stock, then the expected return on investment for a portfolio that consists of both stocks can be calculated using the linearity of expectation. This allows investors to make informed decisions about their investment strategies.\n",
    "\n",
    "`Example:` Suppose we have two stocks, A and B, with expected returns of 8% and 12% respectively, and we want to invest $50,000 in stock A and $100,000 in stock B. Then the expected return on our portfolio can be calculated as follows:"
   ]
  },
  {
   "cell_type": "code",
   "execution_count": 2,
   "metadata": {},
   "outputs": [
    {
     "name": "stdout",
     "output_type": "stream",
     "text": [
      "The expected return on the portfolio is: 16000.0\n"
     ]
    }
   ],
   "source": [
    "# Define the expected returns for each stock\n",
    "E_A = 0.08  # 8%\n",
    "E_B = 0.12  # 12%\n",
    "\n",
    "# Define the amounts invested in each stock\n",
    "amt_A = 50000\n",
    "amt_B = 100000\n",
    "\n",
    "# Calculate the expected return on the portfolio using linearity of expectation\n",
    "E_X = amt_A * E_A + amt_B * E_B\n",
    "\n",
    "print(\"The expected return on the portfolio is:\", E_X)"
   ]
  },
  {
   "cell_type": "markdown",
   "metadata": {},
   "source": [
    "## Law of Iterated Expectation\n",
    "\n",
    "The law of iterated expectation is a property of expected value that states that the expected value of a random variable can be calculated by taking the conditional expectation of the variable with respect to another random variable, and then taking the expected value of that conditional expectation.\n",
    "\n",
    "Mathematically, if `X` and `Y` are two random variables, then the law of iterated expectation can be expressed as:\n",
    "\n",
    "\\begin{equation}\n",
    "E(X) = E(E(X|Y))\n",
    "\\end{equation}\n",
    "\n",
    "This property can be extended to any number of random variables, and is useful in many applications, including in finance, economics, and statistics.\n",
    "\n",
    "`For example`, suppose that `X` represents the sales of a particular product, and `Y` represents the advertising budget for that product. By using the law of iterated expectation, we can calculate the expected sales of the product by taking the conditional expectation of `X` given `Y`, and then taking the expected value of that conditional expectation. This allows us to better understand the relationship between advertising and sales, and to make informed decisions about future advertising budgets.\n",
    "\n",
    "`Example:` Suppose the following data represents the relationship between advertising budget and sales for a particular product:\n",
    "\n",
    "| Advertising Budget | Sales |\n",
    "|:-:|:-:|\n",
    "| 100 | 500 |\n",
    "| 200 | 700 |\n",
    "| 300 | 900 |\n",
    "| 400 | 1200 |\n",
    "| 500 | 1500 |\n",
    "\n",
    "We can calculate the expected sales of the product using the law of iterated expectation as follows:\n",
    "\n",
    "1. Calculate the conditional expectation of X given Y=y for each value of y:\n",
    "\n",
    "\\begin{equation}\n",
    "E(X|Y=100) = 500\n",
    "\\end{equation}\n",
    "\\begin{equation}\n",
    "E(X|Y=200) = 700\n",
    "\\end{equation}\n",
    "\\begin{equation}\n",
    "E(X|Y=300) = 900\n",
    "\\end{equation}\n",
    "\\begin{equation}\n",
    "E(X|Y=400) = 1200\n",
    "\\end{equation}\n",
    "\\begin{equation}\n",
    "E(X|Y=500) = 1500\n",
    "\\end{equation}\n",
    "\n",
    "2. Calculate the expected value of the conditional expectation of `X` given `Y`:\n",
    "\n",
    "\\begin{equation}\n",
    "E(E(X|Y)) = (500 + 700 + 900 + 1200 + 1500) / 5 = 960\n",
    "\\end{equation}\n",
    "\n",
    "Therefore, the expected sales of the product is `$960` given the advertising budget."
   ]
  },
  {
   "cell_type": "code",
   "execution_count": 3,
   "metadata": {},
   "outputs": [
    {
     "name": "stdout",
     "output_type": "stream",
     "text": [
      "Expected sales given the advertising budget: $960.00\n"
     ]
    }
   ],
   "source": [
    "import pandas as pd\n",
    "\n",
    "# create dataframe with advertising budget and sales data\n",
    "df = pd.DataFrame({\n",
    "    'Advertising Budget': [100, 200, 300, 400, 500],\n",
    "    'Sales': [500, 700, 900, 1200, 1500]\n",
    "})\n",
    "\n",
    "# calculate conditional expectation of X given Y=y\n",
    "df['E(X|Y)'] = df['Sales']\n",
    "\n",
    "# calculate expected value of E(X|Y)\n",
    "E_X_given_Y = df['E(X|Y)'].mean()\n",
    "\n",
    "print(f\"Expected sales given the advertising budget: ${E_X_given_Y:.2f}\")"
   ]
  },
  {
   "cell_type": "markdown",
   "metadata": {},
   "source": [
    "## Expected Value of a Function\n",
    "\n",
    "The expected value of a function of a random variable is a measure of the central tendency of that function. The expected value of a function is calculated by weighting each possible value of the function by its probability of occurring and then summing the weighted values.\n",
    "\n",
    "Mathematically, if `X` is a random variable and `g(X)` is a function of `X`, then the expected value of `g(X)`, denoted as `E(g(X))`, is defined as:\n",
    "\n",
    "\\begin{equation}\n",
    "E(g(X)) = ∑ g(x) * P(X=x)\n",
    "\\end{equation}\n",
    "\n",
    "where the summation is over all possible values `x` of `X`, and `P(X=x)` is the probability of `X` taking the value `x`.\n",
    "\n",
    "The expected value of a function is useful in many applications, including in finance, economics, and statistics. For example, the expected value of the profit function can be used to determine the expected profit of a business in a given period of time, taking into account the probabilities of different outcomes.\n",
    "\n",
    "It is important to note that the expected value of a function is not the same as the expected value of the random variable itself, unless the function is linear. In general, the expected value of a function depends on the shape of the probability distribution of the random variable, as well as the properties of the function itself.\n",
    "\n",
    "`Example:`\n",
    "\n",
    "Suppose a random variable X has the following probability distribution:\n",
    "\n",
    "| X | 1 | 2 | 3 |\n",
    "| :-: | :-: | :-: | :-: |\n",
    "| P(X) | 0.2 | 0.5 | 0.3 |\n",
    "\n",
    "Find the expected value of `g(X) = X^2`.\n",
    "\n",
    "The expected value of `g(X)` can be calculated as follows:\n",
    "\n",
    "\\begin{equation}\n",
    "E[g(X)] = E[X^2] = sum(X^2 * P(X)) = (1^2 * 0.2) + (2^2 * 0.5) + (3^2 * 0.3) = 4.9\n",
    "\\end{equation}\n",
    "\n",
    "So the expected value of `g(X)` is `4.9`."
   ]
  },
  {
   "cell_type": "code",
   "execution_count": 4,
   "metadata": {},
   "outputs": [
    {
     "name": "stdout",
     "output_type": "stream",
     "text": [
      "Expected value of g(X) = X^2 is: 4.9\n"
     ]
    }
   ],
   "source": [
    "x = [1, 2, 3]\n",
    "p = [0.2, 0.5, 0.3]\n",
    "\n",
    "gx = [xi**2 for xi in x] # g(X) = X^2\n",
    "ex = sum([gx[i] * p[i] for i in range(len(x))]) # E[g(X)]\n",
    "\n",
    "print(\"Expected value of g(X) = X^2 is:\", ex)"
   ]
  },
  {
   "cell_type": "markdown",
   "metadata": {},
   "source": [
    "## Conditional Expectation\n",
    "\n",
    "Conditional expectation is the expected value of a random variable given some information or condition. It is a generalization of the concept of expected value. In essence, conditional expectation calculates the expected value of one random variable given the value of another random variable.\n",
    "\n",
    "Suppose `X` and `Y` are two random variables, and we are interested in calculating the expected value of `X` given that `Y` is equal to `y`. Then, the conditional expectation of `X` given `Y=y` is denoted as `E[X|Y=y]`. This can be calculated using the formula:\n",
    "\n",
    "\\begin{equation}\n",
    "E[X|Y=y] = ∑x x P(X=x|Y=y)\n",
    "\\end{equation}\n",
    "\n",
    "where the sum is taken over all possible values of `X`. In other words, we calculate the probability of each value of `X` given that `Y=y`, multiply it by the value of `X`, and then sum over all possible values of `X`.\n",
    "\n",
    "Conditional expectation has many applications in statistics and probability theory, such as in regression analysis, Bayesian inference, and Markov chains.\n",
    "\n",
    "One important property of conditional expectation is the law of iterated expectation, which states that the expected value of a random variable can be calculated by conditioning on another random variable and taking the expected value of the resulting conditional expectation.\n",
    "\n",
    "`For Example:` Suppose we have a fair six-sided die, and we define a random variable `X` to be the value of the die roll. Let `Y` be the indicator variable for whether the die roll is even or odd (`Y=1` if `X` is even, `Y=0` if `X` is odd). We can find the conditional expected value of `X` given that `Y=1` (i.e., given that the roll is even).\n",
    "\n",
    "Using the definition of conditional expectation, we have:\n",
    "\n",
    "\\begin{equation}\n",
    "E(X | Y=1) = ∑x x * P(X=x | Y=1)\n",
    "\\end{equation}\n",
    "\n",
    "We know that,\n",
    "\n",
    "\\begin{equation}\n",
    "P(X=x | Y=1) = P(X=x and Y=1) / P(Y=1)\n",
    "\\end{equation}\n",
    "\n",
    "Since the die is fair, `P(X=x) = 1/6` for all `x`. We can also see that:\n",
    "\n",
    "\\begin{equation}\n",
    "P(Y=1) = P(X=2) + P(X=4) + P(X=6) = 1/6 + 1/6 + 1/6 = 1/2\n",
    "\\end{equation}\n",
    "\n",
    "Therefore:\n",
    "\n",
    "\\begin{equation}\n",
    "P(X=2 | Y=1) = P(X=2 and Y=1) / P(Y=1) = (1/6) / (1/2) = 1/3\n",
    "\\end{equation}\n",
    "\\begin{equation}\n",
    "P(X=4 | Y=1) = P(X=4 and Y=1) / P(Y=1) = (1/6) / (1/2) = 1/3\n",
    "\\end{equation}\n",
    "\\begin{equation}\n",
    "P(X=6 | Y=1) = P(X=6 and Y=1) / P(Y=1) = (1/6) / (1/2) = 1/3\n",
    "\\end{equation}\n",
    "\n",
    "Therefore:\n",
    "\n",
    "\\begin{equation}\n",
    "E(X | Y=1) = 2 * (1/3) + 4 * (1/3) + 6 * (1/3) = 4\n",
    "\\end{equation}\n",
    "\n",
    "So the conditional expected value of X given that Y=1 (i.e., given that the roll is even) is 4.\n",
    "\n",
    "Here's the Python implementation of the above example:"
   ]
  },
  {
   "cell_type": "code",
   "execution_count": 5,
   "metadata": {},
   "outputs": [
    {
     "name": "stdout",
     "output_type": "stream",
     "text": [
      "Conditional expected value of X given Y=1:  4.0\n"
     ]
    }
   ],
   "source": [
    "import numpy as np\n",
    "\n",
    "# Define the random variable X\n",
    "X = np.array([1, 2, 3, 4, 5, 6])\n",
    "\n",
    "# Define the indicator variable Y\n",
    "Y = np.array([0, 1, 0, 1, 0, 1])\n",
    "\n",
    "# Find the indices of X where Y is 1\n",
    "indices = np.where(Y == 1)[0]\n",
    "\n",
    "# Calculate the conditional expected value of X given Y=1\n",
    "E_X_given_Y_1 = np.mean(X[indices])\n",
    "\n",
    "print(\"Conditional expected value of X given Y=1: \", E_X_given_Y_1)"
   ]
  }
 ],
 "metadata": {
  "kernelspec": {
   "display_name": "Python 3 (ipykernel)",
   "language": "python",
   "name": "python3"
  },
  "language_info": {
   "codemirror_mode": {
    "name": "ipython",
    "version": 3
   },
   "file_extension": ".py",
   "mimetype": "text/x-python",
   "name": "python",
   "nbconvert_exporter": "python",
   "pygments_lexer": "ipython3",
   "version": "3.10.6"
  }
 },
 "nbformat": 4,
 "nbformat_minor": 2
}
