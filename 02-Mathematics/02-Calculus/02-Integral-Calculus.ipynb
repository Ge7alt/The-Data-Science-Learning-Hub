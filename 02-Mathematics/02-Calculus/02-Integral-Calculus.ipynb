{
 "cells": [
  {
   "cell_type": "markdown",
   "id": "49fead83",
   "metadata": {},
   "source": [
    "# Integral Calculus\n",
    "\n",
    "Integral calculus is a branch of calculus that deals with the study of integrals and their properties. Integrals are used to calculate the area under curves, and also to evaluate the total effect of a variable over a period of time. In this tutorial, we will cover the basics of integral calculus, including different types of integrals, techniques for evaluating integrals, and some common applications.\n",
    "\n",
    "## Types of Integrals\n",
    "\n",
    "There are two main types of integrals:\n",
    "\n",
    "### 1. Definite Integral\n",
    "\n",
    "A definite integral has a specific interval of integration, which is denoted by two limits, `a` and `b`. The integral of a function `f(x)` from `a` to `b` is denoted as follows:\n",
    "\n",
    "\\begin{equation}\n",
    "\\int_{a}^{b} f(x)dx\n",
    "\\end{equation}\n",
    "\n",
    "The value of the definite integral represents the area under the curve of the function `f(x)` between the limits `a` and `b`.\n",
    "\n",
    "To calculate the definite integral of a function using Python, we can use the `SciPy` library. For example, to calculate the integral of `x^2` between the limits `0` and `1`, we can use the following code:"
   ]
  },
  {
   "cell_type": "code",
   "execution_count": 1,
   "id": "5da007de",
   "metadata": {},
   "outputs": [
    {
     "name": "stdout",
     "output_type": "stream",
     "text": [
      "Result: 0.33333333333333337\n",
      "Error: 3.700743415417189e-15\n"
     ]
    }
   ],
   "source": [
    "from scipy.integrate import quad\n",
    "\n",
    "def f(x):\n",
    "    return x**2\n",
    "\n",
    "result, error = quad(f, 0, 1)\n",
    "\n",
    "print(\"Result:\", result)\n",
    "print(\"Error:\", error)"
   ]
  },
  {
   "cell_type": "markdown",
   "id": "f81da90f",
   "metadata": {},
   "source": [
    "The `quad` function takes the function to integrate as its first argument, and the limits of integration as its second and third arguments. The function returns the result of the integration and an estimate of the error.\n",
    "\n",
    "### 2. Indefinite Integral\n",
    "\n",
    "An indefinite integral, on the other hand, does not have any limits of integration. Instead, it represents the antiderivative of a function `f(x)` and is denoted as follows:\n",
    "\n",
    "\\begin{equation}\n",
    "∫f(x)dx\n",
    "\\end{equation}\n",
    "\n",
    "The indefinite integral of a function `f(x)` is a family of functions that differ only by a constant of integration.\n",
    "\n",
    "To calculate the indefinite integral of a function using Python, we can use the `SymPy` library. For example, to calculate the indefinite integral of `x^2`, we can use the following code:"
   ]
  },
  {
   "cell_type": "code",
   "execution_count": 2,
   "id": "500cac74",
   "metadata": {},
   "outputs": [
    {
     "name": "stdout",
     "output_type": "stream",
     "text": [
      "Result: x**3/3\n"
     ]
    }
   ],
   "source": [
    "from sympy import symbols, integrate\n",
    "\n",
    "x = symbols('x')\n",
    "f = x**2\n",
    "\n",
    "result = integrate(f, x)\n",
    "\n",
    "print(\"Result:\", result)"
   ]
  },
  {
   "cell_type": "markdown",
   "id": "785d316b",
   "metadata": {},
   "source": [
    "The `integrate` function takes the function to integrate as its first argument, and the variable to integrate with respect to as its second argument. The function returns the antiderivative of the function.\n",
    "\n",
    "## Techniques for Evaluating Integrals\n",
    "\n",
    "There are several techniques for evaluating integrals. Some of the most commonly used techniques include:\n",
    "\n",
    "### 1. Substitution\n",
    "\n",
    "This involves replacing a variable in the integral with a new variable to simplify the integral. For example, if we have the integral `∫(x^2+1)dx`, we can substitute `u = x^2 + 1`, which gives us `∫(1/2)u^(1/2)du`. This new integral is easier to evaluate than the original integral.\n",
    "\n",
    "### 2. Partial Fractions\n",
    "\n",
    "This technique is used to integrate a rational function, which is a function in the form of `p(x)/q(x)`, where `p(x)` and `q(x)` are polynomials. The method involves decomposing the rational function into simpler fractions that can be integrated using standard techniques.\n",
    "\n",
    "### 3. Integration by Parts\n",
    "\n",
    "This technique is used to integrate the product of two functions. It is based on the product rule of differentiation. The formula for integration by parts is as follows:\n",
    "\n",
    "\\begin{equation}\n",
    "∫u(x)v'(x)dx = u(x)v(x) - ∫v(x)u'(x)dx\n",
    "\\end{equation}\n",
    "\n",
    "where `u(x)` and `v(x)` are the two functions to be integrated.\n",
    "\n",
    "To implement integration by parts using Python, we can use the `SymPy` library. For example, to integrate the product of `x` and `sin(x)`, we can use the following code:"
   ]
  },
  {
   "cell_type": "code",
   "execution_count": 3,
   "id": "0df6416f",
   "metadata": {},
   "outputs": [
    {
     "name": "stdout",
     "output_type": "stream",
     "text": [
      "Result: x*sin(x)\n"
     ]
    }
   ],
   "source": [
    "from sympy import symbols, sin, integrate\n",
    "\n",
    "x = symbols('x')\n",
    "u = x\n",
    "v = sin(x)\n",
    "\n",
    "result = integrate(u*v.diff(x), x) + integrate(v*u.diff(x), x)\n",
    "\n",
    "print(\"Result:\", result)"
   ]
  },
  {
   "cell_type": "markdown",
   "id": "d8664898",
   "metadata": {},
   "source": [
    "The first integral in the `result` calculation corresponds to the first term in the integration by parts formula, and the second integral corresponds to the second term in the formula.\n",
    "\n",
    "## Applications of Integral Calculus\n",
    "\n",
    "Integral calculus has many applications in various fields, including physics, engineering, economics, and finance. Some common applications of integral calculus include:\n",
    "\n",
    "1. **Calculating areas and volumes:** Definite integrals are used to calculate the area under curves and volumes of solids.\n",
    "\n",
    "2. **Calculating work and energy:** Integrals are used to calculate the work done by a force and the potential energy stored in a system.\n",
    "\n",
    "3. **Calculating probabilities:** Integrals are used to calculate the probabilities of events in probability theory.\n",
    "\n",
    "4. **Calculating averages:** Integrals are used to calculate the average values of functions over a range.\n",
    "\n",
    "In conclusion, integral calculus is an important branch of calculus that has many practical applications. By understanding the types of integrals, techniques for evaluating integrals, and applications of integral calculus, you can gain a deeper understanding of this field and apply it to solve real-world problems."
   ]
  }
 ],
 "metadata": {
  "kernelspec": {
   "display_name": "Python 3 (ipykernel)",
   "language": "python",
   "name": "python3"
  },
  "language_info": {
   "codemirror_mode": {
    "name": "ipython",
    "version": 3
   },
   "file_extension": ".py",
   "mimetype": "text/x-python",
   "name": "python",
   "nbconvert_exporter": "python",
   "pygments_lexer": "ipython3",
   "version": "3.8.10"
  }
 },
 "nbformat": 4,
 "nbformat_minor": 5
}
