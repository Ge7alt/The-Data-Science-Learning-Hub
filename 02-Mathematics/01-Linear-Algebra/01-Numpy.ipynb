{
 "cells": [
  {
   "cell_type": "markdown",
   "metadata": {},
   "source": [
    "# Numpy\n",
    "\n",
    "NumPy is a Python library for scientific computing that provides support for multi-dimensional arrays and matrices, as well as a large collection of mathematical functions to operate on these arrays. NumPy is widely used in data science, machine learning, and other scientific computing applications. In this tutorial, we will cover the basics of NumPy and its various functionalities.\n",
    "\n",
    "## Installing NumPy\n",
    "\n",
    "NumPy can be installed using `pip`, the Python package installer. Open your command prompt or terminal and enter the following command to download and install the latest version of NumPy:"
   ]
  },
  {
   "cell_type": "code",
   "execution_count": 1,
   "metadata": {},
   "outputs": [],
   "source": [
    "# !pip install numpy"
   ]
  },
  {
   "cell_type": "markdown",
   "metadata": {},
   "source": [
    "## Creating NumPy Arrays\n",
    "\n",
    "NumPy arrays can be created in several ways. Here are some of the most common methods:\n",
    "\n",
    "- `array()`: Creates NumPy arrays from Python lists\n",
    "- `zeros()`: Creates NumPy arrays with all elements initialized to 0\n",
    "- `ones()`: Creates NumPy arrays with all elements initialized to 1\n",
    "- `full()`: Creates an array with all elements initialized to same user-specified value\n",
    "- `arange()`: Creates NumPy arrays with a sequence of values (similar to python range() function)\n",
    "- `linspace()`: Creates NumPy arrays with a sequence of evenly spaced values\n",
    "- `diag()`: Creates NumPy array with the provided list of numbers as the diagonal elements and zeros elsewhere\n",
    "- `eye()`: Creates NumPy array with ones on the diagonal and zeros elsewhere\n",
    "- `identity()`: Creates an identity matrix\n",
    "- `random.rand()`: Creates NumPy array of random numbers sampled from a uniform distribution"
   ]
  },
  {
   "cell_type": "code",
   "execution_count": 2,
   "metadata": {},
   "outputs": [],
   "source": [
    "import numpy as np\n",
    "\n",
    "print('1D Array from list: ', np.array([1, 2, 3]))\n",
    "print('2D Array from list:\\n', np.array([[1, 2], [3, 4]]))\n",
    "print('1D Array of Zeros:', np.zeros(5))\n",
    "print('2D Array of Zeros:\\n', np.zeros((2, 5)))\n",
    "print('Array of Ones:\\n', np.ones((2, 5)))\n",
    "print('Array of User-Specified Value:\\n', np.full((2, 5), -1))\n",
    "print('Array of Sequence:', np.arange(2, 15, 2))\n",
    "print('Array of Evenly Spaced Elements:', np.linspace(-2, 3, num=5)) # Range: (-2, 3) & Num of Elements: 5\n",
    "print('Array with diagonal Elements:\\n', np.diag([1, 2, 3], k=0)) # k: Shift along both rows and Columns\n",
    "print('Array with Ones as Diagonal Elements:\\n', np.eye(3, k=-1))\n",
    "print('Identity Matrix:\\n', np.identity(2))\n",
    "print('Array with Random Numbers:\\n', np.random.rand(2, 3))"
   ]
  },
  {
   "cell_type": "markdown",
   "metadata": {},
   "source": [
    "## Indexing and Slicing NumPy Arrays\n",
    "\n",
    "NumPy arrays can be indexed and sliced in several ways depending on the number of dimensions.\n",
    "\n",
    "### Indexing:\n",
    "\n",
    "Indexing follows a simple rule that we may have encountered before. Let's give it a try.\n",
    "\n",
    "- 1D Array: array_name[idx] (Similar to Python list)\n",
    "- 2D Array: array_name[row_idx, col_idx] (Similar to Matrix)\n",
    "- ND Array: array_name[dim1_idx, dim2_idx, ..., dimN_idx]\n",
    "\n",
    "**OR**\n",
    "\n",
    "- 2D Array: array_name[row_idx][col_idx]\n",
    "- ND Array: array_name[dim1_idx][dim2_idx] ... [dimN_idx]\n",
    " \n",
    "### Slicing:\n",
    "\n",
    "Slicing follows the same rule as indexing. The only difference is that for each dimension we provide it with a range of indeces and sometimes (optional) step size (similar to arange() function discussed above).\n",
    "\n",
    "- 1D Array: array_name[idx1:idx2:step]\n",
    "- 2D Array: array_name[row_idx1:row_idx2:step1, col_idx1:col_idx2:step2]\n",
    "- ND Array: array_name[dim1_idx1:dim1_idx2:step1, ..., dimN_idx1:dimN_idx2:stepN]"
   ]
  },
  {
   "cell_type": "code",
   "execution_count": 3,
   "metadata": {},
   "outputs": [],
   "source": [
    "import numpy as np\n",
    "\n",
    "a = np.array([1, 2, 3, 4, 5])\n",
    "b = np.array([[1, 2, 3, 4, 5], [9, 3, 7, 5, 6], [3, 4, 6, 2, 4]])\n",
    "\n",
    "print('Indexing 1D array:', a[0])\n",
    "print('Slicing 1D array:', a[0:4:2])\n",
    "print('Indexing 2D array Approach I:', b[1, 1])\n",
    "print('Indexing 2D array Approach II:', b[1][1])\n",
    "print('Slicing 2D array:\\n', b[0:3:2, 0:5])"
   ]
  },
  {
   "cell_type": "markdown",
   "metadata": {},
   "source": [
    "### Boolean or Mask Indexing:\n",
    "\n",
    "Boolean or mask indexing is a powerful feature in NumPy that allows you to use boolean arrays (or masks) to select elements from another array. The basic idea behind boolean indexing is to create a boolean array with the same shape as the array you want to select from, where each element of the boolean array corresponds to whether or not you want to select the corresponding element from the other array."
   ]
  },
  {
   "cell_type": "code",
   "execution_count": 4,
   "metadata": {},
   "outputs": [],
   "source": [
    "import numpy as np\n",
    "\n",
    "a = np.array([[1, 2], [3, 4], [5, 6]])\n",
    "mask = np.array([True, False, True])\n",
    "\n",
    "b = a[mask]\n",
    "\n",
    "print(b)"
   ]
  },
  {
   "cell_type": "markdown",
   "metadata": {},
   "source": [
    "In this example, we have an array `a` with dimensions 3x2 and a boolean mask with dimensions 3x1. We use the boolean mask to select the first and third rows of `a`. The resulting array `b` has dimensions 2x2.\n",
    "\n",
    "You can also use boolean expressions to create more complex masks."
   ]
  },
  {
   "cell_type": "code",
   "execution_count": 5,
   "metadata": {},
   "outputs": [],
   "source": [
    "import numpy as np\n",
    "\n",
    "a = np.array([[1, 2], [3, 4], [5, 6]])\n",
    "mask = (a > 2)\n",
    "\n",
    "b = a[mask]\n",
    "\n",
    "print(b)"
   ]
  },
  {
   "cell_type": "markdown",
   "metadata": {},
   "source": [
    "In this example, we create a boolean mask based on the condition `(a > 2)`, which evaluates to a boolean array of the same shape as `a` with `True` values where the corresponding element of `a` is greater than 2 and `False` values otherwise. We use this mask to select all the elements of `a` that satisfy this condition.\n",
    "\n",
    "Boolean indexing is a powerful tool for selecting and manipulating elements of NumPy arrays based on arbitrary conditions. It is especially useful when working with large arrays where explicit iteration is inefficient."
   ]
  },
  {
   "cell_type": "markdown",
   "metadata": {},
   "source": [
    "## NumPy Array Properties and Methods\n",
    "\n",
    "NumPy arrays have several useful properties and methods that can be used to manipulate them.\n",
    "\n",
    "- `shape`: Property that returns the dimensions of the array\n",
    "- `ndim`: Property that returns number of array dimensions\n",
    "- `dtype`: Property that returns data-type of the array’s elements\n",
    "- `reshape()`: Method to change the dimensions of an array. The product of old dimensions should match the product of new dimensions\n",
    "- `ravel()`: Method that collapses all values into a single axis or dimension and returns view of original array\n",
    "- `flatten()`: Method that collapses all values into a single axis or dimension and returns an independent copy of original array\n",
    "- `np.concatenate()`: Method to concatenate two or more arrays\n",
    "- `sum()`: Method that returns the sum of all elements in an array\n",
    "- `cumsum()`: Method that returns cumulative sum over given axis\n",
    "- `prod()`: Method that compute product over given axis\n",
    "- `max()`: Method that returns the maximum along a given axis\n",
    "- `argmax()`: Method that returns indeces of the maximum values along a given axis\n",
    "- `clip()`: Clip values beyond range to threshold values\n",
    "- `np.split()`: Method to split an array into multiple sub-arrays\n",
    "- `np.vstack()`: Method to stack arrays vertically\n",
    "- `np.hstack()`: Method to stack arrays horizontally"
   ]
  },
  {
   "cell_type": "code",
   "execution_count": 6,
   "metadata": {},
   "outputs": [],
   "source": [
    "import numpy as np\n",
    "\n",
    "a = np.array([[1, 2, 3], [4, 5, 6]])\n",
    "\n",
    "print('Shape of Array:', a.shape)\n",
    "print('Data type of Array:', a.dtype)\n",
    "print('Array Dimension:', a.ndim)\n",
    "print('Flattened Array:', a.flatten())\n",
    "print('Sum of Array Elements:', a.sum())\n",
    "print('Maximum values along given axis:', a.max(axis=0))\n",
    "print('Indeces of maximum values along given axis:', a.argmax(axis=0))\n",
    "print('Reshaping Array...')\n",
    "x = a.reshape((3, 2)) # Remember the products of new and old dimensions should match\n",
    "print('New Shape of Array:', x.shape)\n",
    "y = a.reshape(6)\n",
    "print('Another possible Shape:', y.shape)\n",
    "print()\n",
    "\n",
    "m = np.array([[1, 2], [3, 4]])\n",
    "n = np.array([[5, 6], [7, 8]])\n",
    "print('Concatente Two (or more) Tensors Together:\\n', np.concatenate((m, n), axis=None))\n",
    "print('Split Array into 2 Sections:', np.split(y, 3))\n",
    "print('Split Array using Indeces:\\n', np.split(y, [2, 5, 7]))"
   ]
  },
  {
   "cell_type": "markdown",
   "metadata": {},
   "source": [
    "## Types and Type Conversion\n",
    "\n",
    "NumPy supports a wide range of data types for arrays, including numeric, boolean, and string types. Each data type is identified by a unique character code, such as 'i' for integers and 'f' for floating-point numbers, and can have a specific size in bytes.\n",
    "\n",
    "Here are some of the most common data types in NumPy:\n",
    "\n",
    "- `bool`: Boolean (True or False) stored as a byte.\n",
    "- `int8`, `int16`, `int32`, `int64`: Integer with a specific number of bits (8, 16, 32, or 64).\n",
    "- `uint8`, `uint16`, `uint32`, `uint64`: Unsigned integer with a specific number of bits (8, 16, 32, or 64).\n",
    "- `float16`, `float32`, `float64`: Floating-point number with a specific precision (half, single, or double precision).\n",
    "- `complex64`, `complex128`: Complex number with a specific precision (single or double precision).\n",
    "\n",
    "You can create arrays of a specific data type using the dtype argument when you create the array."
   ]
  },
  {
   "cell_type": "code",
   "execution_count": 7,
   "metadata": {},
   "outputs": [],
   "source": [
    "import numpy as np\n",
    "\n",
    "a = np.array([1, 2, 3], dtype=np.int32) # Create an array of integers\n",
    "b = np.array([1.0, 2.0, 3.0], dtype=np.float64) # Create an array of floating-point numbers\n",
    "c = np.array([True, False, True], dtype=np.bool_) # Create an array of booleans\n",
    "\n",
    "print(a.dtype)\n",
    "print(b.dtype)\n",
    "print(c.dtype)"
   ]
  },
  {
   "cell_type": "markdown",
   "metadata": {},
   "source": [
    "You can also convert the data type of an existing array using the astype() method"
   ]
  },
  {
   "cell_type": "code",
   "execution_count": 8,
   "metadata": {},
   "outputs": [],
   "source": [
    "# Convert an array of integers to floating-point numbers\n",
    "a = np.array([1, 2, 3], dtype=np.int32)\n",
    "b = a.astype(np.float64)\n",
    "\n",
    "print(a.dtype)\n",
    "print(b.dtype)"
   ]
  },
  {
   "cell_type": "markdown",
   "metadata": {},
   "source": [
    "## NumPy Array Operations\n",
    "\n",
    "NumPy provides a wide range of mathematical operations that can be performed on arrays. Let's explore few of them.\n",
    "\n",
    "### 1. Element-wise operations:\n",
    "\n",
    "Elementwise operations are operations performed on each element of an array. NumPy, a popular Python library for numerical computing, provides various functions for performing elementwise operations on arrays.\n",
    "\n",
    "To perform elementwise operations with NumPy arrays, you can use the basic arithmetic operators `(+, -, *, /)` or functions (e.g., `np.add()`, `np.subtract()`, `np.multiply()`, `np.divide()`). Let's look into a few functions that support elementwise operations with numpy:\n",
    "\n",
    "**Arithmetic Operations:**\n",
    "- `np.add()` or `+` operator: Addition\n",
    "- `np.subtract()` or `-` operator: Subtraction\n",
    "- `np.multiply()` or `*` operator: Multiplication\n",
    "- `np.divide()` or `/` operator: Division\n",
    "- `np.floor_divide()` or `//` operator: Floor Division\n",
    "- `np.remainder()` or `np.divmod()` or `%` operator: Remainder\n",
    "- `np.absolute()`: Get absolute value\n",
    "- `np.sqrt()`: Compute square root\n",
    "- `np.square()`: Compute square of\n",
    "- `np.power()`: Compute nth power\n",
    "- `np.sign()`: Apply sign function\n",
    "\n",
    "**Trignometric Functions:**\n",
    "- `np.sin()`: Sinusoidal Function\n",
    "- `np.cos()`: Cosine Function\n",
    "- `np.tan()`: Tangent Function\n",
    "\n",
    "**Hyperbolic Functions:**\n",
    "- `np.sinh()`: Sinusoidal Function\n",
    "- `np.cosh()`: Cosine Function\n",
    "- `np.tanh()`: Tangent Function\n",
    "\n",
    "**Rounding Operations:**\n",
    "- `np.around()`: Round to the given number of decimals evenly\n",
    "- `np.round()`: Round to the given number of decimals\n",
    "- `np.rint()`: Round to the nearest integer\n",
    "- `np.fix()`: Round to the nearest integer towards zero\n",
    "- `np.floor()`: Round to the floor of the (decimal) number\n",
    "- `np.ceil()`: Round to the ceil of the (decimal) number\n",
    "\n",
    "**Exponents and Logarithms:**\n",
    "- `np.exp()`: Compute Element-wise Exponential\n",
    "- `np.expm1()`: Compute 'exp(x) - 1' with greater precision for small values\n",
    "- `np.exp2()`: Compute '2**p' for all elements p in the array\n",
    "- `np.log()`: Compute Element-wise Natural Logarithm\n",
    "- `np.log10()`: Compute Element-wise base 10 Logarithm\n",
    "- `np.log2()`: Compute Element-wise base 2 Logarithm\n",
    "\n",
    "Here's an example of how to perform elementwise operations with different operators and numpy functions:"
   ]
  },
  {
   "cell_type": "code",
   "execution_count": 9,
   "metadata": {},
   "outputs": [],
   "source": [
    "import numpy as np\n",
    "\n",
    "a = np.array([4, 5, 6])\n",
    "b = np.array([1, 2, 3])\n",
    "\n",
    "print('Element-wise Operations using Basic Arithmetic Operators:')\n",
    "c = a + b\n",
    "d = a - b\n",
    "e = a * b\n",
    "f = a / b\n",
    "g = a % b\n",
    "h = a // b\n",
    "\n",
    "print('Addition:', c)\n",
    "print('Subtraction:', d)\n",
    "print('Multiplication:', e)\n",
    "print('Division:', f)\n",
    "print('Modulo:', g)\n",
    "print('Floor Division', h)\n",
    "\n",
    "print('\\n')\n",
    "print('Element-wise Operations using Numpy Functions:')\n",
    "c = np.add(a, b)\n",
    "d = np.subtract(a, b)\n",
    "e = np.multiply(a, b)\n",
    "f = np.divide(a, b)\n",
    "g = np.divmod(a, b)\n",
    "\n",
    "print('Addition:', c)\n",
    "print('Subtraction:', d)\n",
    "print('Multiplication:', e)\n",
    "print('Division:', f)\n",
    "print('Modulo:', g)"
   ]
  },
  {
   "cell_type": "markdown",
   "metadata": {},
   "source": [
    "### 2. Matrix operations:\n",
    "\n",
    "NumPy provides a large collection of matrix operations, such as dot product, transpose, and inverse. For example, the following code performs a dot product between two matrices:\n",
    "\n",
    "- `np.dot():` Calculates the dot product of two matrices\n",
    "- `np.transpose()` or `T` Property: Calculates the transpose of a matrix\n",
    "- `np.trace()`: Calculates the trace (sum along diagonal) of a matrix\n",
    "- `np.linalg.det()`: Calculates the determinant of a matrix\n",
    "- `np.linalg.inv()`: Calculates the inverse of a matrix\n",
    "- `np.linalg.eig()`: Calculates the eigenvalues and eigenvectors of a matrix\n",
    "- `np.linalg.svd()`: Calculates the singular value decomposition of a matrix\n",
    "- `np.linalg.solve()`: Solves a system of linear equations"
   ]
  },
  {
   "cell_type": "code",
   "execution_count": 10,
   "metadata": {},
   "outputs": [],
   "source": [
    "import numpy as np\n",
    "\n",
    "a = np.array([[1, 2], [3, 4]])\n",
    "b = np.array([[5, 6], [7, 8]])\n",
    "\n",
    "c = np.dot(a, b)\n",
    "d = np.transpose(a)\n",
    "e = np.trace(a)\n",
    "f = np.linalg.det(a)\n",
    "g = np.linalg.inv(a)\n",
    "h, i = np.linalg.eig(a) # h: Eigen Values, i: Eigen Vector\n",
    "j = np.linalg.svd(a)\n",
    "\n",
    "print('Dot Product of two metrices:\\n', c)\n",
    "print('Transpose of matrix a:\\n', d)\n",
    "print('Trace of matrix a:\\n', e)\n",
    "print('Determinant of matrix a:', f)\n",
    "print('Inverse of matrix a:\\n', g)\n",
    "print('Eigen Values of matrix a:\\n', h)\n",
    "print('Eigen Vector of matrix a:\\n', i)\n",
    "print('Singular Value Decomposition of matrix a:', j)\n",
    "\n",
    "# Solve Equations: x + 2*y = 1 and 3*x + 5*y = 2\n",
    "a = [[1, 2], [3, 5]]\n",
    "b = [1, 2]\n",
    "print('Solution to the Equations is:', np.linalg.solve(a, b))"
   ]
  },
  {
   "cell_type": "markdown",
   "metadata": {},
   "source": [
    "### 3. Broadcasting:\n",
    "\n",
    "Broadcasting is a powerful feature in NumPy that allows arithmetic operations to be performed between arrays with different shapes and sizes. The basic idea behind broadcasting is to automatically align the dimensions of two arrays in such a way that arithmetic operations can be performed element-wise.\n",
    "\n",
    "The rules of broadcasting are as follows:\n",
    "\n",
    "1. If the arrays have different numbers of dimensions, the smaller array is padded with ones on its left until it has the same number of dimensions as the larger array.\n",
    "2. If the shape of the arrays does not match along any dimension, the array with shape equal to 1 along that dimension is stretched to match the shape of the other array.\n",
    "3. If the arrays still do not match in shape, an error is raised."
   ]
  },
  {
   "cell_type": "code",
   "execution_count": 11,
   "metadata": {},
   "outputs": [],
   "source": [
    "import numpy as np\n",
    "\n",
    "a = np.array([[1, 2], [3, 4]])\n",
    "b = np.array([10, 20])\n",
    "\n",
    "c = a + b\n",
    "\n",
    "print(c)"
   ]
  },
  {
   "cell_type": "markdown",
   "metadata": {},
   "source": [
    "In this example, we have an array `a` with dimensions 2x2 and an array `b` with dimensions 1x2. Normally, we wouldn't be able to perform element-wise addition between these two arrays because they have different shapes. However, NumPy's broadcasting feature allows us to add `b` to each row of a as if `b` was a 2x2 array with its rows duplicated i.e. `b` behaves to be like `[[10, 20], [10, 20]]`.\n",
    "\n",
    "## Structured Arrays\n",
    "\n",
    "Structured arrays in NumPy are arrays where each element can have a different data type or multiple fields with different data types. This allows you to create arrays that behave like structured data types or database tables.\n",
    "\n",
    "A structured array is defined using a data type descriptor that specifies the layout of each element. "
   ]
  },
  {
   "cell_type": "code",
   "execution_count": 12,
   "metadata": {},
   "outputs": [],
   "source": [
    "import numpy as np\n",
    "\n",
    "# Define a data type with two fields: a string field and a float field\n",
    "dt = np.dtype([('name', np.str_, 16), ('value', np.float64)])\n",
    "\n",
    "# Create a structured array with three elements\n",
    "a = np.array([('foo', 1.23), ('bar', 4.56), ('baz', 7.89)], dtype=dt)\n",
    "\n",
    "# Access individual fields using the field name\n",
    "print(a['name'])\n",
    "print(a['value'])"
   ]
  },
  {
   "cell_type": "markdown",
   "metadata": {},
   "source": [
    "In this example, we define a data type with two fields: a string field called 'name' with a maximum length of 16 characters, and a float field called 'value'. We then create a structured array with three elements, where each element consists of a string and a float.\n",
    "\n",
    "You can access individual fields of a structured array using the field name as a key. You can also access individual elements of the array using standard indexing syntax.\n",
    "\n",
    "Structured arrays are a powerful tool for working with heterogeneous data in NumPy. They allow you to store and manipulate data with different data types in a convenient and efficient way.\n",
    "\n",
    "In general, the decision to use structured arrays should be based on the specific requirements of your project and the characteristics of your data. If you have data with multiple fields or columns, and you need to perform database-like operations or store metadata, then a structured array may be the best choice. However, if your data has a simple structure or you need to perform complex calculations, then a regular array or another data structure may be more appropriate.\n",
    "\n",
    "## Why Numpy over Python `for` Loop?\n",
    "\n",
    "NumPy is faster than Python for loops because it is designed to perform operations on entire arrays rather than individual elements. This allows it to take advantage of lower-level optimizations such as vectorization and caching. Here's an example that illustrates the performance difference between NumPy and Python for loops:"
   ]
  },
  {
   "cell_type": "code",
   "execution_count": 13,
   "metadata": {},
   "outputs": [],
   "source": [
    "import numpy as np\n",
    "import time\n",
    "\n",
    "# Using NumPy for element-wise multiplication\n",
    "a = np.random.rand(1000000)\n",
    "b = np.random.rand(1000000)\n",
    "\n",
    "start = time.time()\n",
    "c = a * b\n",
    "end = time.time()\n",
    "numpy_execution_time = end - start\n",
    "print(\"Time taken by NumPy: {:.6f} seconds\".format(numpy_execution_time))\n",
    "\n",
    "# Using Python for loop for element-wise multiplication\n",
    "a = list(a)\n",
    "b = list(b)\n",
    "c = []\n",
    "\n",
    "start = time.time()\n",
    "for i in range(len(a)):\n",
    "    c.append(a[i] * b[i])\n",
    "end = time.time()\n",
    "for_loop_execution_time = end - start\n",
    "print(\"Time taken by Python for loop: {:.6f} seconds\".format(end - start))\n",
    "\n",
    "print(f'Numpy is {int(for_loop_execution_time/numpy_execution_time)} times faster than Python for loop!')"
   ]
  },
  {
   "cell_type": "markdown",
   "metadata": {},
   "source": [
    "This performance difference becomes even more significant as the size of the arrays increases."
   ]
  }
 ],
 "metadata": {
  "kernelspec": {
   "display_name": "Python 3 (ipykernel)",
   "language": "python",
   "name": "python3"
  },
  "language_info": {
   "codemirror_mode": {
    "name": "ipython",
    "version": 3
   },
   "file_extension": ".py",
   "mimetype": "text/x-python",
   "name": "python",
   "nbconvert_exporter": "python",
   "pygments_lexer": "ipython3",
   "version": "3.8.10"
  }
 },
 "nbformat": 4,
 "nbformat_minor": 2
}
