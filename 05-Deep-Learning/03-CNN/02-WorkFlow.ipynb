{
 "cells": [
  {
   "attachments": {},
   "cell_type": "markdown",
   "metadata": {},
   "source": [
    "# Convolution Neural Networks (CNNs)\n",
    "\n",
    "Convolutional Neural Network or CNN, is a deep learning algorithm that is widely used for image and video recognition, as well as other tasks involving structured grid data. CNNs are designed to automatically and hierarchically learn complex features from raw input data without manual feature engineering. They have revolutionized the field of computer vision and achieved state-of-the-art performance on various image-related tasks.\n",
    "\n",
    "Here's a simplified explanation of how CNNs work:\n",
    "\n",
    "![CNN](./../../assets/cnn.jpg)\n",
    "\n",
    "## Convolution Layer\n",
    "\n",
    "The input to a CNN is an image or a patch of an image. The first layer in a CNN is a convolutional layer that applies a set of learnable `filters` (also known as `kernels`) to the input image. Each filter performs a convolution operation by sliding across the image, computing dot products between the filter weights and the corresponding pixels in the input. This operation captures local patterns and features, such as edges, corners, and textures.\n",
    "\n",
    "### Kernels aka Filters\n",
    "\n",
    "Let's imagine you have a paragraph of text that you want to understand. When you read the paragraph, you start from the left and move to the right, extracting meaning from the words and sentences. You don't focus on individual letters, but rather interpret groups of letters as words. In a similar way, CNNs use kernels (also known as filters or feature detectors) to understand images.\n",
    "\n",
    "An image is made up of pixels, just like text is made up of letters. Each pixel in an image is associated with a value ranging from 0 to 255, determining its intensity (Or 3 values per pixel for colored images, one for each of red, green and blue channels). The intelligence of CNNs lies in these kernels because they capture the essential information from the image, allowing the network to make predictions or perform tasks like image classification, object detection, or image segmentation.\n",
    "\n",
    "![Kernels](./../../assets/kernel.gif)\n",
    "\n",
    "**How do Kernels Work?**\n",
    "\n",
    "Imagine you have a grayscale image, like a black and white photo. Each pixel in the image has a specific value that represents its intensity. The kernel is a small matrix of values that we slide across the image.\n",
    "\n",
    "To extract a feature, we take the kernel and place it on top of a part of the image. We then multiply each pixel in the kernel with the corresponding pixel in the image. We add up all these multiplications to get a single number, which represents the presence or absence of a certain feature in that part of the image.\n",
    "\n",
    "This process is repeated as the kernel slides across the entire image, capturing different parts and extracting features from each. Each kernel focuses on detecting a specific pattern or feature. It gradually builds a hierarchical understanding, starting with low-level features like edges, corners and progressing to higher-level features like shapes, textures or objects.\n",
    "\n",
    "**How do I define the values of a Kernel?**\n",
    "\n",
    "The values in the kernel itself can be initialized randomly or set using a predefined function at the beginning. But as the network is trained with data, these values get adjusted to optimize the network's performance in extracting meaningful features.\n",
    "\n",
    "### Strides\n",
    "\n",
    "In real life each image is made up of thousands of tiny dots called pixels. Each pixel represents a color. When we want to process this picture using a Convolutional Neural Network (CNN), it can take a lot of time and computing power because there are so many pixels to consider.\n",
    "\n",
    "To make things faster and more efficient, we can reduce the number of features, which are essentially the different patterns or characteristics that the CNN tries to learn from the image. One way to do this is by changing the `stride` parameter. The stride parameter determines how many pixels the CNN's analyzing window, called a kernel or filter, moves at a time.\n",
    "\n",
    "In the previous example, we took a single step while moving the kernel i.e. the stride parameter has value `1` in this case. If you set two strides=2 then you take two step right in a row-wise and two steps down in a column-wise movement.\n",
    "\n",
    "### Padding\n",
    "\n",
    "In a Convolutional Neural Network (CNN), padding is used to add extra pixels around the borders of an image before applying convolution. Padding can help preserve spatial information, mitigate the loss of border pixels during convolution, and control the size of the output feature map. The added pixels create a buffer zone around the original image, allowing the kernel to traverse the borders and capture features from the entire image.\n",
    "\n",
    "There are two common types of padding:\n",
    "\n",
    "- **Valid (No Padding):** In this case, no padding is applied, and the kernel is only applied to positions where it fully overlaps with the input image. As a result, the output feature map will have smaller dimensions compared to the input image.\n",
    "\n",
    "- **Same (Zero Padding):** The \"same\" padding ensures that the output feature map has the same spatial dimensions (width and height) as the input image. To achieve this, the number of padding pixels added to each dimension is determined by the kernel size. For an odd-sized kernel, the same number of pixels is added to both sides, while for an even-sized kernel, the extra pixel is added to the right/bottom side.\n",
    "\n",
    "![Padding](./../../assets/padding.png)\n",
    "\n",
    "Padding helps in several ways:\n",
    "\n",
    "- Retaining spatial dimensions: Zero padding ensures that the spatial dimensions of the input and output remain the same. This can be useful to maintain information at the borders of the image.\n",
    "\n",
    "- Centering the kernel: Padding allows the kernel to be centered at the borders of the image, enabling it to process pixels in the border regions.\n",
    "\n",
    "- Controlling downsampling: Padding can prevent significant downsampling of the image by reducing the stride effect. It helps in preserving more spatial information throughout the convolutional layers.\n",
    "\n",
    "- Mitigating information loss: Padding helps in reducing the loss of important border pixels during convolution, which can be crucial in tasks like object detection or segmentation.\n",
    "\n",
    "The output size after applying kernels, strides and padding is given by:\n",
    "\n",
    "$Feature\\ Map\\ Size = \\frac{Input\\ Image\\ size - Kernel\\ size + 2 * Padding}{Stride} + 1$"
   ]
  },
  {
   "attachments": {},
   "cell_type": "markdown",
   "metadata": {},
   "source": [
    "## Activation Function\n",
    "\n",
    "After the convolution operation, an element-wise activation function (typically ReLU - Rectified Linear Unit) is applied to introduce non-linearity. This helps the network learn more complex representations.\n",
    "\n",
    "## Pooling Layer\n",
    "\n",
    "<video width=\"640\" height=\"360\" controls>\n",
    "  <source src=\"./../../assets/pooling.mp4\" type=\"video/mp4\">\n",
    "  Your browser does not support the video tag.\n",
    "</video>\n",
    "\n",
    "\n",
    "The video above is a very good demonstration of an insight that reducing the size of an image does not always result in information loss, as evidenced by the ability to identify a dog in a smaller version of the picture. Even a fraction (1/4th) of the original image is sufficient to deduce its content, obviating the need for processing the entire image in CNNs.\n",
    "\n",
    "Pooling plays a crucial role in this scenario, facilitating the reduction of the feature map's size.\n",
    "\n",
    "The primary purpose of pooling is to reduce the spatial dimensions of the feature map, maintaining relevant information while enhancing computational efficiency. Pooling achieves size reduction of the image (feature map) by employing a filter that extracts a single value from a block of features. The most common type of pooling is max pooling, which divides the input into small regions and outputs the maximum value within each region. This downsampling operation reduces the computational complexity and makes the network more robust to spatial translations and distortions.\n",
    "\n",
    "![Pooling Workflow](./../../assets/pooling.gif)"
   ]
  },
  {
   "attachments": {},
   "cell_type": "markdown",
   "metadata": {},
   "source": [
    "## Flattening and Fully Connected Layers\n",
    "\n",
    "After several convolutional and pooling layers, the output is flattened and fed into one or more fully connected layers. These layers are similar to traditional artificial neural networks, where each neuron is connected to every neuron in the previous layer. The fully connected layers capture high-level features and patterns by learning complex combinations of the low-level features obtained from earlier layers.\n",
    "\n",
    "![Flattening and Fully Connected Layers](./../../assets/flatten.jpg)\n",
    "\n",
    "## Output Layer\n",
    "\n",
    "The final fully connected layer is usually followed by an output layer with a suitable activation function depending on the task at hand. For instance, for image classification problems, a softmax activation is commonly used to produce a probability distribution over different classes.\n",
    "\n",
    "## Training and Backpropagation\n",
    "\n",
    "The CNN is trained using a large labeled dataset. During training, the network adjusts the weights of the filters and the fully connected layers to minimize the difference between the predicted outputs and the ground truth labels. This process is typically performed using an optimization algorithm called backpropagation, which computes the gradients of the loss function with respect to the network's parameters and updates them accordingly."
   ]
  },
  {
   "cell_type": "code",
   "execution_count": 1,
   "metadata": {},
   "outputs": [
    {
     "name": "stdout",
     "output_type": "stream",
     "text": [
      "Model: \"sequential\"\n",
      "_________________________________________________________________\n",
      " Layer (type)                Output Shape              Param #   \n",
      "=================================================================\n",
      " conv2d (Conv2D)             (None, 30, 30, 16)        448       \n",
      "                                                                 \n",
      " max_pooling2d (MaxPooling2D  (None, 15, 15, 16)       0         \n",
      " )                                                               \n",
      "                                                                 \n",
      " flatten (Flatten)           (None, 3600)              0         \n",
      "                                                                 \n",
      " dense (Dense)               (None, 10)                36010     \n",
      "                                                                 \n",
      "=================================================================\n",
      "Total params: 36,458\n",
      "Trainable params: 36,458\n",
      "Non-trainable params: 0\n",
      "_________________________________________________________________\n"
     ]
    }
   ],
   "source": [
    "import tensorflow as tf\n",
    "from tensorflow.keras import layers\n",
    "\n",
    "# Define the CNN model\n",
    "model = tf.keras.Sequential([\n",
    "    layers.Conv2D(16, (3, 3), activation='relu', input_shape=(32, 32, 3)),  # Convolutional layer with 16 filters and 3x3 kernel size\n",
    "    layers.MaxPooling2D((2, 2)),  # Max pooling layer with 2x2 pool size\n",
    "    layers.Flatten(),  # Flatten the feature maps\n",
    "    layers.Dense(10, activation='softmax')  # Fully connected layer with 10 output units (for classification)\n",
    "])\n",
    "\n",
    "# Print the model summary:\n",
    "model.summary()"
   ]
  },
  {
   "cell_type": "code",
   "execution_count": 2,
   "metadata": {},
   "outputs": [
    {
     "name": "stdout",
     "output_type": "stream",
     "text": [
      "Image shape: (32, 32, 3)\n",
      "Label: tf.Tensor(4, shape=(), dtype=int32)\n",
      "Epoch 1/5\n",
      "4/4 [==============================] - 0s 6ms/step - loss: 3.2923 - accuracy: 0.1000\n",
      "Epoch 2/5\n",
      "4/4 [==============================] - 0s 5ms/step - loss: 2.7016 - accuracy: 0.1200\n",
      "Epoch 3/5\n",
      "4/4 [==============================] - 0s 5ms/step - loss: 2.3255 - accuracy: 0.1900\n",
      "Epoch 4/5\n",
      "4/4 [==============================] - 0s 5ms/step - loss: 1.8201 - accuracy: 0.3800\n",
      "Epoch 5/5\n",
      "4/4 [==============================] - 0s 6ms/step - loss: 1.6354 - accuracy: 0.4400\n"
     ]
    },
    {
     "data": {
      "text/plain": [
       "<keras.callbacks.History at 0x200ccc79e50>"
      ]
     },
     "execution_count": 2,
     "metadata": {},
     "output_type": "execute_result"
    }
   ],
   "source": [
    "# Create a custom Tensor dataset\n",
    "data = tf.random.normal((100, 32, 32, 3))  # Example dataset with 100 images of shape 32x32 and 3 channels\n",
    "labels = tf.random.uniform((100,), maxval=10, dtype=tf.int32)  # Example labels for the dataset\n",
    "\n",
    "dataset = tf.data.Dataset.from_tensor_slices((data, labels))\n",
    "\n",
    "# Print a sample from the dataset\n",
    "for image, label in dataset.take(1):\n",
    "    print(\"Image shape:\", image.shape)\n",
    "    print(\"Label:\", label)\n",
    "\n",
    "# Compile and train the model (you should use your own dataset and training setup)\n",
    "model.compile(optimizer='adam', loss='sparse_categorical_crossentropy', metrics=['accuracy'])\n",
    "model.fit(dataset.batch(32), epochs=5)"
   ]
  },
  {
   "attachments": {},
   "cell_type": "markdown",
   "metadata": {},
   "source": [
    "In this example, we create a simple CNN model using the Sequential API from TensorFlow's Keras module. The model consists of a convolutional layer with a 3x3 kernel, followed by a max pooling layer, a flattening layer, and a fully connected layer for classification. The model's summary provides information about the layers, including the kernel representation.\n",
    "\n",
    "We then create a custom Tensor dataset using TensorFlow's `tf.data.Dataset.from_tensor_slices` method. You can replace this part with your own dataset loading and preprocessing code. In this example, we generate random tensors for the dataset images and labels.\n",
    "\n",
    "Finally, we compile the model using an optimizer, loss function, and metrics, and train it using the dataset. Note that in this example, we are training for only 5 epochs with a batch size of 32. You should adjust these parameters and use your own dataset and training setup according to your specific requirements."
   ]
  },
  {
   "cell_type": "code",
   "execution_count": 3,
   "metadata": {},
   "outputs": [
    {
     "name": "stdout",
     "output_type": "stream",
     "text": [
      "2/2 [==============================] - 0s 4ms/step - loss: 2.4943 - accuracy: 0.1000\n",
      "Test Loss: 2.4942800998687744 \tTest Accuracy: 0.10000000149011612\n",
      "1/1 [==============================] - 0s 62ms/step\n",
      "Predicted Labels: tf.Tensor([2 6 6 7 9 9 2 7 2 6], shape=(10,), dtype=int64)\n"
     ]
    }
   ],
   "source": [
    "test_data = tf.random.normal((50, 32, 32, 3))  # Example test dataset with 50 images\n",
    "test_labels = tf.random.uniform((50,), maxval=10, dtype=tf.int32)  # Example test labels\n",
    "\n",
    "# Evaluate the model on the test dataset\n",
    "test_loss, test_accuracy = model.evaluate(test_data, test_labels)\n",
    "print(\"Test Loss:\", test_loss, \"\\tTest Accuracy:\", test_accuracy)\n",
    "\n",
    "# Make predictions on new data\n",
    "new_data = tf.random.normal((10, 32, 32, 3))  # Example new data with 10 images\n",
    "\n",
    "predictions = model.predict(new_data)\n",
    "\n",
    "# The predictions will be a probability distribution over the classes\n",
    "# Extract the predicted class labels using argmax\n",
    "predicted_labels = tf.argmax(predictions, axis=-1)\n",
    "print(\"Predicted Labels:\", predicted_labels)"
   ]
  },
  {
   "attachments": {},
   "cell_type": "markdown",
   "metadata": {},
   "source": [
    "In this example, assuming you have a separate test dataset (with test data and corresponding labels), you can evaluate the model's performance by calling the `evaluate` method on the test data and labels. It will return the test loss and accuracy.\n",
    "\n",
    "To make predictions on new data using the trained model, you can call the `predict` method, passing in the new data. The output will be a probability distribution over the classes. You can extract the predicted class labels using `argmax` along the appropriate axis."
   ]
  }
 ],
 "metadata": {
  "kernelspec": {
   "display_name": "env",
   "language": "python",
   "name": "python3"
  },
  "language_info": {
   "codemirror_mode": {
    "name": "ipython",
    "version": 3
   },
   "file_extension": ".py",
   "mimetype": "text/x-python",
   "name": "python",
   "nbconvert_exporter": "python",
   "pygments_lexer": "ipython3",
   "version": "3.11.4"
  },
  "orig_nbformat": 4
 },
 "nbformat": 4,
 "nbformat_minor": 2
}
