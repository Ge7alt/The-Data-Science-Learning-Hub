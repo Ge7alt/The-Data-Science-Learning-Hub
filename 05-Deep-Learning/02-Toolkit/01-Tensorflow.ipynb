{
 "cells": [
  {
   "attachments": {},
   "cell_type": "markdown",
   "metadata": {},
   "source": [
    "# TensorFlow\n",
    "\n",
    "[TensorFlow](https://www.tensorflow.org/) is an open-source machine learning library developed by [Google](https://www.google.org/). It provides a flexible framework for building and training various machine learning models, particularly deep neural networks. TensorFlow allows you to define and execute computational graphs efficiently across different hardware platforms, such as CPUs, GPUs, or TPUs.\n",
    "\n",
    "TensorFlow operates based on the concept of tensors, which are multi-dimensional arrays. It leverages a static computation graph, where you define the operations and connections between nodes in the graph, and then execute the graph within a TensorFlow session.\n",
    "\n",
    "In this tutorial, we will discover a step-by-step guide to developing deep learning models in TensorFlow using the `tf.keras` API.\n",
    "***\n",
    "After completing this tutorial, you will know:\n",
    "\n",
    "- The difference between `keras` and `tf.keras` and how to install and confirm `TensorFlow` is working.\n",
    "- The 5-step life-cycle of `tf.keras` models and how to use the `sequential` and `functional APIs`.\n",
    "- How to develop `MLP`, `CNN`, and `RNN` models with `tf.keras` for regression, classification, and time series forecasting.\n",
    "- How to use the advanced features of the `tf.keras API` to inspect and diagnose your model.\n",
    "- How to improve the performance of your `tf.keras` model by reducing overfitting and accelerating training.\n",
    "\n",
    "## Keras\n",
    "\n",
    "Keras is a popular open-source deep learning library written in Python. It gained popularity due to its clean and simple API, which allowed developers to define, train, and evaluate deep learning models with just a few lines of code.\n",
    "\n",
    "One of the key reasons for Keras' success was its ability to seamlessly integrate with various backend libraries for performing computations, such as TensorFlow, Theano, and CNTK. This integration allowed users to leverage the power of these libraries, including GPU acceleration, while benefiting from Keras' user-friendly interface.\n",
    "\n",
    "In 2019, Google introduced TensorFlow 2, which incorporated the Keras API directly into the TensorFlow library. This integration, known as `tf.keras`, became the default and recommended interface for deep learning development in the TensorFlow ecosystem. It provided a standardized way to use Keras functionality within TensorFlow, simplifying the development process and offering the advantages of both TensorFlow and Keras.\n",
    "\n",
    "It's important to note that there are two distinct versions of Keras: the standalone open-source project and `tf.keras` integrated into TensorFlow 2. The standalone version supports multiple backends, including TensorFlow, Theano, and CNTK, while `tf.keras` refers specifically to the Keras API integrated within TensorFlow 2.\n",
    "\n",
    "To start, you need to install TensorFlow using pip:\n",
    "\n",
    "```python\n",
    "pip install tensorflow\n",
    "```"
   ]
  },
  {
   "cell_type": "code",
   "execution_count": 1,
   "metadata": {},
   "outputs": [
    {
     "data": {
      "text/plain": [
       "'2.12.0'"
      ]
     },
     "execution_count": 1,
     "metadata": {},
     "output_type": "execute_result"
    }
   ],
   "source": [
    "import tensorflow as tf\n",
    "tf.__version__"
   ]
  },
  {
   "attachments": {},
   "cell_type": "markdown",
   "metadata": {},
   "source": [
    "This confirms that TensorFlow is installed correctly as the version of tensorflow being installed is shown."
   ]
  },
  {
   "attachments": {},
   "cell_type": "markdown",
   "metadata": {},
   "source": [
    "## Deep Learning Model Life-Cycle\n",
    "\n",
    "In deep learning, a model goes through a life-cycle consisting of five essential steps. These steps are crucial for both modeling a dataset and using the `tf.keras` API effectively. Let's explore each step in detail:\n",
    "\n",
    "### 1. Define the Model\n",
    "\n",
    "The first step is to choose the appropriate type of model for your task and then design its architecture or network topology. In the `tf.keras` API, you define the model by specifying its layers. Each layer is configured with the desired number of nodes and activation function. The layers are then connected to form a cohesive model. There are two options for defining models:\n",
    "- Sequential API\n",
    "- Functional API."
   ]
  },
  {
   "cell_type": "code",
   "execution_count": 2,
   "metadata": {},
   "outputs": [],
   "source": [
    "model = tf.keras.Sequential()"
   ]
  },
  {
   "attachments": {},
   "cell_type": "markdown",
   "metadata": {},
   "source": [
    "### 2. Compile the Model\n",
    "\n",
    "After defining the model, you need to compile it. This involves selecting a loss function to optimize, such as mean squared error or cross-entropy. You also choose an optimization algorithm, typically stochastic gradient descent (SGD) or a modern variation like Adam. Additionally, you can specify performance metrics to track during the model training process. Compiling the model in the `tf.keras` API involves calling a function that prepares the necessary data structures for efficient model usage.\n",
    "\n",
    "Here are a list of supported [Optimizers](https://www.tensorflow.org/api_docs/python/tf/keras/optimizers) and [Losses](https://www.tensorflow.org/api_docs/python/tf/keras/losses)."
   ]
  },
  {
   "cell_type": "code",
   "execution_count": 3,
   "metadata": {},
   "outputs": [],
   "source": [
    "opt = tf.keras.optimizers.SGD(learning_rate=0.01, momentum=0.9)\n",
    "model.compile(optimizer=opt, loss='binary_crossentropy', metrics=['accuracy'])"
   ]
  },
  {
   "attachments": {},
   "cell_type": "markdown",
   "metadata": {},
   "source": [
    "### 3. Fit the Model\n",
    "\n",
    "During the training phase, fitting the model requires making some important configuration choices. You need to specify the number of epochs, which determines how many times the model will iterate over the training dataset. The batch size is another configuration option that determines the number of samples processed before updating the model's parameters.\n",
    "\n",
    "The training process applies an optimization algorithm, such as stochastic gradient descent (SGD), to minimize the chosen loss function. It updates the model's weights and biases using the backpropagation algorithm, which propagates the error through the layers of the network.\n",
    "\n",
    "Fitting the model is often the most time-consuming step in the whole process. The duration can vary significantly depending on factors like the complexity of the model, the hardware being used, and the size of the training dataset. It can take seconds, hours, or even days.\n",
    "\n",
    "In terms of the `tf.keras` API, fitting the model involves calling a function that performs the training process. This function will block, meaning it will not return until the training is complete. As the model trains, a progress bar shows the status of each epoch and the overall training progress. You can adjust the verbosity of the output by setting the `verbose` argument.\n",
    "\n",
    "- `verbose=0:` Disables all output during training\n",
    "- `verbose=1:` Enables a simplified progress bar that provides an overview of the training process\n",
    "- `verbose=2:` Provides a summary of model performance after each epoch"
   ]
  },
  {
   "cell_type": "code",
   "execution_count": 4,
   "metadata": {},
   "outputs": [],
   "source": [
    "# model.fit(X, y, epochs=100, batch_size=32, verbose=0)"
   ]
  },
  {
   "attachments": {},
   "cell_type": "markdown",
   "metadata": {},
   "source": [
    "### 4. Evaluate the Model\n",
    "\n",
    "To evaluate a trained model, you need to set aside a separate dataset called a holdout dataset. This dataset should not be used during the training process to ensure an unbiased estimate of the model's performance when making predictions on new, unseen data.\n",
    "\n",
    "The speed of model evaluation depends on the amount of data you use for evaluation. However, evaluating a model is generally faster than training because the model's parameters are not updated during evaluation.\n",
    "\n",
    "In the tf.keras API, evaluating the model involves calling a specific function with the holdout dataset. This function calculates the loss and, optionally, other metrics that you can report. The loss provides a measure of how well the model is performing on the evaluation dataset, while additional metrics can give you more specific insights into the model's performance.\n",
    "\n",
    "By evaluating the model on a holdout dataset, you can assess its generalization ability and gain confidence in its ability to make accurate predictions on new, unseen data."
   ]
  },
  {
   "cell_type": "code",
   "execution_count": 5,
   "metadata": {},
   "outputs": [],
   "source": [
    "# loss = model.evaluate(X, y, verbose=0)"
   ]
  },
  {
   "attachments": {},
   "cell_type": "markdown",
   "metadata": {},
   "source": [
    "### 5. Make a Prediction\n",
    "\n",
    "Making predictions is the final step in the life-cycle of a deep learning model, and it is the main reason we build the model in the first place. This step involves using the trained model to make predictions on new, unseen data for which we do not have the target values.\n",
    "\n",
    "From the perspective of the tf.keras API, making predictions is straightforward. You simply call a function to feed the new data into the model and obtain the desired output. The output can be a class label, a probability, or any numerical value, depending on the specific task you designed the model for.\n",
    "\n",
    "In some cases, you may want to save the trained model for later use. This can be achieved by saving the model's architecture, weights, and optimizer state to disk. Later, you can load the saved model and make predictions using the loaded model without having to retrain it.\n",
    "\n",
    "It's also worth mentioning that sometimes it can be beneficial to train the model on all the available data before using it for predictions. This approach, known as \"fitting on full data,\" allows the model to learn from all the available information and potentially improve its performance."
   ]
  },
  {
   "cell_type": "code",
   "execution_count": 6,
   "metadata": {},
   "outputs": [],
   "source": [
    "# y_hat = model.predict(X)"
   ]
  },
  {
   "attachments": {},
   "cell_type": "markdown",
   "metadata": {},
   "source": [
    "## Sequential Model API (Simple)\n",
    "\n",
    "The `Sequential` model API is the simplest and most recommended approach, especially for beginners in deep learning. It allows you to build models in a linear, sequential manner, from input to output.\n",
    "\n",
    "In the `Sequential` model API, you create an instance of the `Sequential` class and add layers to the model one by one. Each layer represents a specific operation or transformation that the data undergoes as it flows through the network.\n",
    "\n",
    "For example, let's consider a `Sequential` MLP model. MLP stands for Multi-Layer Perceptron, which is a type of neural network. In this example, we have eight input features, one hidden layer with 10 nodes, and an output layer with one node that predicts a numerical value.\n",
    "\n",
    "To define this model using the Sequential API, you would:\n",
    "- Create a `Sequential` model instance.\n",
    "- Add the first layer, specifying the number of input features. In this case, it would be eight.\n",
    "- Add the hidden layer with 10 nodes, specifying the activation function and other configuration if needed.\n",
    "- Add the output layer with one node, again specifying the activation function if applicable.\n",
    "\n",
    "Here's an example code snippet that demonstrates the definition of the Sequential MLP model:"
   ]
  },
  {
   "cell_type": "code",
   "execution_count": 7,
   "metadata": {},
   "outputs": [],
   "source": [
    "from tensorflow.keras.models import Sequential\n",
    "from tensorflow.keras.layers import Dense\n",
    "\n",
    "model = Sequential()  # Create a Sequential model\n",
    "model.add(Dense(10, input_shape=(8,), activation='relu'))  # Add the input layer\n",
    "model.add(Dense(10, activation='relu'))  # Add the hidden layer\n",
    "model.add(Dense(1, activation='linear'))  # Add the output layer\n",
    "\n",
    "# This can also be coded as:\n",
    "# model = Sequential([\n",
    "#     Dense(10, input_shape=(8,), activation='relu'),\n",
    "#     Dense(10, activation='relu'),\n",
    "#     Dense(1, activation='linear')\n",
    "# ])"
   ]
  },
  {
   "attachments": {},
   "cell_type": "markdown",
   "metadata": {},
   "source": [
    "In this code, we import the necessary modules from `tensorflow.keras`. We create a `Sequential` model object and use the `add()` method to add layers to the model. We specify the number of nodes and the activation function for each layer.\n",
    "\n",
    "For more on the Sequential API, see: [The Keras sequential API in TensorFlow](https://www.tensorflow.org/guide/keras/sequential_model)"
   ]
  },
  {
   "attachments": {},
   "cell_type": "markdown",
   "metadata": {},
   "source": [
    "## Functional Model API (Advanced)\n",
    "\n",
    "\n",
    "The `Functional` API in `tf.keras` provides a more flexible approach for defining deep learning models compared to the `Sequential` API. While it is slightly more complex, it offers greater flexibility in terms of model architecture.\n",
    "\n",
    "In the functional API, you explicitly connect the output of one layer to the input of another layer, allowing you to create more complex network architectures, such as multi-input or multi-output models. Each connection between layers is specified explicitly.\n",
    "\n",
    "To use the functional API, you start by defining an input layer using the `Input` class. You specify the shape of an input sample, indicating the dimensions of the input data. It's important to retain a reference to the input layer because it serves as the starting point for connecting other layers in the model.\n",
    "\n",
    "By explicitly connecting the layers, you have fine-grained control over how the data flows through the model. This flexibility allows you to create models with multiple branches, skip connections, or models with shared layers.\n",
    "\n",
    "Overall, while the functional API may be slightly more involved, it provides the necessary flexibility to build complex and customizable deep learning models in `tf.keras`."
   ]
  },
  {
   "cell_type": "code",
   "execution_count": 8,
   "metadata": {},
   "outputs": [],
   "source": [
    "import tensorflow as tf\n",
    "\n",
    "input_layer = tf.keras.Input(shape=(784,))  # Define the input layer\n",
    "hidden1 = tf.keras.layers.Dense(64, activation='relu')(input_layer)  # Define the first hidden layer\n",
    "hidden2 = tf.keras.layers.Dense(64, activation='relu')(hidden1)  # Define the second hidden layer\n",
    "output_layer = tf.keras.layers.Dense(10, activation='softmax')(hidden2)  # Define the output layer\n",
    "\n",
    "# Create the model by specifying the input and output layers\n",
    "model = tf.keras.Model(inputs=input_layer, outputs=output_layer)"
   ]
  },
  {
   "attachments": {},
   "cell_type": "markdown",
   "metadata": {},
   "source": [
    "In this example, we create a simple `feedforward` neural network with two hidden layers using the `Functional` API.\n",
    "\n",
    "- We start by defining the input layer using `tf.keras.Input()` and specifying the shape of the input data, which is `(784,)` in this case.\n",
    "- Next, we define the first hidden layer (`hidden1`) by applying the `Dense` layer to the input layer. We specify `64` units (nodes) and use the `ReLU` activation function.\n",
    "- Similarly, we define the second hidden layer (`hidden2`) by applying another `Dense` layer to `hidden1` with the same configuration.\n",
    "- Finally, we define the output layer (`output_layer`) by applying the `Dense` layer with `10` units (corresponding to the number of classes in the output) and using the `softmax` activation function.\n",
    "- We create the `model` by specifying the input (`input_layer`) and output (`output_layer`) layers to `tf.keras.Model` class.\\\n",
    "\n",
    "For more on the functional API, see: [The Keras functional API in TensorFlow](https://www.tensorflow.org/guide/keras/functional)"
   ]
  },
  {
   "attachments": {},
   "cell_type": "markdown",
   "metadata": {},
   "source": [
    "## Develop Multilayer Perceptron Models\n",
    "\n",
    "A Multilayer Perceptron (MLP) model is a type of neural network that consists of multiple layers of nodes. Each node in a layer is connected to all the outputs from the previous layer, and the output of each node is connected to all the inputs for nodes in the next layer. This creates a fully connected network architecture.\n",
    "\n",
    "To create an MLP model, we use one or more `Dense` layers. Dense layers are fully connected layers where each node is connected to every node in the previous layer. MLP models are commonly used for tabular data, which is data represented in a table or spreadsheet format, with each column representing a variable and each row representing an instance.\n",
    "\n",
    "You can use an MLP for three types of predictive modeling problems:\n",
    "\n",
    "### 1. MLP for Binary Classification\n",
    "\n",
    " This is when you have a classification problem with two classes or categories. For example, predicting whether an email is spam or not spam.\n",
    " \n",
    "**Dataset:** We will be using same dataset here as done for machine learning classification problem i.e. HR-Analytics data. You can find the `csv` file for the dataset in `data` folder under the root directory of this repository."
   ]
  },
  {
   "cell_type": "code",
   "execution_count": 9,
   "metadata": {},
   "outputs": [
    {
     "name": "stdout",
     "output_type": "stream",
     "text": [
      "Epoch 1/10\n",
      "375/375 [==============================] - 1s 949us/step - loss: 0.4207 - accuracy: 0.8142\n",
      "Epoch 2/10\n",
      "375/375 [==============================] - 0s 872us/step - loss: 0.3347 - accuracy: 0.8684\n",
      "Epoch 3/10\n",
      "375/375 [==============================] - 0s 803us/step - loss: 0.3045 - accuracy: 0.8854\n",
      "Epoch 4/10\n",
      "375/375 [==============================] - 0s 826us/step - loss: 0.2884 - accuracy: 0.8901\n",
      "Epoch 5/10\n",
      "375/375 [==============================] - 0s 866us/step - loss: 0.2762 - accuracy: 0.8936\n",
      "Epoch 6/10\n",
      "375/375 [==============================] - 0s 798us/step - loss: 0.2694 - accuracy: 0.8977\n",
      "Epoch 7/10\n",
      "375/375 [==============================] - 0s 822us/step - loss: 0.2648 - accuracy: 0.8974\n",
      "Epoch 8/10\n",
      "375/375 [==============================] - 0s 800us/step - loss: 0.2595 - accuracy: 0.9007\n",
      "Epoch 9/10\n",
      "375/375 [==============================] - 0s 856us/step - loss: 0.2560 - accuracy: 0.9007\n",
      "Epoch 10/10\n",
      "375/375 [==============================] - 0s 820us/step - loss: 0.2541 - accuracy: 0.9012\n",
      "94/94 [==============================] - 0s 711us/step - loss: 0.2493 - accuracy: 0.8983\n",
      "Test Loss: 0.2493\n",
      "Test Accuracy: 0.8983\n",
      "94/94 [==============================] - 0s 667us/step\n"
     ]
    }
   ],
   "source": [
    "import numpy as np\n",
    "import pandas as pd\n",
    "import tensorflow as tf\n",
    "from sklearn.preprocessing import StandardScaler\n",
    "from sklearn.model_selection import train_test_split\n",
    "\n",
    "# Load HR analytics data\n",
    "data = pd.read_csv('./../../data/HR-Analytics.csv')\n",
    "\n",
    "# Preprocessing\n",
    "data.replace(['?', '', 'n/a', '-', '--'], np.nan, inplace=True)\n",
    "data.dropna(subset=['left'], inplace=True)\n",
    "data = data[['satisfaction_level','average_montly_hours','promotion_last_5years','salary', 'left']]\n",
    "data['left'] = pd.to_numeric(data['left'])\n",
    "data.salary.fillna(data.salary.mode().values[0], inplace=True)\n",
    "salary = pd.get_dummies(data['salary'], dtype=int)\n",
    "data = pd.concat([data, salary], axis='columns')\n",
    "data.drop(['salary'], axis=1, inplace=True)\n",
    "\n",
    "# Separate features and target variable\n",
    "X = data.drop('left', axis=1)\n",
    "y = data['left']\n",
    "\n",
    "# Perform train-test split\n",
    "X_train, X_test, y_train, y_test = train_test_split(X, y, test_size=0.2, random_state=42)\n",
    "\n",
    "del data, salary, X, y\n",
    "\n",
    "# Scale the data\n",
    "scaler = StandardScaler()\n",
    "X_train = scaler.fit_transform(X_train)\n",
    "X_test = scaler.transform(X_test)\n",
    "\n",
    "# Define the model\n",
    "model = tf.keras.Sequential([\n",
    "    tf.keras.layers.Dense(64, activation='relu', input_shape=(X_train.shape[1],)),\n",
    "    tf.keras.layers.Dense(64, activation='relu'),\n",
    "    tf.keras.layers.Dense(1, activation='sigmoid')\n",
    "])\n",
    "\n",
    "# Compile the model\n",
    "model.compile(optimizer='adam', loss='binary_crossentropy', metrics=['accuracy'])\n",
    "\n",
    "# Train the model\n",
    "model.fit(X_train, y_train, epochs=10, batch_size=32, verbose=1)\n",
    "\n",
    "# Evaluate the model\n",
    "loss, accuracy = model.evaluate(X_test, y_test)\n",
    "print(f'Test Loss: {loss:.4f}')\n",
    "print(f'Test Accuracy: {accuracy:.4f}')\n",
    "\n",
    "# Make predictions\n",
    "predictions = model.predict(X_test)\n",
    "predicted_labels = np.round(predictions).flatten()\n",
    "\n",
    "# Perform additional analysis or evaluation as needed\n",
    "# confusion_matrix = sklearn.metrics.confusion_matrix(y_test, predicted_labels)\n",
    "# classification_report = sklearn.metrics.classification_report(y_test, predicted_labels)\n",
    "# fpr, tpr, thresholds = sklearn.metrics.roc_curve(y_test, predictions)\n",
    "# auc = sklearn.metrics.roc_auc_score(y_test, predictions)\n",
    "\n",
    "# Save the model\n",
    "model.save('hr_model.h5')"
   ]
  },
  {
   "attachments": {},
   "cell_type": "markdown",
   "metadata": {},
   "source": [
    "In this case, we can see that the model achieved a classification accuracy of around 90% percent.\n",
    "\n",
    "### 2. MLP for Multiclass Classification\n",
    "\n",
    "This is when you have a classification problem with more than two classes or categories. For example, classifying images into different types of objects, such as cats, dogs, or birds.\n",
    "\n",
    "**Dataset:** We will be using popular Iris Dataset for this problem. You can find the `csv` file for the dataset in `data` folder under the root directory of this repository. The Iris dataset includes three iris species with 50 samples each as well as some properties about each flower. One flower species is linearly separable from the other two, but the other two are not linearly separable from each other. The columns in this dataset are:\n",
    "\n",
    "- Id\n",
    "- SepalLengthCm\n",
    "- SepalWidthCm\n",
    "- PetalLengthCm\n",
    "- PetalWidthCm\n",
    "- Species"
   ]
  },
  {
   "cell_type": "code",
   "execution_count": 10,
   "metadata": {},
   "outputs": [
    {
     "name": "stdout",
     "output_type": "stream",
     "text": [
      "Test Accuracy: 0.540\n",
      "1/1 [==============================] - 0s 55ms/step\n",
      "Predicted: [[0.8574023  0.01967979 0.12291788]] (class=0)\n"
     ]
    }
   ],
   "source": [
    "from numpy import argmax\n",
    "from pandas import read_csv\n",
    "from sklearn.model_selection import train_test_split\n",
    "from sklearn.preprocessing import LabelEncoder\n",
    "from tensorflow.keras import Sequential\n",
    "from tensorflow.keras.layers import Dense\n",
    "\n",
    "# Load the dataset\n",
    "df = read_csv('./../../data/Iris.csv')\n",
    "df.drop(['Id'], axis=1, inplace=True)\n",
    "\n",
    "# Split into input and output columns\n",
    "X, y = df.values[:, :-1], df.values[:, -1]\n",
    "\n",
    "# Ensure all data are floating point values\n",
    "X = X.astype('float32')\n",
    "\n",
    "# Encode strings to integer\n",
    "y = LabelEncoder().fit_transform(y)\n",
    "\n",
    "# Split into train and test datasets\n",
    "X_train, X_test, y_train, y_test = train_test_split(X, y, test_size=0.33)\n",
    "\n",
    "# Determine the number of input features\n",
    "n_features = X_train.shape[1]\n",
    "\n",
    "# Define model\n",
    "model = Sequential()\n",
    "model.add(Dense(10, activation='relu', kernel_initializer='he_normal', input_shape=(n_features,)))\n",
    "model.add(Dense(8, activation='relu', kernel_initializer='he_normal'))\n",
    "model.add(Dense(3, activation='softmax'))\n",
    "\n",
    "# Compile the model\n",
    "model.compile(optimizer='adam', loss='sparse_categorical_crossentropy', metrics=['accuracy'])\n",
    "\n",
    "# Fit the model\n",
    "model.fit(X_train, y_train, epochs=150, batch_size=32, verbose=0)\n",
    "\n",
    "# Evaluate the model\n",
    "loss, acc = model.evaluate(X_test, y_test, verbose=0)\n",
    "print(f'Test Accuracy: {acc:.3f}')\n",
    "\n",
    "# Make a prediction\n",
    "row = [5.1, 3.5, 1.4, 0.2]\n",
    "yhat = model.predict([row])\n",
    "print(f'Predicted: {yhat} (class={argmax(yhat)})')"
   ]
  },
  {
   "attachments": {},
   "cell_type": "markdown",
   "metadata": {},
   "source": [
    "In this case, we can see that the model achieved a classification accuracy of around 90% and then predicted a probability of a row of data belonging to each class. The flower represented by given data belongs to class 0 as it has the highest probability.\n",
    "\n",
    "### 3. MLP for Regression\n",
    "\n",
    "This is when you have a problem where the output variable is a continuous value. For example, predicting the price of a house based on its features.\n",
    "\n",
    "**Dataset:** We will be using popular Boston House Price Prediction Dataset for this problem. You can find the `csv` file for the dataset in `data` folder under the root directory of this repository.\n",
    "\n",
    "**Input features in order:**\n",
    "\n",
    "1. **CRIM:** per capita crime rate by town\n",
    "2. **ZN:** proportion of residential land zoned for lots over 25,000 sq.ft.\n",
    "3. **INDUS:** proportion of non-retail business acres per town\n",
    "4. **CHAS:** Charles River dummy variable (1 if tract bounds river; 0 otherwise)\n",
    "5. **NOX:** nitric oxides concentration (parts per 10 million)[parts/10M]\n",
    "6. **RM:** average number of rooms per dwelling\n",
    "7. **AGE:** proportion of owner-occupied units built prior to 1940\n",
    "8. **DIS:** weighted distances to five Boston employment centres\n",
    "9. **RAD:** index of accessibility to radial highways\n",
    "10. **TAX:** full-value property-tax rate per $10,000 [$/10k]\n",
    "11. **PTRATIO:** pupil-teacher ratio by town\n",
    "12. **B:** The result of the equation B=1000(Bk - 0.63)^2 where Bk is the proportion of blacks by town\n",
    "13. **LSTAT:** % lower status of the population\n",
    "\n",
    "**Output variable:**\n",
    "1. **MEDV:** Median value of owner-occupied homes in $1000's [k$]"
   ]
  },
  {
   "cell_type": "code",
   "execution_count": 11,
   "metadata": {},
   "outputs": [
    {
     "name": "stdout",
     "output_type": "stream",
     "text": [
      "MSE: 35.710, RMSE: 5.976\n",
      "1/1 [==============================] - 0s 65ms/step\n",
      "Predicted: [[25.783705]]\n"
     ]
    }
   ],
   "source": [
    "from numpy import sqrt\n",
    "from pandas import read_csv\n",
    "from sklearn.model_selection import train_test_split\n",
    "from tensorflow.keras import Sequential\n",
    "from tensorflow.keras.layers import Dense\n",
    "\n",
    "# load the dataset\n",
    "df = read_csv('./../../data/House-Price.csv')\n",
    "\n",
    "# split into input and output columns\n",
    "X, y = df.values[:, :-1], df.values[:, -1]\n",
    "\n",
    "# split into train and test datasets\n",
    "X_train, X_test, y_train, y_test = train_test_split(X, y, test_size=0.2)\n",
    "\n",
    "# determine the number of input features\n",
    "n_features = X_train.shape[1]\n",
    "\n",
    "# define model\n",
    "model = Sequential()\n",
    "model.add(Dense(10, activation='relu', kernel_initializer='he_normal', input_shape=(n_features,)))\n",
    "model.add(Dense(8, activation='relu', kernel_initializer='he_normal'))\n",
    "model.add(Dense(1))\n",
    "\n",
    "# compile the model\n",
    "model.compile(optimizer='adam', loss='mse')\n",
    "\n",
    "# fit the model\n",
    "model.fit(X_train, y_train, epochs=150, batch_size=32, verbose=0)\n",
    "\n",
    "# evaluate the model\n",
    "error = model.evaluate(X_test, y_test, verbose=0)\n",
    "print(f'MSE: {error:.3f}, RMSE: {sqrt(error):.3f}')\n",
    "\n",
    "# make a prediction\n",
    "row = [0.00632, 18.00, 2.310, 0, 0.5380, 6.5750, 65.20, 4.0900, 1, 296.0, 15.30, 396.90, 4.98]\n",
    "yhat = model.predict([row])\n",
    "print(f'Predicted: {yhat}')"
   ]
  },
  {
   "attachments": {},
   "cell_type": "markdown",
   "metadata": {},
   "source": [
    "In this case, we can see that the model achieved an MSE of around 55 which is an RMSE of around 7 (units are thousands of dollars). A value of about 28 is then predicted for the given example.\n",
    "\n",
    "## Develop Convolutional Neural Network (CNN) Models\n",
    "\n",
    "Convolutional Neural Networks (CNNs) are a specialized type of neural network designed to work with image inputs. They are particularly effective in tasks such as image classification.\n",
    "\n",
    "CNNs consist of convolutional layers, which extract features from the input images. These layers apply filters to capture patterns and textures in the images, creating feature maps that highlight important information. Additionally, pooling layers are used to reduce the spatial dimensions of the feature maps, focusing on the most significant elements.\n",
    "\n",
    "One popular image classification task is the `MNIST` handwritten digit classification. This task involves recognizing and classifying tens of thousands of handwritten digits as numbers between 0 and 9. To make it easier for developers, the `tf.keras` API provides a convenient function to download and load the MNIST dataset directly. This dataset can then be used to train and evaluate CNN models for the handwritten digit classification task."
   ]
  },
  {
   "cell_type": "code",
   "execution_count": 12,
   "metadata": {},
   "outputs": [
    {
     "name": "stdout",
     "output_type": "stream",
     "text": [
      "Train: X=(60000, 28, 28), y=(60000,)\n",
      "Test: X=(10000, 28, 28), y=(10000,)\n"
     ]
    },
    {
     "data": {
      "image/png": "[encoded data removed]",
      "text/plain": [
       "<Figure size 500x500 with 9 Axes>"
      ]
     },
     "metadata": {},
     "output_type": "display_data"
    }
   ],
   "source": [
    "from tensorflow.keras.datasets.mnist import load_data\n",
    "import matplotlib.pyplot as plt\n",
    "%matplotlib inline\n",
    "\n",
    "# load dataset\n",
    "(trainX, trainy), (testX, testy) = load_data()\n",
    "\n",
    "# summarize loaded dataset\n",
    "print(f'Train: X={trainX.shape}, y={trainy.shape}')\n",
    "print(f'Test: X={testX.shape}, y={testy.shape}')\n",
    "\n",
    "plt.figure(figsize=(5,5))\n",
    "for i in range(9):\n",
    "\t# define subplot\n",
    "\tplt.subplot(3, 3, i+1)\n",
    "\t# plot raw pixel data\n",
    "\tplt.imshow(trainX[i], cmap=plt.get_cmap('gray'))\n",
    "plt.show()"
   ]
  },
  {
   "attachments": {},
   "cell_type": "markdown",
   "metadata": {},
   "source": [
    "In the provided example, the MNIST dataset is loaded and the train and test datasets are summarized. The summary gives us an overview of the number of samples and labels in each dataset. To better understand the dataset, a plot is created to display a grid of examples of handwritten images from the training dataset. This helps visualize the data and get an idea of what the images look like.\n",
    "\n",
    "Next, we proceed to train a CNN (Convolutional Neural Network) model to classify the images in the MNIST dataset. CNN models are commonly used for image classification tasks. However, before using the images as input to the model, we need to make some adjustments.\n",
    "\n",
    "Since the images in the dataset are represented as arrays of grayscale pixel data, we need to add a channel dimension to the data. CNN models expect images to be in a channels-last format, where each example has dimensions of `[rows, columns, channels]`. The channel dimension represents the color channels of the image data.\n",
    "\n",
    "Additionally, it's a good practice to scale the pixel values from the default range of `0-255` to a range of `0-1` before training a CNN model. This scaling helps the model converge faster and improves its performance.\n",
    "\n",
    "By performing these steps, we can prepare the MNIST dataset for training a CNN model that can effectively classify the handwritten images."
   ]
  },
  {
   "cell_type": "code",
   "execution_count": 13,
   "metadata": {},
   "outputs": [
    {
     "name": "stdout",
     "output_type": "stream",
     "text": [
      "Accuracy: 0.986\n",
      "1/1 [==============================] - 0s 83ms/step\n",
      "Predicted: class=5\n"
     ]
    }
   ],
   "source": [
    "from numpy import unique, argmax\n",
    "from tensorflow.keras import Sequential\n",
    "from tensorflow.keras.datasets.mnist import load_data\n",
    "from tensorflow.keras.layers import Dense, Conv2D, MaxPooling2D, Flatten, Dropout\n",
    "\n",
    "# Load dataset\n",
    "(x_train, y_train), (x_test, y_test) = load_data()\n",
    "\n",
    "# Reshape data to have a single channel\n",
    "x_train = x_train.reshape((x_train.shape[0], x_train.shape[1], x_train.shape[2], 1))\n",
    "x_test = x_test.reshape((x_test.shape[0], x_test.shape[1], x_test.shape[2], 1))\n",
    "\n",
    "# Determine the shape of the input images and the number of classes\n",
    "in_shape = x_train.shape[1:]\n",
    "n_classes = len(unique(y_train))\n",
    "\n",
    "# Normalize pixel values\n",
    "x_train = x_train.astype('float32') / 255.0\n",
    "x_test = x_test.astype('float32') / 255.0\n",
    "\n",
    "# Define model\n",
    "model = Sequential()\n",
    "model.add(Conv2D(32, (3,3), activation='relu', kernel_initializer='he_uniform', input_shape=in_shape))\n",
    "model.add(MaxPooling2D((2, 2)))\n",
    "model.add(Flatten())\n",
    "model.add(Dense(100, activation='relu', kernel_initializer='he_uniform'))\n",
    "model.add(Dropout(0.5))\n",
    "model.add(Dense(n_classes, activation='softmax'))\n",
    "\n",
    "# Define loss and optimizer\n",
    "model.compile(optimizer='adam', loss='sparse_categorical_crossentropy', metrics=['accuracy'])\n",
    "\n",
    "# Fit the model\n",
    "model.fit(x_train, y_train, epochs=10, batch_size=128, verbose=0)\n",
    "\n",
    "# Evaluate the model\n",
    "loss, acc = model.evaluate(x_test, y_test, verbose=0)\n",
    "print(f'Accuracy: {acc:.3f}')\n",
    "\n",
    "# Make a prediction\n",
    "image = x_train[0]\n",
    "image = tf.expand_dims(image, 0)  # Add an extra dimension to match the model's input shape\n",
    "y_hat = model.predict([image])\n",
    "print(f'Predicted: class={argmax(y_hat)}')"
   ]
  },
  {
   "attachments": {},
   "cell_type": "markdown",
   "metadata": {},
   "source": [
    "In this case, we can see that the model achieved a classification accuracy of around 98% on the test dataset. We can then see that the model predicted class `5` for the first image in the training set.\n",
    "\n",
    "## Develop Recurrent Neural Network (RNN) Models\n",
    "\n",
    "Recurrent Neural Networks (RNNs) are designed to handle sequential data, making them well-suited for tasks like natural language processing, time series forecasting, and speech recognition. One popular type of RNN is the Long Short-Term Memory (LSTM) network.\n",
    "\n",
    "LSTMs excel at capturing dependencies and patterns in sequences. They are commonly used to process input sequences and make predictions based on them. For example, an LSTM can take a sequence of text as input and predict the next word or assign a class label to the sequence.\n",
    "\n",
    "In this demonstration, we'll use the car sales dataset to showcase how an LSTM RNN can be used for univariate time series forecasting. Our goal is to predict the number of car sales per month. We'll frame the problem by using a sliding window approach, where we take the last five months' data as input and predict the current month's data.\n",
    "\n",
    "To prepare the data, we'll define a function called `split_sequence()`, which splits the input sequence into windows suitable for training a supervised learning model like an LSTM. We'll reserve the last 12 months of data as the test dataset.\n",
    "\n",
    "LSTMs expect each sample in the dataset to have two dimensions: the number of time steps and the number of observations per time step. In our case, we'll set the number of time steps to 5 (representing the last five months) and the number of observations per time step to 1 (the number of car sales).\n",
    "\n",
    "Since this is a regression problem, we'll use a linear activation function (no activation function) in the output layer. The model will be optimized using the mean squared error loss function, which measures the average squared difference between the predicted and actual values. We'll evaluate the model's performance using the mean absolute error (MAE) metric, which provides an average absolute difference between the predicted and actual values.\n",
    "\n",
    "By applying an LSTM RNN to the car sales dataset and following these steps, we can train a model to forecast the number of car sales for the next month."
   ]
  },
  {
   "cell_type": "code",
   "execution_count": 14,
   "metadata": {},
   "outputs": [
    {
     "name": "stdout",
     "output_type": "stream",
     "text": [
      "MSE: 14108973.000, RMSE: 3756.191, MAE: 3133.163\n",
      "WARNING:tensorflow:5 out of the last 98 calls to <function Model.make_predict_function.<locals>.predict_function at 0x0000018ED035F740> triggered tf.function retracing. Tracing is expensive and the excessive number of tracings could be due to (1) creating @tf.function repeatedly in a loop, (2) passing tensors with different shapes, (3) passing Python objects instead of tensors. For (1), please define your @tf.function outside of the loop. For (2), @tf.function has reduce_retracing=True option that can avoid unnecessary retracing. For (3), please refer to https://www.tensorflow.org/guide/function#controlling_retracing and https://www.tensorflow.org/api_docs/python/tf/function for  more details.\n",
      "1/1 [==============================] - 0s 277ms/step\n",
      "Predicted: [[15298.534]]\n"
     ]
    }
   ],
   "source": [
    "# LSTM for Time Series Forecasting\n",
    "from pandas import read_csv\n",
    "from numpy import sqrt, asarray\n",
    "from tensorflow.keras import Sequential\n",
    "from tensorflow.keras.layers import Dense, LSTM\n",
    "\n",
    "# split a univariate sequence into samples\n",
    "def split_sequence(sequence, n_steps):\n",
    "\tX, y = list(), list()\n",
    "\tfor i in range(len(sequence)):\n",
    "\t\tend_ix = i + n_steps  # Find the end of this pattern\n",
    "\t\tif end_ix > len(sequence) - 1:  # Check if we are beyond the sequence\n",
    "\t\t\tbreak\n",
    "\t\tseq_x, seq_y = sequence[i:end_ix], sequence[end_ix]  # Gather input and output parts of the pattern\n",
    "\t\tX.append(seq_x)\n",
    "\t\ty.append(seq_y)\n",
    "\treturn asarray(X), asarray(y)\n",
    "\n",
    "# Load the dataset\n",
    "df = read_csv('./../../data/Monthly-Car-Sales.csv', header=0, index_col=0)\n",
    "\n",
    "# Retrieve the values\n",
    "values = df.values.astype('float32')\n",
    "\n",
    "# Specify the window size\n",
    "n_steps = 5\n",
    "\n",
    "# Split into samples\n",
    "X, y = split_sequence(values, n_steps)\n",
    "\n",
    "# Reshape into [samples, timesteps, features]\n",
    "X = X.reshape((X.shape[0], X.shape[1], 1))\n",
    "\n",
    "# Split into train/test\n",
    "n_test = 12\n",
    "X_train, X_test, y_train, y_test = X[:-n_test], X[-n_test:], y[:-n_test], y[-n_test:]\n",
    "\n",
    "# Define model\n",
    "model = Sequential()\n",
    "model.add(LSTM(100, activation='relu', kernel_initializer='he_normal', input_shape=(n_steps,1)))\n",
    "model.add(Dense(50, activation='relu', kernel_initializer='he_normal'))\n",
    "model.add(Dense(50, activation='relu', kernel_initializer='he_normal'))\n",
    "model.add(Dense(1))\n",
    "\n",
    "# Compile the model\n",
    "model.compile(optimizer='adam', loss='mse', metrics=['mae'])\n",
    "\n",
    "# Fit the model\n",
    "model.fit(X_train, y_train, epochs=350, batch_size=32, verbose=0, validation_data=(X_test, y_test))\n",
    "\n",
    "# Evaluate the model\n",
    "mse, mae = model.evaluate(X_test, y_test, verbose=0)\n",
    "print(f'MSE: {mse:.3f}, RMSE: {sqrt(mse):.3f}, MAE: {mae:.3f}')\n",
    "\n",
    "# Make a prediction\n",
    "row = asarray([18024.0, 16722.0, 14385.0, 21342.0, 17180.0]).reshape((1, n_steps, 1))\n",
    "y_hat = model.predict(row)\n",
    "print(f'Predicted: {y_hat}')"
   ]
  },
  {
   "attachments": {},
   "cell_type": "markdown",
   "metadata": {},
   "source": [
    "In this case, the model achieved an MAE of around 2800 and predicted the next value in the sequence from the test set as 14884, where the expected value is 14,577 (pretty close).\n",
    "\n",
    "## Visualize a Deep Learning Model\n",
    "\n",
    "Deep learning models can become large and intricate, making it crucial to have a clear understanding of the connections and data flow within the model. This is particularly important when using the functional API, as it ensures that the layers of the model are connected as intended.\n",
    "\n",
    "To gain clarity about the model's architecture, you can utilize two visualization tools:\n",
    "- A Text Description\n",
    "- A Plot\n",
    "\n",
    "By utilizing both the text description and the plot, you can effectively visualize and grasp the architecture of your deep learning model. This understanding is vital for ensuring that the model behaves as intended and enables you to identify and address any discrepancies or intricacies in its design.\n",
    "\n",
    "### 1. Model Text Description\n",
    "\n",
    "The text description provides a detailed representation of the model's structure. It outlines the layers, their configurations, and how they are connected. By examining this description, you can get a comprehensive understanding of the model's design and ensure that it aligns with your intentions. A text description of your model can be displayed by calling the `summary()` function on your model."
   ]
  },
  {
   "cell_type": "code",
   "execution_count": 15,
   "metadata": {},
   "outputs": [
    {
     "name": "stdout",
     "output_type": "stream",
     "text": [
      "Model: \"sequential_7\"\n",
      "_________________________________________________________________\n",
      " Layer (type)                Output Shape              Param #   \n",
      "=================================================================\n",
      " dense_20 (Dense)            (None, 10)                90        \n",
      "                                                                 \n",
      " dense_21 (Dense)            (None, 8)                 88        \n",
      "                                                                 \n",
      " dense_22 (Dense)            (None, 1)                 9         \n",
      "                                                                 \n",
      "=================================================================\n",
      "Total params: 187\n",
      "Trainable params: 187\n",
      "Non-trainable params: 0\n",
      "_________________________________________________________________\n"
     ]
    }
   ],
   "source": [
    "from tensorflow.keras import Sequential\n",
    "from tensorflow.keras.layers import Dense\n",
    "\n",
    "# Define the model\n",
    "model = Sequential()\n",
    "model.add(Dense(10, activation='relu', kernel_initializer='he_normal', input_shape=(8,)))\n",
    "model.add(Dense(8, activation='relu', kernel_initializer='he_normal'))\n",
    "model.add(Dense(1, activation='sigmoid'))\n",
    "\n",
    "# Summarize the model\n",
    "model.summary()"
   ]
  },
  {
   "attachments": {},
   "cell_type": "markdown",
   "metadata": {},
   "source": [
    "The code above prints the summary of each layer of a model. This is an invaluable diagnostic for checking the output shapes and number of parameters (weights) in the model.\n",
    "\n",
    "### 2. Model Architecture Plot\n",
    "\n",
    "In addition to the textual representation, you can generate a plot that visualizes the model's architecture. This graphical depiction illustrates the flow of data through the layers, showcasing how the inputs are transformed and propagated through the network. The plot gives a visual overview of the model, making it easier to comprehend the connections and identify any potential issues or complexities. You can create a plot of your model by calling the `plot_model()` function.\n",
    "\n",
    "You must install `pydot` and [graphviz](https://graphviz.gitlab.io/download/) for `plot_model` to work.\n",
    "\n",
    "```python\n",
    "pip install pydot\n",
    "```"
   ]
  },
  {
   "cell_type": "code",
   "execution_count": 16,
   "metadata": {},
   "outputs": [
    {
     "name": "stdout",
     "output_type": "stream",
     "text": [
      "You must install pydot (`pip install pydot`) and install graphviz (see instructions at https://graphviz.gitlab.io/download/) for plot_model to work.\n"
     ]
    }
   ],
   "source": [
    "from tensorflow.keras import Sequential\n",
    "from tensorflow.keras.layers import Dense\n",
    "from tensorflow.keras.utils import plot_model\n",
    "\n",
    "# Define the model\n",
    "model = Sequential()\n",
    "model.add(Dense(10, activation='relu', kernel_initializer='he_normal', input_shape=(8,)))\n",
    "model.add(Dense(8, activation='relu', kernel_initializer='he_normal'))\n",
    "model.add(Dense(1, activation='sigmoid'))\n",
    "\n",
    "# Visualize the model\n",
    "plot_model(model, 'model.png', show_shapes=True)"
   ]
  },
  {
   "attachments": {},
   "cell_type": "markdown",
   "metadata": {},
   "source": [
    "### 3. Model Learning Curves\n",
    "\n",
    "Learning curves are plots that show how a neural network model's performance changes over time, typically at the end of each training epoch. They provide valuable insights into the learning process, indicating whether the model is learning well, underfitting the training data, or overfitting it.\n",
    "\n",
    "To create learning curves for your deep learning models, you need to update the `fit()` function call to include a reference to a validation dataset. This dataset is separate from the training set and is used to evaluate the model's performance during training.\n",
    "\n",
    "There are two ways to incorporate the validation dataset: manually splitting the data and specifying it in the `validation_data` argument, or using the simpler approach of using the `validation_split` argument, which automatically splits a percentage of the training dataset for validation.\n",
    "\n",
    "When you call `fit()`, it returns a history object that contains performance metrics recorded at the end of each training epoch. This includes the chosen loss function and any configured metrics, such as accuracy. These metrics are computed for both the training and validation datasets.\n",
    "\n",
    "To create a learning curve, you plot the loss values on the training dataset and the validation dataset. This can be achieved using the `Matplotlib` library. By graphing the loss values over the epochs, you can visualize the model's progress.\n",
    "\n",
    "Here's an example: Let's say you're training a small neural network on a synthetic binary classification problem. You use a 30% validation split to evaluate the model during training. You can then plot the cross-entropy loss on the training and validation datasets using a line plot."
   ]
  },
  {
   "cell_type": "code",
   "execution_count": 17,
   "metadata": {},
   "outputs": [
    {
     "data": {
      "image/png": "[encoded data removed]",
      "text/plain": [
       "<Figure size 640x480 with 1 Axes>"
      ]
     },
     "metadata": {},
     "output_type": "display_data"
    }
   ],
   "source": [
    "from sklearn.datasets import make_classification\n",
    "from tensorflow.keras import Sequential\n",
    "from tensorflow.keras.layers import Dense\n",
    "from tensorflow.keras.optimizers import SGD\n",
    "from matplotlib import pyplot\n",
    "\n",
    "# Create a dataset\n",
    "X, y = make_classification(n_samples=1000, n_classes=2, random_state=1)\n",
    "\n",
    "# Determine the number of input features\n",
    "n_features = X.shape[1]\n",
    "\n",
    "# Define the model\n",
    "model = Sequential()\n",
    "model.add(Dense(10, activation='relu', kernel_initializer='he_normal', input_shape=(n_features,)))\n",
    "model.add(Dense(1, activation='sigmoid'))\n",
    "\n",
    "# Compile the model\n",
    "sgd = SGD(learning_rate=0.001, momentum=0.8)\n",
    "model.compile(optimizer=sgd, loss='binary_crossentropy')\n",
    "\n",
    "# Fit the model\n",
    "history = model.fit(X, y, epochs=100, batch_size=32, verbose=0, validation_split=0.3)\n",
    "\n",
    "# Plot Learning Curves\n",
    "pyplot.title('Learning Curves')\n",
    "pyplot.xlabel('Epoch')\n",
    "pyplot.ylabel('Cross Entropy')\n",
    "pyplot.plot(history.history['loss'], label='train')\n",
    "pyplot.plot(history.history['val_loss'], label='val')\n",
    "pyplot.legend()\n",
    "pyplot.show()"
   ]
  },
  {
   "attachments": {},
   "cell_type": "markdown",
   "metadata": {},
   "source": [
    "## Saving and Loading Model\n",
    "\n",
    "\n",
    "In machine learning, there are scenarios where we want to use a trained model without retraining it from scratch every time. To accomplish this, we can save the model to a file and later load it to make predictions.\n",
    "\n",
    "In TensorFlow, you can save a model using the `save()` function, and it will be stored in the `H5` format, which is an efficient array storage format. To save the model, make sure you have the `h5py` library installed on your workstation.\n",
    "\n",
    "```python\n",
    "pip install h5py\n",
    "```"
   ]
  },
  {
   "cell_type": "code",
   "execution_count": 18,
   "metadata": {},
   "outputs": [],
   "source": [
    "from sklearn.datasets import make_classification\n",
    "from tensorflow.keras import Sequential\n",
    "from tensorflow.keras.layers import Dense\n",
    "from tensorflow.keras.optimizers import SGD\n",
    "\n",
    "# Create the dataset\n",
    "X, y = make_classification(n_samples=1000, n_features=4, n_classes=2, random_state=1)\n",
    "\n",
    "# Determine the number of input features\n",
    "n_features = X.shape[1]\n",
    "\n",
    "# Define model\n",
    "model = Sequential()\n",
    "model.add(Dense(10, activation='relu', kernel_initializer='he_normal', input_shape=(n_features,)))\n",
    "model.add(Dense(1, activation='sigmoid'))\n",
    "\n",
    "# Compile the model\n",
    "sgd = SGD(learning_rate=0.001, momentum=0.8)\n",
    "model.compile(optimizer=sgd, loss='binary_crossentropy')\n",
    "\n",
    "# Fit the model\n",
    "model.fit(X, y, epochs=100, batch_size=32, verbose=0, validation_split=0.3)\n",
    "\n",
    "# Save model to file\n",
    "model.save('model.h5')"
   ]
  },
  {
   "attachments": {},
   "cell_type": "markdown",
   "metadata": {},
   "source": [
    "In this example, we first fit the model to the training data and save it as `model.h5` using the `save()` method of the model object.\n",
    "\n",
    "Now, we can load the saved model using `keras.models.load_model()`. This allows us to use the loaded model for making predictions. We will call the `predict()` method on the loaded model, which generates the predictions. We can then process or display these predictions as needed."
   ]
  },
  {
   "cell_type": "code",
   "execution_count": 19,
   "metadata": {},
   "outputs": [
    {
     "name": "stdout",
     "output_type": "stream",
     "text": [
      "WARNING:tensorflow:6 out of the last 99 calls to <function Model.make_predict_function.<locals>.predict_function at 0x0000018ED27059E0> triggered tf.function retracing. Tracing is expensive and the excessive number of tracings could be due to (1) creating @tf.function repeatedly in a loop, (2) passing tensors with different shapes, (3) passing Python objects instead of tensors. For (1), please define your @tf.function outside of the loop. For (2), @tf.function has reduce_retracing=True option that can avoid unnecessary retracing. For (3), please refer to https://www.tensorflow.org/guide/function#controlling_retracing and https://www.tensorflow.org/api_docs/python/tf/function for  more details.\n",
      "1/1 [==============================] - 0s 96ms/step\n",
      "Predicted: [[0.86964005]]\n"
     ]
    }
   ],
   "source": [
    "from sklearn.datasets import make_classification\n",
    "from tensorflow.keras.models import load_model\n",
    "\n",
    "# Create the dataset\n",
    "X, y = make_classification(n_samples=1000, n_features=4, n_classes=2, random_state=1)\n",
    "\n",
    "# Load the model from file\n",
    "model = load_model('model.h5')\n",
    "\n",
    "# Make a prediction\n",
    "row = [1.91518414, 1.14995454, -1.52847073, 0.79430654]\n",
    "yhat = model.predict([row])\n",
    "print(f'Predicted: {yhat}')"
   ]
  },
  {
   "attachments": {},
   "cell_type": "markdown",
   "metadata": {},
   "source": [
    "## Improve Model Performance\n",
    "\n",
    "In this section, you will discover some of the techniques that you can use to improve the performance of your deep learning models.\n",
    "\n",
    "A big part of improving deep learning performance involves avoiding overfitting by slowing down the learning process or stopping the learning process at the right time.\n",
    "\n",
    "### 1. Reduce Overfitting With Dropout\n",
    "\n",
    "Dropout is a regularization technique used in deep learning to reduce overfitting and enhance the model's robustness. During training, Dropout randomly ignores or \"drops out\" a certain number of layer outputs. This dropout effect makes the layer appear as if it has a different number of nodes and connectivity to the previous layer.\n",
    "\n",
    "The purpose of Dropout is to introduce noise into the training process, which makes individual nodes within a layer probabilistically take on more or less responsibility for the inputs. This helps prevent the model from relying too heavily on specific nodes and encourages the network to learn more generalizable representations.\n",
    "\n",
    "To add Dropout to your models, you insert a Dropout layer before the layer where you want to apply dropout. The Dropout layer is created using the `Dropout()` function, which takes an argument specifying the probability of dropping each output. For example, a value of `0.4` means that 40% of the inputs will be dropped during each update of the model.\n",
    "\n",
    "You can incorporate Dropout layers in various types of models, including Multi-Layer Perceptrons (MLPs), Convolutional Neural Networks (CNNs), and Recurrent Neural Networks (RNNs). It's worth noting that specialized versions of Dropout exist for CNNs and RNNs, which you can explore if working with those types of models."
   ]
  },
  {
   "cell_type": "code",
   "execution_count": 20,
   "metadata": {},
   "outputs": [
    {
     "data": {
      "text/plain": [
       "<keras.callbacks.History at 0x18ed264f310>"
      ]
     },
     "execution_count": 20,
     "metadata": {},
     "output_type": "execute_result"
    }
   ],
   "source": [
    "from sklearn.datasets import make_classification\n",
    "from tensorflow.keras import Sequential\n",
    "from tensorflow.keras.layers import Dense\n",
    "from tensorflow.keras.layers import Dropout\n",
    "from matplotlib import pyplot\n",
    "\n",
    "# Create the dataset\n",
    "X, y = make_classification(n_samples=1000, n_classes=2, random_state=1)\n",
    "\n",
    "# Determine the number of input features\n",
    "n_features = X.shape[1]\n",
    "\n",
    "# Define the model\n",
    "model = Sequential()\n",
    "model.add(Dense(10, activation='relu', kernel_initializer='he_normal', input_shape=(n_features,)))\n",
    "model.add(Dropout(0.5))\n",
    "model.add(Dense(1, activation='sigmoid'))\n",
    "\n",
    "# Compile the model\n",
    "model.compile(optimizer='adam', loss='binary_crossentropy')\n",
    "\n",
    "# Fit the model\n",
    "model.fit(X, y, epochs=100, batch_size=32, verbose=0)"
   ]
  },
  {
   "attachments": {},
   "cell_type": "markdown",
   "metadata": {},
   "source": [
    "The example above demonstrates the use of Dropout in a small neural network model for a binary classification problem. A Dropout layer with a dropout rate of 50% is inserted between the first hidden layer and the output layer:\n",
    "\n",
    "### 2 Accelerate Training with Batch Normalization\n",
    "\n",
    "The scale and distribution of input data can have a significant impact on the training process and performance of a neural network. To ensure smooth and efficient training, it is often recommended to scale the input data before feeding it into the neural network.\n",
    "\n",
    "Batch normalization is a technique specifically designed to train deep neural networks effectively. It works by standardizing the inputs to a layer for each mini-batch during training. This process helps stabilize the learning process and significantly reduces the number of training epochs required to train deep networks.\n",
    "\n",
    "To apply batch normalization in your network, you can add a batch normalization layer before the layer for which you want to standardize the inputs. This can be easily achieved by adding a `BatchNormalization` layer directly in your model.\n",
    "\n",
    "For example, let's consider a small MLP (Multi-Layer Perceptron) network used for binary classification. To incorporate batch normalization, you can insert a batch normalization layer between the first hidden layer and the output layer. This allows the inputs to the output layer to be standardized based on the mini-batch."
   ]
  },
  {
   "cell_type": "code",
   "execution_count": 21,
   "metadata": {},
   "outputs": [
    {
     "data": {
      "text/plain": [
       "<keras.callbacks.History at 0x18ed3141a50>"
      ]
     },
     "execution_count": 21,
     "metadata": {},
     "output_type": "execute_result"
    }
   ],
   "source": [
    "from sklearn.datasets import make_classification\n",
    "from tensorflow.keras import Sequential\n",
    "from tensorflow.keras.layers import Dense, BatchNormalization\n",
    "\n",
    "# Create the dataset\n",
    "X, y = make_classification(n_samples=1000, n_classes=2, random_state=1)\n",
    "\n",
    "# Determine the number of input features\n",
    "n_features = X.shape[1]\n",
    "\n",
    "# Define the model\n",
    "model = Sequential()\n",
    "model.add(Dense(10, activation='relu', kernel_initializer='he_normal', input_shape=(n_features,)))\n",
    "model.add(BatchNormalization())\n",
    "model.add(Dense(1, activation='sigmoid'))\n",
    "\n",
    "# compile the model\n",
    "model.compile(optimizer='adam', loss='binary_crossentropy')\n",
    "\n",
    "# Fit the model\n",
    "model.fit(X, y, epochs=100, batch_size=32, verbose=0)"
   ]
  },
  {
   "attachments": {},
   "cell_type": "markdown",
   "metadata": {},
   "source": [
    "### 3. Halt Training at the Right Time with Early Stopping\n",
    "\n",
    "Training neural networks can be challenging because finding the right balance between underfitting and overfitting is crucial. Underfitting occurs when the model fails to capture the underlying patterns in the data, resulting in poor performance. On the other hand, overfitting happens when the model becomes too specialized to the training data, performing poorly on new, unseen data.\n",
    "\n",
    "To address this issue, we can employ a technique called early stopping. Early stopping involves monitoring the loss on both the training dataset and a separate validation dataset, which is a portion of the training set not used for training. When the loss on the validation dataset starts to indicate overfitting, we can stop the training process.\n",
    "\n",
    "To use early stopping with your model, you need to have a validation dataset. This can be created manually by specifying the `validation_data` argument in the `fit()` function or by using the `validation_split` argument to hold back a portion of the training data for validation.\n",
    "\n",
    "Next, you define an `EarlyStopping` callback, specifying the performance measure to monitor, such as `val_loss` for the loss on the validation dataset. You can also set the number of epochs to observe overfitting before taking action, such as stopping training after `5` epochs of overfitting. Once the `EarlyStopping` callback is configured, you can provide it to the `fit()` function using the callbacks argument, which takes a list of callbacks.\n",
    "\n",
    "By setting a large number of epochs, you can be confident that training will stop as soon as overfitting occurs. Additionally, you can create a learning curve to gain insights into the training dynamics and determine when the training was halted.\n",
    "\n",
    "Here's an example that demonstrates the use of early stopping on a small neural network for a binary classification problem. In this example, training is stopped as soon as overfitting is detected, which occurs after around 50 epochs."
   ]
  },
  {
   "cell_type": "code",
   "execution_count": 22,
   "metadata": {
    "_kg_hide-output": true
   },
   "outputs": [
    {
     "name": "stdout",
     "output_type": "stream",
     "text": [
      "Epoch 1/200\n",
      "22/22 [==============================] - 1s 12ms/step - loss: 0.8296 - val_loss: 0.8141\n",
      "Epoch 2/200\n",
      "22/22 [==============================] - 0s 5ms/step - loss: 0.7644 - val_loss: 0.7567\n",
      "Epoch 3/200\n",
      "22/22 [==============================] - 0s 5ms/step - loss: 0.7127 - val_loss: 0.7118\n",
      "Epoch 4/200\n",
      "22/22 [==============================] - 0s 5ms/step - loss: 0.6709 - val_loss: 0.6760\n",
      "Epoch 5/200\n",
      "22/22 [==============================] - 0s 4ms/step - loss: 0.6362 - val_loss: 0.6459\n",
      "Epoch 6/200\n",
      "22/22 [==============================] - 0s 4ms/step - loss: 0.6059 - val_loss: 0.6186\n",
      "Epoch 7/200\n",
      "22/22 [==============================] - 0s 5ms/step - loss: 0.5786 - val_loss: 0.5948\n",
      "Epoch 8/200\n",
      "22/22 [==============================] - 0s 5ms/step - loss: 0.5530 - val_loss: 0.5739\n",
      "Epoch 9/200\n",
      "22/22 [==============================] - 0s 5ms/step - loss: 0.5309 - val_loss: 0.5542\n",
      "Epoch 10/200\n",
      "22/22 [==============================] - 0s 5ms/step - loss: 0.5093 - val_loss: 0.5362\n",
      "Epoch 11/200\n",
      "22/22 [==============================] - 0s 4ms/step - loss: 0.4899 - val_loss: 0.5201\n",
      "Epoch 12/200\n",
      "22/22 [==============================] - 0s 4ms/step - loss: 0.4720 - val_loss: 0.5051\n",
      "Epoch 13/200\n",
      "22/22 [==============================] - 0s 5ms/step - loss: 0.4557 - val_loss: 0.4917\n",
      "Epoch 14/200\n",
      "22/22 [==============================] - 0s 4ms/step - loss: 0.4408 - val_loss: 0.4796\n",
      "Epoch 15/200\n",
      "22/22 [==============================] - 0s 5ms/step - loss: 0.4270 - val_loss: 0.4681\n",
      "Epoch 16/200\n",
      "22/22 [==============================] - 0s 5ms/step - loss: 0.4141 - val_loss: 0.4583\n",
      "Epoch 17/200\n",
      "22/22 [==============================] - 0s 4ms/step - loss: 0.4026 - val_loss: 0.4490\n",
      "Epoch 18/200\n",
      "22/22 [==============================] - 0s 4ms/step - loss: 0.3917 - val_loss: 0.4414\n",
      "Epoch 19/200\n",
      "22/22 [==============================] - 0s 5ms/step - loss: 0.3818 - val_loss: 0.4342\n",
      "Epoch 20/200\n",
      "22/22 [==============================] - 0s 4ms/step - loss: 0.3730 - val_loss: 0.4276\n",
      "Epoch 21/200\n",
      "22/22 [==============================] - 0s 5ms/step - loss: 0.3646 - val_loss: 0.4223\n",
      "Epoch 22/200\n",
      "22/22 [==============================] - 0s 5ms/step - loss: 0.3571 - val_loss: 0.4177\n",
      "Epoch 23/200\n",
      "22/22 [==============================] - 0s 5ms/step - loss: 0.3502 - val_loss: 0.4137\n",
      "Epoch 24/200\n",
      "22/22 [==============================] - 0s 4ms/step - loss: 0.3439 - val_loss: 0.4112\n",
      "Epoch 25/200\n",
      "22/22 [==============================] - 0s 4ms/step - loss: 0.3386 - val_loss: 0.4083\n",
      "Epoch 26/200\n",
      "22/22 [==============================] - 0s 4ms/step - loss: 0.3334 - val_loss: 0.4060\n",
      "Epoch 27/200\n",
      "22/22 [==============================] - 0s 4ms/step - loss: 0.3287 - val_loss: 0.4042\n",
      "Epoch 28/200\n",
      "22/22 [==============================] - 0s 5ms/step - loss: 0.3238 - val_loss: 0.4026\n",
      "Epoch 29/200\n",
      "22/22 [==============================] - 0s 5ms/step - loss: 0.3201 - val_loss: 0.4013\n",
      "Epoch 30/200\n",
      "22/22 [==============================] - 0s 4ms/step - loss: 0.3164 - val_loss: 0.4000\n",
      "Epoch 31/200\n",
      "22/22 [==============================] - 0s 4ms/step - loss: 0.3133 - val_loss: 0.3993\n",
      "Epoch 32/200\n",
      "22/22 [==============================] - 0s 4ms/step - loss: 0.3101 - val_loss: 0.3979\n",
      "Epoch 33/200\n",
      "22/22 [==============================] - 0s 4ms/step - loss: 0.3072 - val_loss: 0.3974\n",
      "Epoch 34/200\n",
      "22/22 [==============================] - 0s 4ms/step - loss: 0.3044 - val_loss: 0.3974\n",
      "Epoch 35/200\n",
      "22/22 [==============================] - 0s 4ms/step - loss: 0.3021 - val_loss: 0.3966\n",
      "Epoch 36/200\n",
      "22/22 [==============================] - 0s 5ms/step - loss: 0.2994 - val_loss: 0.3971\n",
      "Epoch 37/200\n",
      "22/22 [==============================] - 0s 4ms/step - loss: 0.2976 - val_loss: 0.3968\n",
      "Epoch 38/200\n",
      "22/22 [==============================] - 0s 4ms/step - loss: 0.2953 - val_loss: 0.3963\n",
      "Epoch 39/200\n",
      "22/22 [==============================] - 0s 4ms/step - loss: 0.2936 - val_loss: 0.3966\n",
      "Epoch 40/200\n",
      "22/22 [==============================] - 0s 4ms/step - loss: 0.2920 - val_loss: 0.3961\n",
      "Epoch 41/200\n",
      "22/22 [==============================] - 0s 4ms/step - loss: 0.2904 - val_loss: 0.3970\n",
      "Epoch 42/200\n",
      "22/22 [==============================] - 0s 4ms/step - loss: 0.2887 - val_loss: 0.3970\n",
      "Epoch 43/200\n",
      "22/22 [==============================] - 0s 4ms/step - loss: 0.2873 - val_loss: 0.3967\n",
      "Epoch 44/200\n",
      "22/22 [==============================] - 0s 4ms/step - loss: 0.2859 - val_loss: 0.3966\n",
      "Epoch 45/200\n",
      "22/22 [==============================] - 0s 4ms/step - loss: 0.2848 - val_loss: 0.3966\n"
     ]
    }
   ],
   "source": [
    "from sklearn.datasets import make_classification\n",
    "from tensorflow.keras import Sequential\n",
    "from tensorflow.keras.layers import Dense\n",
    "from tensorflow.keras.callbacks import EarlyStopping\n",
    "\n",
    "# Create the dataset\n",
    "X, y = make_classification(n_samples=1000, n_classes=2, random_state=1)\n",
    "\n",
    "# Determine the number of input features\n",
    "n_features = X.shape[1]\n",
    "\n",
    "# Define the model\n",
    "model = Sequential()\n",
    "model.add(Dense(10, activation='relu', kernel_initializer='he_normal', input_shape=(n_features,)))\n",
    "model.add(Dense(1, activation='sigmoid'))\n",
    "\n",
    "# Compile the model\n",
    "model.compile(optimizer='adam', loss='binary_crossentropy')\n",
    "\n",
    "# Configure early stopping\n",
    "es = EarlyStopping(monitor='val_loss', patience=5)\n",
    "\n",
    "# Fit the model\n",
    "history = model.fit(X, y, epochs=200, batch_size=32, validation_split=0.3, callbacks=[es])"
   ]
  },
  {
   "cell_type": "code",
   "execution_count": 23,
   "metadata": {},
   "outputs": [
    {
     "data": {
      "text/plain": [
       "Text(0.5, 1.0, 'Loss evolution')"
      ]
     },
     "execution_count": 23,
     "metadata": {},
     "output_type": "execute_result"
    },
    {
     "data": {
      "image/png": "[encoded data removed]",
      "text/plain": [
       "<Figure size 640x480 with 1 Axes>"
      ]
     },
     "metadata": {},
     "output_type": "display_data"
    }
   ],
   "source": [
    "import matplotlib.pyplot as plt\n",
    "\n",
    "plt.plot(history.history['loss'], label='Loss')\n",
    "plt.plot(history.history['val_loss'], label='val_Loss')\n",
    "plt.legend()\n",
    "plt.title('Loss evolution')"
   ]
  },
  {
   "attachments": {},
   "cell_type": "markdown",
   "metadata": {},
   "source": [
    "## References\n",
    "\n",
    "- [Tensorflow Official Tutorial](https://www.tensorflow.org/tutorials)\n",
    "- [TensorFlow 2 Tutorial: Get Started in Deep Learning with tf.keras](https://machinelearningmastery.com/tensorflow-tutorial-deep-learning-with-tf-keras/)\n",
    "- [Tensorflow Course](https://github.com/instillai/TensorFlow-Course#neural-networks)"
   ]
  }
 ],
 "metadata": {
  "kernelspec": {
   "display_name": "Python 3",
   "language": "python",
   "name": "python3"
  },
  "language_info": {
   "codemirror_mode": {
    "name": "ipython",
    "version": 3
   },
   "file_extension": ".py",
   "mimetype": "text/x-python",
   "name": "python",
   "nbconvert_exporter": "python",
   "pygments_lexer": "ipython3",
   "version": "3.11.4"
  }
 },
 "nbformat": 4,
 "nbformat_minor": 4
}
