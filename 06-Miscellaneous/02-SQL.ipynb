{
 "cells": [
  {
   "attachments": {},
   "cell_type": "markdown",
   "metadata": {},
   "source": [
    "# Structured Query Language\n",
    "\n",
    "SQL, or Structured Query Language, is a programming language used to manage and manipulate data in relational databases. SQL is used to create, modify and query databases, and is widely used in data analysis, data science and software development.\n",
    "\n",
    "SQL has a few basic components:\n",
    "\n",
    "- `Keywords`: These are reserved words used in SQL statements, like SELECT, INSERT, and WHERE.\n",
    "- `Clauses`: These are the building blocks of SQL statements. Clauses like SELECT, FROM, WHERE, and ORDER BY are used to construct SQL queries.\n",
    "- `Expressions`: These are the parts of a SQL statement that return results. Examples include column names and mathematical expressions.\n",
    "- `Operators`: These are symbols used to compare values or perform mathematical operations. Examples include =, <, >, +, and -.\n",
    "\n",
    "Here is an example of a basic SQL query:"
   ]
  },
  {
   "cell_type": "code",
   "execution_count": null,
   "metadata": {
    "vscode": {
     "languageId": "sql"
    }
   },
   "outputs": [],
   "source": [
    "SELECT * FROM employees WHERE salary > 50000;"
   ]
  },
  {
   "attachments": {},
   "cell_type": "markdown",
   "metadata": {},
   "source": [
    "This query selects all columns from the \"employees\" table where the \"salary\" column is greater than 50,000.\n",
    "\n",
    "## SQL Data Types\n",
    "\n",
    "SQL supports a wide range of data types for storing data in tables, including:\n",
    "\n",
    "- Integers: INT, SMALLINT, BIGINT\n",
    "- Floating-point numbers: FLOAT, DOUBLE\n",
    "- Strings: CHAR, VARCHAR\n",
    "- Dates and times: DATE, TIME, DATETIME\n",
    "\n",
    "Here is an example of creating a table with different data types:"
   ]
  },
  {
   "cell_type": "code",
   "execution_count": null,
   "metadata": {
    "vscode": {
     "languageId": "sql"
    }
   },
   "outputs": [],
   "source": [
    "CREATE TABLE customers (\n",
    "    id INT PRIMARY KEY,\n",
    "    name VARCHAR(50),\n",
    "    age INT,\n",
    "    email VARCHAR(50),\n",
    "    phone VARCHAR(20),\n",
    "    signup_date DATE\n",
    ");"
   ]
  },
  {
   "attachments": {},
   "cell_type": "markdown",
   "metadata": {},
   "source": [
    "This creates a \"customers\" table with columns for ID, name, age, email, phone, and signup date, each with its own data type.\n",
    "\n",
    "## SQL Operators\n",
    "\n",
    "SQL supports a wide range of operators for comparing values or performing mathematical operations. These include:\n",
    "\n",
    "- Comparison operators: =, <, >, <=, >=, <>\n",
    "- Arithmetic operators: +, -, *, /, %\n",
    "- Logical operators: AND, OR, NOT\n",
    "\n",
    "Here is an example of a query using comparison and logical operators:"
   ]
  },
  {
   "cell_type": "code",
   "execution_count": null,
   "metadata": {
    "vscode": {
     "languageId": "sql"
    }
   },
   "outputs": [],
   "source": [
    "SELECT * FROM employees WHERE department = 'sales' AND salary > 50000;"
   ]
  },
  {
   "attachments": {},
   "cell_type": "markdown",
   "metadata": {},
   "source": [
    "This selects all employees in the \"sales\" department with a salary greater than 50,000.\n",
    "\n",
    "## Creating Databases\n",
    "\n",
    "Creating a database in SQL is simple:"
   ]
  },
  {
   "cell_type": "code",
   "execution_count": null,
   "metadata": {
    "vscode": {
     "languageId": "sql"
    }
   },
   "outputs": [],
   "source": [
    "CREATE DATABASE mydatabase;"
   ]
  },
  {
   "attachments": {},
   "cell_type": "markdown",
   "metadata": {},
   "source": [
    "This creates a new database named \"mydatabase\".\n",
    "\n",
    "## Creating Tables\n",
    "\n",
    "Creating a table in SQL involves defining the table's columns and data types:"
   ]
  },
  {
   "cell_type": "code",
   "execution_count": null,
   "metadata": {
    "vscode": {
     "languageId": "sql"
    }
   },
   "outputs": [],
   "source": [
    "CREATE TABLE customers (\n",
    "    id INT PRIMARY KEY,\n",
    "    name VARCHAR(50),\n",
    "    age INT,\n",
    "    email VARCHAR(50),\n",
    "    phone VARCHAR(20),\n",
    "    signup_date DATE\n",
    ");"
   ]
  },
  {
   "attachments": {},
   "cell_type": "markdown",
   "metadata": {},
   "source": [
    "This creates a \"customers\" table with columns for ID, name, age, email, phone, and signup date.\n",
    "\n",
    "## Altering Tables\n",
    "\n",
    "Tables can be altered in SQL to add or remove columns, change column data types, or modify constraints:"
   ]
  },
  {
   "cell_type": "code",
   "execution_count": null,
   "metadata": {
    "vscode": {
     "languageId": "sql"
    }
   },
   "outputs": [],
   "source": [
    "ALTER TABLE customers ADD COLUMN address VARCHAR(100);"
   ]
  },
  {
   "attachments": {},
   "cell_type": "markdown",
   "metadata": {},
   "source": [
    "This adds an \"address\" column to the \"customers\" table.\n",
    "\n",
    "## Dropping Tables\n",
    "\n",
    "To remove a table in SQL:"
   ]
  },
  {
   "cell_type": "code",
   "execution_count": null,
   "metadata": {
    "vscode": {
     "languageId": "sql"
    }
   },
   "outputs": [],
   "source": [
    "DROP TABLE customers;"
   ]
  },
  {
   "cell_type": "markdown",
   "metadata": {},
   "source": [
    "This drops the \"customers\" table.\n",
    "\n",
    "## Adding Constraints\n",
    "\n",
    "Constraints are rules that enforce data integrity and consistency. They can be added to tables using the following syntax:"
   ]
  },
  {
   "cell_type": "code",
   "execution_count": null,
   "metadata": {
    "vscode": {
     "languageId": "sql"
    }
   },
   "outputs": [],
   "source": [
    "CREATE TABLE orders (\n",
    "    id INT PRIMARY KEY,\n",
    "    customer_id INT,\n",
    "    order_date DATE,\n",
    "    total DECIMAL(10, 2),\n",
    "    FOREIGN KEY (customer_id) REFERENCES customers(id)\n",
    ");"
   ]
  },
  {
   "attachments": {},
   "cell_type": "markdown",
   "metadata": {},
   "source": [
    "## Selecting Data\n",
    "\n",
    "Selecting data is the process of retrieving data from one or more tables in a database. In SQL, you can use the SELECT statement to retrieve data. Here is an example:"
   ]
  },
  {
   "cell_type": "code",
   "execution_count": null,
   "metadata": {
    "vscode": {
     "languageId": "sql"
    }
   },
   "outputs": [],
   "source": [
    "SELECT column1, column2, ... \n",
    "FROM table_name;"
   ]
  },
  {
   "attachments": {},
   "cell_type": "markdown",
   "metadata": {},
   "source": [
    "## Filtering Data\n",
    "\n",
    "Filtering data is the process of selecting only the data that meets certain conditions. In SQL, you can use the WHERE clause to filter data. Here is an example:"
   ]
  },
  {
   "cell_type": "code",
   "execution_count": null,
   "metadata": {
    "vscode": {
     "languageId": "sql"
    }
   },
   "outputs": [],
   "source": [
    "SELECT column1, column2, ... \n",
    "FROM table_name\n",
    "WHERE condition;"
   ]
  },
  {
   "attachments": {},
   "cell_type": "markdown",
   "metadata": {},
   "source": [
    "## Sorting Data\n",
    "\n",
    "Sorting data is the process of arranging data in a particular order. In SQL, you can use the ORDER BY clause to sort data. Here is an example:"
   ]
  },
  {
   "cell_type": "code",
   "execution_count": null,
   "metadata": {
    "vscode": {
     "languageId": "sql"
    }
   },
   "outputs": [],
   "source": [
    "SELECT column1, column2, ... \n",
    "FROM table_name\n",
    "ORDER BY column1 ASC|DESC;"
   ]
  },
  {
   "attachments": {},
   "cell_type": "markdown",
   "metadata": {},
   "source": [
    "## Joining Tables\n",
    "\n",
    "Joining tables is the process of combining data from two or more tables into a single result set. In SQL, you can use the JOIN clause to join tables. Here is an example:"
   ]
  },
  {
   "cell_type": "code",
   "execution_count": null,
   "metadata": {
    "vscode": {
     "languageId": "sql"
    }
   },
   "outputs": [],
   "source": [
    "SELECT column1, column2, ... \n",
    "FROM table1\n",
    "JOIN table2\n",
    "ON table1.column_name = table2.column_name;"
   ]
  },
  {
   "attachments": {},
   "cell_type": "markdown",
   "metadata": {},
   "source": [
    "## Grouping Data\n",
    "\n",
    "Grouping data is the process of aggregating data by one or more columns. In SQL, you can use the GROUP BY clause to group data. Here is an example:"
   ]
  },
  {
   "cell_type": "code",
   "execution_count": null,
   "metadata": {
    "vscode": {
     "languageId": "sql"
    }
   },
   "outputs": [],
   "source": [
    "SELECT column1, COUNT(column2) \n",
    "FROM table_name\n",
    "GROUP BY column1;"
   ]
  },
  {
   "attachments": {},
   "cell_type": "markdown",
   "metadata": {},
   "source": [
    "## Aggregate Functions\n",
    "\n",
    "Aggregate functions are functions that perform calculations on a set of values and return a single value. In SQL, you can use aggregate functions such as SUM, AVG, MIN, MAX, and COUNT. Here is an example:"
   ]
  },
  {
   "cell_type": "code",
   "execution_count": null,
   "metadata": {
    "vscode": {
     "languageId": "sql"
    }
   },
   "outputs": [],
   "source": [
    "SELECT SUM(column_name) \n",
    "FROM table_name;"
   ]
  },
  {
   "attachments": {},
   "cell_type": "markdown",
   "metadata": {},
   "source": [
    "## Inserting Data\n",
    "\n",
    "Inserting data is the process of adding new data to a table in a database. In SQL, you can use the INSERT INTO statement to insert data. Here is an example:"
   ]
  },
  {
   "cell_type": "code",
   "execution_count": null,
   "metadata": {
    "vscode": {
     "languageId": "sql"
    }
   },
   "outputs": [],
   "source": [
    "INSERT INTO table_name (column1, column2, ...)\n",
    "VALUES (value1, value2, ...);"
   ]
  },
  {
   "attachments": {},
   "cell_type": "markdown",
   "metadata": {},
   "source": [
    "## Updating Data\n",
    "\n",
    "Updating data is the process of modifying existing data in a table in a database. In SQL, you can use the UPDATE statement to update data. Here is an example:"
   ]
  },
  {
   "cell_type": "code",
   "execution_count": null,
   "metadata": {
    "vscode": {
     "languageId": "sql"
    }
   },
   "outputs": [],
   "source": [
    "UPDATE table_name\n",
    "SET column1 = value1, column2 = value2, ...\n",
    "WHERE condition;"
   ]
  },
  {
   "attachments": {},
   "cell_type": "markdown",
   "metadata": {},
   "source": [
    "## Deleting Data\n",
    "\n",
    "Deleting data is the process of removing data from a table in a database. In SQL, you can use the DELETE FROM statement to delete data. Here is an example:"
   ]
  },
  {
   "cell_type": "code",
   "execution_count": null,
   "metadata": {
    "vscode": {
     "languageId": "sql"
    }
   },
   "outputs": [],
   "source": [
    "DELETE FROM table_name\n",
    "WHERE condition;"
   ]
  },
  {
   "attachments": {},
   "cell_type": "markdown",
   "metadata": {},
   "source": [
    "## Subqueries\n",
    "\n",
    "A subquery is a query that is nested inside another query. In SQL, you can use subqueries to retrieve data from one or more tables. Here is an example:"
   ]
  },
  {
   "cell_type": "code",
   "execution_count": null,
   "metadata": {
    "vscode": {
     "languageId": "sql"
    }
   },
   "outputs": [],
   "source": [
    "SELECT column1, column2, ...\n",
    "FROM table_name\n",
    "WHERE column1 IN (SELECT column1 FROM table_name2 WHERE condition);"
   ]
  },
  {
   "attachments": {},
   "cell_type": "markdown",
   "metadata": {},
   "source": [
    "## Common Table Expressions (CTEs)\n",
    "\n",
    "A common table expression (CTE) is a temporary result set that is defined within the execution of a single SQL statement. In SQL, you can use CTEs to simplify complex queries. Here is an example:"
   ]
  },
  {
   "cell_type": "code",
   "execution_count": null,
   "metadata": {
    "vscode": {
     "languageId": "sql"
    }
   },
   "outputs": [],
   "source": [
    "WITH cte_name AS (\n",
    "   SELECT column1, column2, ...\n",
    "   FROM table_name\n",
    ")\n",
    "SELECT *\n",
    "FROM cte_name\n",
    "WHERE condition;"
   ]
  },
  {
   "attachments": {},
   "cell_type": "markdown",
   "metadata": {},
   "source": [
    "## Window Functions:\n",
    "\n",
    "Window functions in SQL allow you to perform calculations across rows and return the results alongside each row. They are used to perform complex analysis tasks and are particularly useful in reporting and analytics. Here's an example of a window function in SQL:"
   ]
  },
  {
   "cell_type": "code",
   "execution_count": null,
   "metadata": {
    "vscode": {
     "languageId": "sql"
    }
   },
   "outputs": [],
   "source": [
    "SELECT order_id, customer_name, order_date, order_total,\n",
    "       SUM(order_total) OVER (PARTITION BY customer_name ORDER BY order_date) AS running_total\n",
    "FROM orders;"
   ]
  },
  {
   "attachments": {},
   "cell_type": "markdown",
   "metadata": {},
   "source": [
    "## Stored Procedures:\n",
    "\n",
    "Stored procedures are SQL code that is stored in the database and can be executed with a single command. They can be used to encapsulate business logic and to improve performance by reducing the amount of data sent over the network. Here's an example of a stored procedure in SQL:"
   ]
  },
  {
   "cell_type": "code",
   "execution_count": null,
   "metadata": {
    "vscode": {
     "languageId": "sql"
    }
   },
   "outputs": [],
   "source": [
    "CREATE PROCEDURE get_order_total (@order_id INT)\n",
    "AS\n",
    "BEGIN\n",
    "   SELECT order_total FROM orders WHERE order_id = @order_id\n",
    "END;"
   ]
  },
  {
   "attachments": {},
   "cell_type": "markdown",
   "metadata": {},
   "source": [
    "## Transactions:\n",
    "Transactions in SQL are used to group a set of database operations together into a single unit of work. They allow you to ensure that all of the operations complete successfully or none of them are executed at all. This is useful when you need to maintain data consistency and prevent data corruption. Here's an example of a transaction in SQL:"
   ]
  },
  {
   "cell_type": "code",
   "execution_count": null,
   "metadata": {
    "vscode": {
     "languageId": "sql"
    }
   },
   "outputs": [],
   "source": [
    "BEGIN TRANSACTION;\n",
    "UPDATE accounts SET balance = balance - 100 WHERE account_id = 123;\n",
    "UPDATE accounts SET balance = balance + 100 WHERE account_id = 456;\n",
    "COMMIT;"
   ]
  },
  {
   "attachments": {},
   "cell_type": "markdown",
   "metadata": {},
   "source": [
    "In this example, the transaction updates the balance of two accounts. If either of the updates fail, the entire transaction is rolled back and the database is returned to its original state."
   ]
  }
 ],
 "metadata": {
  "language_info": {
   "name": "python"
  },
  "orig_nbformat": 4
 },
 "nbformat": 4,
 "nbformat_minor": 2
}
