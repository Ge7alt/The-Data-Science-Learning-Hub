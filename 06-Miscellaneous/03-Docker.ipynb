{
 "cells": [
  {
   "attachments": {},
   "cell_type": "markdown",
   "metadata": {},
   "source": [
    "# Docker\n",
    "\n",
    "Docker is an open-source platform that allows you to automate the deployment and management of applications using containerization. Containers are lightweight, portable, and isolated environments that package all the necessary dependencies and configurations required to run an application.\n",
    "\n",
    "With Docker, you can eliminate the \"works on my machine\" problem and ensure consistent behavior across different environments.\n",
    "\n",
    "## Installation\n",
    "\n",
    "- To get started, visit the Docker website (https://www.docker.com) and download Docker for your operating system.\n",
    "- Follow the installation instructions specific to your operating system.\n",
    "- Once the installation is complete, open a terminal or command prompt and run the following command to verify the installation:"
   ]
  },
  {
   "cell_type": "code",
   "execution_count": null,
   "metadata": {
    "vscode": {
     "languageId": "plaintext"
    }
   },
   "outputs": [],
   "source": [
    "docker version"
   ]
  },
  {
   "attachments": {},
   "cell_type": "markdown",
   "metadata": {},
   "source": [
    "This should display the Docker version information.\n",
    "\n",
    "## Docker Concepts\n",
    "\n",
    "Before diving into the practical aspects, it's important to understand a few key Docker concepts:\n",
    "\n",
    "- **Images:** Docker images are read-only templates that define the base operating system, dependencies, and configurations required to run an application. Images are the building blocks for containers.\n",
    "\n",
    "- **Containers:** Containers are the running instances of Docker images. Each container is an isolated environment with its own file system, network, and processes. Containers are lightweight and can be started, stopped, and moved easily.\n",
    "\n",
    "- **Dockerfile:** A Dockerfile is a text file that contains a set of instructions to build a Docker image. It defines the base image, copies files, installs dependencies, and configures the container.\n",
    "\n",
    "- **Docker Registry:** Docker Registry is a repository for storing Docker images. The default public registry is [Docker Hub](https://hub.docker.com), but you can also set up your private registry.\n",
    "\n",
    "## Running Your First Container\n",
    "\n",
    "Now that you have Docker installed and understand the basic concepts, let's run your first Docker container.\n",
    "\n",
    "- Open a terminal or command prompt.\n",
    "- Run the following command to pull the hello-world image from Docker Hub: `docker pull hello-world`. This command downloads the hello-world image from the Docker registry.\n",
    "- Once the download is complete, run the following command to start a container from the hello-world image: `docker run hello-world`. Docker will create a new container from the hello-world image and execute its default command, which is to print a \"Hello from Docker!\" message.\n",
    "- If everything works correctly, you should see the \"Hello from Docker!\" message in the output.\n",
    "\n",
    "## Building Custom Images with Dockerfile\n",
    "\n",
    "Running existing Docker images is useful, but most of the time, you'll need to create your own custom images to run your applications. This is where Dockerfile comes into play.\n",
    "\n",
    "- Create a new directory for your project.\n",
    "- Inside the project directory, create a new file named Dockerfile (without any file extension).\n",
    "- Open the Dockerfile in a text editor and define the instructions to build your image. Here's an example Dockerfile for a simple Python application:"
   ]
  },
  {
   "cell_type": "code",
   "execution_count": null,
   "metadata": {
    "vscode": {
     "languageId": "plaintext"
    }
   },
   "outputs": [],
   "source": [
    "# Use the Python 3.9 base image\n",
    "FROM python:3.9\n",
    "\n",
    "# Set the working directory within the container to /app\n",
    "WORKDIR /app\n",
    "\n",
    "# Copy the requirements.txt file from the host to the current directory in the container\n",
    "COPY requirements.txt .\n",
    "\n",
    "# Copy the app.py file from the host to the current directory in the container\n",
    "COPY app.py .\n",
    "\n",
    "# Copy the data directory from the host to the ./data directory in the container\n",
    "COPY data/ ./data/\n",
    "\n",
    "# Install the Python dependencies listed in the requirements.txt file using pip\n",
    "RUN pip install --no-cache-dir -r requirements.txt\n",
    "\n",
    "# Set the environment variable MY_VARIABLE to the value my_value\n",
    "ENV MY_VARIABLE=my_value\n",
    "\n",
    "# Expose port 8000 within the container\n",
    "EXPOSE 8000\n",
    "\n",
    "# Set the default command to run the app.py file using the Python interpreter\n",
    "CMD [\"python\", \"app.py\"]"
   ]
  },
  {
   "attachments": {},
   "cell_type": "markdown",
   "metadata": {},
   "source": [
    "Let's explore each command in detail.\n",
    "\n",
    "- `FROM`: Specifies the base image for your Docker image. It is the starting point for building your image. For Python projects, you can use an official Python image from Docker Hub.\n",
    "- `WORKDIR`: Sets the working directory within the container where your project will be copied and executed.\n",
    "- `COPY`: Copies files from the host machine (your local machine) to the container. This is useful for transferring your project files, such as source code, configuration files, or data.\n",
    "- `RUN`: Executes shell commands or scripts within the container. It is commonly used to install dependencies or run build processes.\n",
    "- `ENV`: Sets environment variables within the container. Environment variables can be used to configure your application or provide necessary settings.\n",
    "- `EXPOSE`: Informs Docker that the container will listen on a specified network port at runtime. It does not actually publish the port to the host machine.\n",
    "- `CMD`: Specifies the default command to run when the container starts. It is typically used to define the main entry point for your application.\n",
    "\n",
    "## Building and Running the Docker Image\n",
    "\n",
    "To build the Docker image, navigate to the directory containing the Dockerfile and run the following command:"
   ]
  },
  {
   "cell_type": "code",
   "execution_count": null,
   "metadata": {
    "vscode": {
     "languageId": "plaintext"
    }
   },
   "outputs": [],
   "source": [
    "docker build -t my-python-project ."
   ]
  },
  {
   "attachments": {},
   "cell_type": "markdown",
   "metadata": {},
   "source": [
    "- `docker build`: This is the command used to build a Docker image. It tells Docker to start the build process.\n",
    "- `-t my-python-project`: The `-t` flag is used to tag (name) the Docker image. In this case, we're tagging it with the name `my-python-project`. You can choose any name you prefer for your image.\n",
    "- `.`: The `.` specifies the build context. It represents the current directory and tells Docker to look for the Dockerfile and any other required files in the current directory.\n",
    "\n",
    "## Running the Docker Container\n",
    "\n",
    "To run a container from the built image, use the following command:"
   ]
  },
  {
   "cell_type": "code",
   "execution_count": null,
   "metadata": {
    "vscode": {
     "languageId": "plaintext"
    }
   },
   "outputs": [],
   "source": [
    "docker run my-python-project"
   ]
  },
  {
   "attachments": {},
   "cell_type": "markdown",
   "metadata": {},
   "source": [
    "`docker run` is the command used to run a Docker container. It tells Docker to start a container based on a specified image.\n",
    "\n",
    "When you execute the docker run my-python-project command, Docker performs the following actions:\n",
    "\n",
    "- Checks if the specified image (\"my-python-project\") exists locally. If the image is not found locally, Docker attempts to pull it from a registry (such as Docker Hub) if it has access to the internet.\n",
    "- Creates a new container based on the specified image.\n",
    "- Starts the container and executes the default command specified in the Dockerfile's `CMD` instruction (or any other command you pass as arguments after the image name, if any).\n",
    "\n",
    "## Docker Compose (Optional)\n",
    "\n",
    "Docker Compose is a tool for defining and managing multi-container Docker applications. It allows you to define a YAML file to configure and run multiple services as a single application.\n",
    "\n",
    "- Create a new file named `docker-compose.yml` in your project directory.\n",
    "- Open the `docker-compose.yml` file in a text editor and define your services. Here's an example for a web application with a Node.js backend and a PostgreSQL database:"
   ]
  },
  {
   "cell_type": "code",
   "execution_count": null,
   "metadata": {
    "vscode": {
     "languageId": "plaintext"
    }
   },
   "outputs": [],
   "source": [
    "version: '3.9'\n",
    "services:\n",
    "  app:\n",
    "    build:\n",
    "      context: .\n",
    "      dockerfile: Dockerfile\n",
    "    volumes:\n",
    "      - ./data:/app/data\n",
    "    environment:\n",
    "      - MY_VARIABLE=my_value\n",
    "    ports:\n",
    "      - 8000:8000"
   ]
  },
  {
   "attachments": {},
   "cell_type": "markdown",
   "metadata": {},
   "source": [
    "Let's break down the contents of this Docker Compose file:\n",
    "\n",
    "- `version`: '3.9': Specifies the version of the Docker Compose file format.\n",
    "- `services`: Defines the services (containers) for your application.\n",
    "- `app`: The name of the service. You can choose any name you prefer.\n",
    "- `build`: Specifies the build context for the service.\n",
    "- `context`: .: Sets the build context to the current directory where the Docker Compose file is located.\n",
    "- `dockerfile`: Dockerfile: Specifies the name of the Dockerfile used to build the image for this service. Adjust this if your Dockerfile has a different name.\n",
    "- `volumes`: Mounts a host directory as a volume in the container.\n",
    "- `./data:/app/data`: Mounts the data directory from the host machine to the /app/data directory within the container. Adjust this if your data directory has a different path.\n",
    "- `environment`: Sets environment variables for the container.\n",
    "- `MY_VARIABLE=my_value`: Sets the MY_VARIABLE environment variable to the value my_value. Modify this according to your specific environment variable requirements.\n",
    "- `ports`: Exposes ports from the container to the host machine.\n",
    "- `8000:8000`: Maps port 8000 from the container to port 8000 on the host machine. Modify this if your application listens on a different port.\n",
    "\n",
    "To use this Docker Compose file, create a new file called `docker-compose.yml` and paste the contents into it. Place the file in the same directory as your Dockerfile and any other necessary project files.\n",
    "\n",
    "To start the application, navigate to the directory containing the Docker Compose file and run the following command:"
   ]
  },
  {
   "cell_type": "code",
   "execution_count": null,
   "metadata": {
    "vscode": {
     "languageId": "plaintext"
    }
   },
   "outputs": [],
   "source": [
    "docker-compose up"
   ]
  },
  {
   "attachments": {},
   "cell_type": "markdown",
   "metadata": {},
   "source": [
    "This will start the service defined in the Compose file, build the image using the specified Dockerfile, and run the container based on that image. You should see the logs and output from your application in the terminal."
   ]
  }
 ],
 "metadata": {
  "language_info": {
   "name": "python"
  },
  "orig_nbformat": 4
 },
 "nbformat": 4,
 "nbformat_minor": 2
}
